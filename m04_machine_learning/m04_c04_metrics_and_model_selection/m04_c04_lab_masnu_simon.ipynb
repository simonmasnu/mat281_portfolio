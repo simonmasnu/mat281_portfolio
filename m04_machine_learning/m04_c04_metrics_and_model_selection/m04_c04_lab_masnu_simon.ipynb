{
 "cells": [
  {
   "cell_type": "markdown",
   "metadata": {
    "Collapsed": "false",
    "slideshow": {
     "slide_type": "slide"
    }
   },
   "source": [
    "<img src=\"https://upload.wikimedia.org/wikipedia/commons/4/47/Logo_UTFSM.png\" width=\"200\" alt=\"utfsm-logo\" align=\"left\"/>\n",
    "\n",
    "# MAT281\n",
    "### Aplicaciones de la Matemática en la Ingeniería"
   ]
  },
  {
   "cell_type": "markdown",
   "metadata": {
    "Collapsed": "false",
    "slideshow": {
     "slide_type": "slide"
    }
   },
   "source": [
    "## Módulo 04\n",
    "## Laboratorio Clase 04: Métricas y selección de modelos"
   ]
  },
  {
   "cell_type": "markdown",
   "metadata": {
    "Collapsed": "false"
   },
   "source": [
    "### Instrucciones\n",
    "\n",
    "\n",
    "* Completa tus datos personales (nombre y rol USM) en siguiente celda.\n",
    "* La escala es de 0 a 4 considerando solo valores enteros.\n",
    "* Debes _pushear_ tus cambios a tu repositorio personal del curso.\n",
    "* Como respaldo, debes enviar un archivo .zip con el siguiente formato `mXX_cYY_lab_apellido_nombre.zip` a alonso.ogueda@gmail.com, debe contener todo lo necesario para que se ejecute correctamente cada celda, ya sea datos, imágenes, scripts, etc.\n",
    "* Se evaluará:\n",
    "    - Soluciones\n",
    "    - Código\n",
    "    - Que Binder esté bien configurado.\n",
    "    - Al presionar  `Kernel -> Restart Kernel and Run All Cells` deben ejecutarse todas las celdas sin error."
   ]
  },
  {
   "cell_type": "markdown",
   "metadata": {
    "Collapsed": "false"
   },
   "source": [
    "__Nombre__: Simón Masnú\n",
    "\n",
    "__Rol__: 201503026-K"
   ]
  },
  {
   "cell_type": "markdown",
   "metadata": {
    "Collapsed": "false"
   },
   "source": [
    "En este laboratorio utilizaremos el conjunto de datos _Abolone_. "
   ]
  },
  {
   "cell_type": "markdown",
   "metadata": {
    "Collapsed": "false"
   },
   "source": [
    "**Recuerdo**\n",
    "\n",
    "La base de datos contiene mediciones a 4177 abalones, donde las mediciones posibles son sexo ($S$), peso entero $W_1$, peso sin concha $W_2$, peso de visceras $W_3$, peso de concha  $W_4$, largo ($L$), diametro $D$, altura $H$, y el número de anillos $A$. "
   ]
  },
  {
   "cell_type": "code",
   "execution_count": 11,
   "metadata": {
    "Collapsed": "false"
   },
   "outputs": [],
   "source": [
    "import pandas as pd\n",
    "import numpy as np"
   ]
  },
  {
   "cell_type": "code",
   "execution_count": 12,
   "metadata": {
    "Collapsed": "false"
   },
   "outputs": [
    {
     "data": {
      "text/html": [
       "<div>\n",
       "<style scoped>\n",
       "    .dataframe tbody tr th:only-of-type {\n",
       "        vertical-align: middle;\n",
       "    }\n",
       "\n",
       "    .dataframe tbody tr th {\n",
       "        vertical-align: top;\n",
       "    }\n",
       "\n",
       "    .dataframe thead th {\n",
       "        text-align: right;\n",
       "    }\n",
       "</style>\n",
       "<table border=\"1\" class=\"dataframe\">\n",
       "  <thead>\n",
       "    <tr style=\"text-align: right;\">\n",
       "      <th></th>\n",
       "      <th>sex</th>\n",
       "      <th>length</th>\n",
       "      <th>diameter</th>\n",
       "      <th>height</th>\n",
       "      <th>whole_weight</th>\n",
       "      <th>shucked_weight</th>\n",
       "      <th>viscera_weight</th>\n",
       "      <th>shell_weight</th>\n",
       "      <th>rings</th>\n",
       "    </tr>\n",
       "  </thead>\n",
       "  <tbody>\n",
       "    <tr>\n",
       "      <td>0</td>\n",
       "      <td>1.0</td>\n",
       "      <td>0.455</td>\n",
       "      <td>0.365</td>\n",
       "      <td>0.095</td>\n",
       "      <td>0.5140</td>\n",
       "      <td>0.2245</td>\n",
       "      <td>0.1010</td>\n",
       "      <td>0.150</td>\n",
       "      <td>15.0</td>\n",
       "    </tr>\n",
       "    <tr>\n",
       "      <td>1</td>\n",
       "      <td>1.0</td>\n",
       "      <td>0.350</td>\n",
       "      <td>0.265</td>\n",
       "      <td>0.090</td>\n",
       "      <td>0.2255</td>\n",
       "      <td>0.0995</td>\n",
       "      <td>0.0485</td>\n",
       "      <td>0.070</td>\n",
       "      <td>7.0</td>\n",
       "    </tr>\n",
       "    <tr>\n",
       "      <td>2</td>\n",
       "      <td>-1.0</td>\n",
       "      <td>0.530</td>\n",
       "      <td>0.420</td>\n",
       "      <td>0.135</td>\n",
       "      <td>0.6770</td>\n",
       "      <td>0.2565</td>\n",
       "      <td>0.1415</td>\n",
       "      <td>0.210</td>\n",
       "      <td>9.0</td>\n",
       "    </tr>\n",
       "    <tr>\n",
       "      <td>3</td>\n",
       "      <td>1.0</td>\n",
       "      <td>0.440</td>\n",
       "      <td>0.365</td>\n",
       "      <td>0.125</td>\n",
       "      <td>0.5160</td>\n",
       "      <td>0.2155</td>\n",
       "      <td>0.1140</td>\n",
       "      <td>0.155</td>\n",
       "      <td>10.0</td>\n",
       "    </tr>\n",
       "    <tr>\n",
       "      <td>4</td>\n",
       "      <td>0.0</td>\n",
       "      <td>0.330</td>\n",
       "      <td>0.255</td>\n",
       "      <td>0.080</td>\n",
       "      <td>0.2050</td>\n",
       "      <td>0.0895</td>\n",
       "      <td>0.0395</td>\n",
       "      <td>0.055</td>\n",
       "      <td>7.0</td>\n",
       "    </tr>\n",
       "  </tbody>\n",
       "</table>\n",
       "</div>"
      ],
      "text/plain": [
       "   sex  length  diameter  height  whole_weight  shucked_weight  \\\n",
       "0  1.0   0.455     0.365   0.095        0.5140          0.2245   \n",
       "1  1.0   0.350     0.265   0.090        0.2255          0.0995   \n",
       "2 -1.0   0.530     0.420   0.135        0.6770          0.2565   \n",
       "3  1.0   0.440     0.365   0.125        0.5160          0.2155   \n",
       "4  0.0   0.330     0.255   0.080        0.2050          0.0895   \n",
       "\n",
       "   viscera_weight  shell_weight  rings  \n",
       "0          0.1010         0.150   15.0  \n",
       "1          0.0485         0.070    7.0  \n",
       "2          0.1415         0.210    9.0  \n",
       "3          0.1140         0.155   10.0  \n",
       "4          0.0395         0.055    7.0  "
      ]
     },
     "execution_count": 12,
     "metadata": {},
     "output_type": "execute_result"
    }
   ],
   "source": [
    "abalone = pd.read_csv(\n",
    "    \"data/abalone.data\",\n",
    "    header=None,\n",
    "    names=[\"sex\", \"length\", \"diameter\", \"height\", \"whole_weight\", \"shucked_weight\", \"viscera_weight\", \"shell_weight\", \"rings\"]\n",
    ")\n",
    "\n",
    "abalone_data = (\n",
    "    abalone.assign(sex=lambda x: x[\"sex\"].map({\"M\": 1, \"I\": 0, \"F\": -1}))\n",
    "    .loc[lambda x: x.drop(columns=\"sex\").gt(0).all(axis=1)]\n",
    "    .astype(np.float)\n",
    ")\n",
    "abalone_data.head()"
   ]
  },
  {
   "cell_type": "markdown",
   "metadata": {
    "Collapsed": "false"
   },
   "source": [
    "#### Modelo A\n",
    "Consideramos 9 parámetros, llamados $\\alpha_i$, para el siguiente modelo:\n",
    "$$ \\log(A) = \\alpha_0 +  \\alpha_1 W_1 + \\alpha_2 W_2 +\\alpha_3 W_3 +\\alpha_4 W_4 + \\alpha_5 S + \\alpha_6 \\log L + \\alpha_7 \\log D+  \\alpha_8 \\log H$$"
   ]
  },
  {
   "cell_type": "code",
   "execution_count": 13,
   "metadata": {
    "Collapsed": "false"
   },
   "outputs": [],
   "source": [
    "def train_model_A(data):\n",
    "    y = np.log(data.loc[:, \"rings\"].values.ravel())\n",
    "    X = (\n",
    "        data.assign(\n",
    "            intercept=1.,\n",
    "            length=lambda x: x[\"length\"].apply(np.log),\n",
    "            diameter=lambda x: x[\"diameter\"].apply(np.log),\n",
    "            height=lambda x: x[\"height\"].apply(np.log),\n",
    "        )\n",
    "        .loc[: , [\"intercept\", \"whole_weight\", \"shucked_weight\", \"viscera_weight\", \"shell_weight\", \"sex\", \"length\", \"diameter\", \"height\"]]\n",
    "        .values\n",
    "    )\n",
    "    coeffs = np.linalg.lstsq(X, y, rcond=None)[0]\n",
    "    return coeffs\n",
    "\n",
    "def test_model_A(data, coeffs):\n",
    "    X = (\n",
    "        data.assign(\n",
    "            intercept=1.,\n",
    "            length=lambda x: x[\"length\"].apply(np.log),\n",
    "            diameter=lambda x: x[\"diameter\"].apply(np.log),\n",
    "            height=lambda x: x[\"height\"].apply(np.log),\n",
    "        )\n",
    "        .loc[: , [\"intercept\", \"whole_weight\", \"shucked_weight\", \"viscera_weight\", \"shell_weight\", \"sex\", \"length\", \"diameter\", \"height\"]]\n",
    "        .values\n",
    "    )\n",
    "    ln_anillos = np.dot(X, coeffs)\n",
    "    return np.exp(ln_anillos)"
   ]
  },
  {
   "cell_type": "markdown",
   "metadata": {
    "Collapsed": "false"
   },
   "source": [
    "#### Modelo B\n",
    "Consideramos 6 parámetros, llamados $\\beta_i$, para el siguiente modelo:\n",
    "$$ \\log(A) = \\beta_0 + \\beta_1 W_1 + \\beta_2 W_2 +\\beta_3 W_3 +\\beta W_4 + \\beta_5 \\log( L  D H ) $$"
   ]
  },
  {
   "cell_type": "code",
   "execution_count": 14,
   "metadata": {
    "Collapsed": "false"
   },
   "outputs": [],
   "source": [
    "def train_model_B(data):\n",
    "    y = np.log(data.loc[:, \"rings\"].values.ravel())\n",
    "    X = (\n",
    "        data.assign(\n",
    "            intercept=1.,\n",
    "            ldh=lambda x: (x[\"length\"] * x[\"diameter\"] * x[\"height\"]).apply(np.log),\n",
    "        )\n",
    "        .loc[: , [\"intercept\", \"whole_weight\", \"shucked_weight\", \"viscera_weight\", \"shell_weight\", \"ldh\"]]\n",
    "        .values\n",
    "    )\n",
    "    coeffs = np.linalg.lstsq(X, y, rcond=None)[0]\n",
    "    return coeffs\n",
    "\n",
    "def test_model_B(data, coeffs):\n",
    "    X = (\n",
    "        data.assign(\n",
    "            intercept=1.,\n",
    "            ldh=lambda x: (x[\"length\"] * x[\"diameter\"] * x[\"height\"]).apply(np.log),\n",
    "        )\n",
    "        .loc[: , [\"intercept\", \"whole_weight\", \"shucked_weight\", \"viscera_weight\", \"shell_weight\", \"ldh\"]]\n",
    "        .values\n",
    "    )\n",
    "    ln_anillos = np.dot(X, coeffs)\n",
    "    return np.exp(ln_anillos)"
   ]
  },
  {
   "cell_type": "markdown",
   "metadata": {
    "Collapsed": "false"
   },
   "source": [
    "#### Modelo C\n",
    "Consideramos 12 parámetros, llamados $\\theta_i^{k}$, con $k \\in \\{M, F, I\\}$, para el siguiente modelo:\n",
    "\n",
    "Si $S=male$:\n",
    "$$ \\log(A) = \\theta_0^M + \\theta_1^M W_2  + \\theta_2^M W_4 + \\theta_3^M \\log( L  D H ) $$\n",
    "\n",
    "Si $S=female$\n",
    "$$ \\log(A) = \\theta_0^F + \\theta_1^F W_2  + \\theta_2^F W_4 + \\theta_3^F \\log( L  D H ) $$\n",
    "\n",
    "Si $S=indefined$\n",
    "$$ \\log(A) = \\theta_0^I + \\theta_1^I W_2  + \\theta_2^I W_4 + \\theta_3^I \\log( L  D H ) $$"
   ]
  },
  {
   "cell_type": "code",
   "execution_count": 15,
   "metadata": {
    "Collapsed": "false"
   },
   "outputs": [],
   "source": [
    "def train_model_C(data):\n",
    "    df = (\n",
    "        data.assign(\n",
    "            intercept=1.,\n",
    "            ldh=lambda x: (x[\"length\"] * x[\"diameter\"] * x[\"height\"]).apply(np.log),\n",
    "        )\n",
    "        .loc[: , [\"intercept\", \"shucked_weight\", \"shell_weight\", \"ldh\", \"sex\", \"rings\"]]\n",
    "    )\n",
    "    coeffs_dict = {}\n",
    "    for sex, df_sex in df.groupby(\"sex\"):\n",
    "        X = df_sex.drop(columns=[\"sex\", \"rings\"])\n",
    "        y = np.log(df_sex[\"rings\"].values.ravel())\n",
    "        coeffs_dict[sex] = np.linalg.lstsq(X, y, rcond=None)[0]\n",
    "    return coeffs_dict\n",
    "\n",
    "def test_model_C(data, coeffs_dict):\n",
    "    df = (\n",
    "        data.assign(\n",
    "            intercept=1.,\n",
    "            ldh=lambda x: (x[\"length\"] * x[\"diameter\"] * x[\"height\"]).apply(np.log),\n",
    "        )\n",
    "        .loc[: , [\"intercept\", \"shucked_weight\", \"shell_weight\", \"ldh\", \"sex\", \"rings\"]]\n",
    "    )\n",
    "    pred_dict = {}\n",
    "    for sex, df_sex in df.groupby(\"sex\"):\n",
    "        X = df_sex.drop(columns=[\"sex\", \"rings\"])\n",
    "        ln_anillos = np.dot(X, coeffs_dict[sex])\n",
    "        pred_dict[sex] = np.exp(ln_anillos)\n",
    "    return pred_dict"
   ]
  },
  {
   "cell_type": "markdown",
   "metadata": {
    "Collapsed": "false"
   },
   "source": [
    "### 1. Split Data (1 pto)\n",
    "\n",
    "Crea dos dataframes, uno de entrenamiento (80% de los datos) y otro de test (20% restante de los datos) a partir de `abalone_data`.\n",
    "\n",
    "_Hint:_ `sklearn.model_selection.train_test_split` funciona con dataframes!"
   ]
  },
  {
   "cell_type": "code",
   "execution_count": 57,
   "metadata": {
    "Collapsed": "false"
   },
   "outputs": [
    {
     "data": {
      "text/html": [
       "<div>\n",
       "<style scoped>\n",
       "    .dataframe tbody tr th:only-of-type {\n",
       "        vertical-align: middle;\n",
       "    }\n",
       "\n",
       "    .dataframe tbody tr th {\n",
       "        vertical-align: top;\n",
       "    }\n",
       "\n",
       "    .dataframe thead th {\n",
       "        text-align: right;\n",
       "    }\n",
       "</style>\n",
       "<table border=\"1\" class=\"dataframe\">\n",
       "  <thead>\n",
       "    <tr style=\"text-align: right;\">\n",
       "      <th></th>\n",
       "      <th>sex</th>\n",
       "      <th>length</th>\n",
       "      <th>diameter</th>\n",
       "      <th>height</th>\n",
       "      <th>whole_weight</th>\n",
       "      <th>shucked_weight</th>\n",
       "      <th>viscera_weight</th>\n",
       "      <th>shell_weight</th>\n",
       "      <th>rings</th>\n",
       "    </tr>\n",
       "  </thead>\n",
       "  <tbody>\n",
       "    <tr>\n",
       "      <td>1273</td>\n",
       "      <td>0.0</td>\n",
       "      <td>0.475</td>\n",
       "      <td>0.380</td>\n",
       "      <td>0.120</td>\n",
       "      <td>0.4410</td>\n",
       "      <td>0.1785</td>\n",
       "      <td>0.0885</td>\n",
       "      <td>0.1505</td>\n",
       "      <td>8.0</td>\n",
       "    </tr>\n",
       "    <tr>\n",
       "      <td>1746</td>\n",
       "      <td>1.0</td>\n",
       "      <td>0.700</td>\n",
       "      <td>0.565</td>\n",
       "      <td>0.175</td>\n",
       "      <td>1.8565</td>\n",
       "      <td>0.8445</td>\n",
       "      <td>0.3935</td>\n",
       "      <td>0.5400</td>\n",
       "      <td>10.0</td>\n",
       "    </tr>\n",
       "    <tr>\n",
       "      <td>2518</td>\n",
       "      <td>1.0</td>\n",
       "      <td>0.500</td>\n",
       "      <td>0.400</td>\n",
       "      <td>0.130</td>\n",
       "      <td>0.7715</td>\n",
       "      <td>0.3700</td>\n",
       "      <td>0.1600</td>\n",
       "      <td>0.2110</td>\n",
       "      <td>8.0</td>\n",
       "    </tr>\n",
       "    <tr>\n",
       "      <td>1282</td>\n",
       "      <td>1.0</td>\n",
       "      <td>0.500</td>\n",
       "      <td>0.420</td>\n",
       "      <td>0.135</td>\n",
       "      <td>0.6765</td>\n",
       "      <td>0.3020</td>\n",
       "      <td>0.1415</td>\n",
       "      <td>0.2065</td>\n",
       "      <td>9.0</td>\n",
       "    </tr>\n",
       "    <tr>\n",
       "      <td>3696</td>\n",
       "      <td>1.0</td>\n",
       "      <td>0.650</td>\n",
       "      <td>0.525</td>\n",
       "      <td>0.205</td>\n",
       "      <td>1.4275</td>\n",
       "      <td>0.6900</td>\n",
       "      <td>0.3060</td>\n",
       "      <td>0.4355</td>\n",
       "      <td>13.0</td>\n",
       "    </tr>\n",
       "  </tbody>\n",
       "</table>\n",
       "</div>"
      ],
      "text/plain": [
       "      sex  length  diameter  height  whole_weight  shucked_weight  \\\n",
       "1273  0.0   0.475     0.380   0.120        0.4410          0.1785   \n",
       "1746  1.0   0.700     0.565   0.175        1.8565          0.8445   \n",
       "2518  1.0   0.500     0.400   0.130        0.7715          0.3700   \n",
       "1282  1.0   0.500     0.420   0.135        0.6765          0.3020   \n",
       "3696  1.0   0.650     0.525   0.205        1.4275          0.6900   \n",
       "\n",
       "      viscera_weight  shell_weight  rings  \n",
       "1273          0.0885        0.1505    8.0  \n",
       "1746          0.3935        0.5400   10.0  \n",
       "2518          0.1600        0.2110    8.0  \n",
       "1282          0.1415        0.2065    9.0  \n",
       "3696          0.3060        0.4355   13.0  "
      ]
     },
     "execution_count": 57,
     "metadata": {},
     "output_type": "execute_result"
    }
   ],
   "source": [
    "from sklearn.model_selection import train_test_split\n",
    "\n",
    "abalone_train, abalone_test = train_test_split(abalone_data, test_size=0.20,random_state=42)\n",
    "abalone_train.head()"
   ]
  },
  {
   "cell_type": "markdown",
   "metadata": {
    "Collapsed": "false"
   },
   "source": [
    "### 2. Entrenamiento (1 pto)\n",
    "\n",
    "Utilice las funciones de entrenamiento definidas más arriba con tal de obtener los coeficientes para los datos de entrenamiento. Recuerde que para el modelo C se retorna un diccionario donde la llave corresponde a la columna `sex`."
   ]
  },
  {
   "cell_type": "code",
   "execution_count": 89,
   "metadata": {
    "Collapsed": "false"
   },
   "outputs": [
    {
     "data": {
      "text/plain": [
       "{-1.0: array([ 2.86759386, -0.90403408,  1.43065927,  0.16221719]),\n",
       " 0.0: array([ 2.87325431, -0.93563869,  2.00407826,  0.21565084]),\n",
       " 1.0: array([ 2.8726625 , -0.91397998,  1.64683631,  0.18069527])}"
      ]
     },
     "execution_count": 89,
     "metadata": {},
     "output_type": "execute_result"
    }
   ],
   "source": [
    "coeffs_A = train_model_A(abalone_train)\n",
    "coeffs_B = train_model_B(abalone_train)\n",
    "coeffs_C = train_model_C(abalone_train)"
   ]
  },
  {
   "cell_type": "markdown",
   "metadata": {
    "Collapsed": "false"
   },
   "source": [
    "### 3. Predicción (1 pto)\n",
    "\n",
    "Con los coeficientes de los modelos realize la predicción utilizando el conjunto de test. El resultado debe ser un array de shape `(835, )` por lo que debes concatenar los resultados del modelo C. \n",
    "\n",
    "**Hint**: Usar `np.concatenate`."
   ]
  },
  {
   "cell_type": "code",
   "execution_count": 96,
   "metadata": {
    "Collapsed": "false"
   },
   "outputs": [
    {
     "data": {
      "text/plain": [
       "array([10.41893268, 10.35949778, 14.22488509, 10.7217731 , 11.93150039,\n",
       "       16.74682919,  8.75349703, 10.91952347,  9.98648893,  9.77000482,\n",
       "       11.46234653, 10.73582115,  8.64811428,  9.59163236,  9.40870721,\n",
       "       10.45602437, 11.28986308,  8.43270409, 19.44118195, 12.86863822,\n",
       "        9.54189617, 12.61196575,  9.6563814 , 10.25878593, 10.37579769,\n",
       "       10.27354616,  9.05303532, 11.98313884,  8.73601586, 10.93577993,\n",
       "       11.07604048,  9.97309823,  9.79360935, 11.87168743, 10.28827383,\n",
       "        9.99013484,  8.98510572,  9.80065819, 10.53401221, 11.20961989,\n",
       "       10.05459162, 13.91556598,  9.35191114, 10.38091045, 12.83905403,\n",
       "        9.04239114, 11.42348346, 10.15764886, 10.12682249, 11.77396525,\n",
       "       11.96766392, 10.49594363, 11.28357542, 10.14362459, 11.73395492,\n",
       "       12.29150604, 10.82246127, 12.45477868,  9.62598151, 11.30148101,\n",
       "        9.9287022 , 10.4800496 , 10.99723107, 12.79853416, 12.46409813,\n",
       "       10.12862509,  9.76034824,  8.72605676,  8.06878074, 10.46995791,\n",
       "       11.91067175, 11.48080582, 11.59054704, 10.3101941 , 12.63188934,\n",
       "       11.38020773,  8.22454184, 10.33454072, 11.44926248, 11.12078608,\n",
       "       10.7183703 ,  9.59176069, 12.60050379,  9.26636978, 11.72030078,\n",
       "       10.07931131,  8.85604764,  9.31711247, 11.13218816, 14.37346199,\n",
       "        8.8550004 , 12.13479163, 11.65480675,  8.78102518, 11.8739273 ,\n",
       "        9.34419365, 10.19226396, 16.00053227, 12.58024968, 13.01380514,\n",
       "       15.00945343, 11.5806467 ,  9.49953814,  9.43065574, 11.22738954,\n",
       "        7.48931847, 14.77024654,  8.81392611, 11.81326162, 10.82272284,\n",
       "        9.54889184,  9.28503454,  9.32417497, 10.52993377,  9.02473605,\n",
       "       11.99641411, 18.27551384,  8.8927758 ,  9.99175678,  9.62575205,\n",
       "        8.96258347, 11.01059971,  9.21918851, 13.72133156, 12.68157462,\n",
       "        9.6692892 , 12.36045899, 10.65693094,  9.45109724, 11.10826021,\n",
       "       14.24685962, 10.1855556 ,  9.58375558, 10.85261122, 10.17871354,\n",
       "        9.81594233, 10.0944478 , 10.7560342 ,  9.79212872, 11.51039946,\n",
       "       10.75861894,  9.51641476,  8.89705007, 10.35543441,  9.54034791,\n",
       "       10.78810057, 11.32564161,  9.23622574, 11.0086712 , 11.18657212,\n",
       "       11.80372594, 13.47755516, 11.76571635,  9.5959547 , 12.5700758 ,\n",
       "       10.73124881, 10.21612661, 11.08679663, 10.53923158, 11.7746872 ,\n",
       "        9.2483629 ,  8.39192918,  9.33013834,  9.97517266,  9.44162251,\n",
       "       10.40499111,  8.6337816 , 10.11382647, 11.54276631, 11.69566382,\n",
       "        9.59402996, 10.5096762 , 11.67914803, 13.20437401, 10.84436726,\n",
       "       11.55206677, 10.33147012,  9.76524705, 10.95888559,  8.44872733,\n",
       "       11.16794523,  9.11991584, 12.65138054, 10.18499693,  9.03352851,\n",
       "       10.31391125,  8.72752314, 11.04674387, 12.63825852, 13.07082545,\n",
       "       11.17660948, 11.68323669, 12.75669272, 11.77183564, 10.72548734,\n",
       "       12.67715151,  9.52318948, 11.62220037, 13.09270823, 10.93487296,\n",
       "        9.60148332, 11.5325469 , 10.84236247,  8.62631405, 11.78960701,\n",
       "       11.66464791,  8.19179941, 12.80127756, 12.58578242, 10.56938032,\n",
       "       10.42429678, 10.18568534, 11.22864639,  9.36239273,  9.93870847,\n",
       "       11.02002528,  9.13388859, 10.88821021, 10.470984  , 10.82105281,\n",
       "        8.70260518,  9.3381019 ,  9.71371094, 14.66970853, 11.04022039,\n",
       "       10.8556952 , 10.02340377, 13.53579489, 13.11824957, 13.5869294 ,\n",
       "       13.50128601,  9.43409391, 10.57067787,  9.25469436, 10.38625465,\n",
       "        8.71452804, 11.57625677, 10.08371338, 11.58946122,  9.43455711,\n",
       "       10.07097347, 10.88621769, 14.45936555,  6.82547218,  9.70181656,\n",
       "        8.89716338,  7.59478277,  8.00621824,  7.77773412,  7.12852689,\n",
       "        9.89042572,  7.58500359,  9.28152565,  6.317167  ,  3.81988345,\n",
       "        6.65391969,  7.04085026,  4.05980761,  7.66602923,  8.81795733,\n",
       "        8.37488346,  5.79355077, 13.10547281,  6.38077695,  8.19953687,\n",
       "        7.83650034,  6.0585182 ,  9.0478561 ,  6.9920649 ,  5.78537817,\n",
       "        4.71814918,  3.08163124,  6.91102844,  7.65518664,  7.41389144,\n",
       "        4.98080709,  4.72400258,  5.59207625,  7.83038352,  9.52206717,\n",
       "        7.99134888,  5.34633215,  9.3137897 ,  7.41424522,  5.5987677 ,\n",
       "        5.57883815,  5.36373334,  8.72353754,  7.52077261,  9.29194734,\n",
       "        7.97084476,  6.74213343,  9.65261744,  8.50367794,  8.755865  ,\n",
       "        9.33467826,  5.848325  ,  9.6314022 ,  9.07864074,  5.17807849,\n",
       "        8.24190527,  9.76091656,  9.34506705,  7.35860687,  5.1592233 ,\n",
       "        8.34062052,  8.89721537,  6.69706831,  7.29861664,  9.64287927,\n",
       "       11.73014338, 11.82773924,  6.50067495,  9.13069082,  6.81484592,\n",
       "        8.72858139,  6.01281304,  6.12195762,  5.14924001,  7.62503935,\n",
       "       10.1608793 ,  9.99383031,  6.58586318,  9.73723125,  8.59006302,\n",
       "        9.76745714,  6.9012889 ,  8.36364761,  5.30698238,  9.72790472,\n",
       "        8.94905906, 12.38053155,  9.90135544,  8.99113457,  5.86026407,\n",
       "        6.72632876,  6.91023091,  8.82290987,  7.19048953,  8.06050917,\n",
       "       10.14684924,  8.27444745,  7.15459665,  4.46870566,  8.58689367,\n",
       "        8.92796948,  6.84219057,  3.35511031,  9.33160804,  8.69911756,\n",
       "        6.83331689,  6.66150685,  9.13914433,  8.40997321,  7.99893537,\n",
       "        9.83585125,  4.10195427, 11.30653156,  7.11011207,  8.07114726,\n",
       "        7.70901446,  6.73540927,  6.79989256, 12.16608404,  4.41212358,\n",
       "        8.17250693,  7.87387495, 10.10934124,  7.26248784,  7.94357375,\n",
       "        7.62153293,  4.54208531,  8.65135902,  4.17663607,  8.87623063,\n",
       "       10.94986774,  9.11554537,  7.16912484,  6.87654109,  6.63305391,\n",
       "        7.11457768,  6.29552599,  8.94413239,  7.88219172,  8.79441643,\n",
       "        6.90617437,  7.55202084, 10.11265775,  6.96198284,  7.97984785,\n",
       "        7.15428193,  7.5125992 ,  7.73877469,  6.25166728,  4.13364527,\n",
       "        8.82108389,  7.5865863 ,  7.68461405,  6.46680928,  4.95269818,\n",
       "        4.46040285,  9.60411847,  7.08399826,  8.14059377, 10.00352675,\n",
       "        8.23483539,  6.85886009,  6.6830648 ,  7.96576517,  5.05896188,\n",
       "        5.68473726,  6.86339196,  8.59509482, 10.31815903,  5.44644443,\n",
       "        4.80864419,  8.88271436,  6.05486722,  4.12178759,  7.56474727,\n",
       "        5.88062929,  6.86637829,  6.58718592,  6.74805262,  4.04993046,\n",
       "        6.65280112,  8.58062161,  7.69827772,  4.91103653,  6.96827829,\n",
       "        7.17081376,  7.16882862,  9.46529403,  6.28410492,  7.04188312,\n",
       "       10.9650847 ,  6.54924924,  6.00956168,  6.53605181,  7.00199609,\n",
       "        8.73282703,  4.86875797,  5.1568174 ,  9.35598673,  7.73815324,\n",
       "        9.08887103,  6.62948537,  6.62937148,  5.0323883 ,  5.84916231,\n",
       "        5.95174427, 10.33520962, 11.8400195 ,  7.80926606,  7.99984962,\n",
       "        5.40686165,  6.67414741,  6.61595076,  7.60123331,  7.57162602,\n",
       "        7.34061991,  8.94995768,  7.06861614,  6.82368631,  7.08583164,\n",
       "        7.6980234 ,  7.21794992,  7.94347426,  7.13392124,  8.78336525,\n",
       "        7.69317918,  7.99983147,  5.81213031,  7.9833849 ,  7.51630872,\n",
       "        8.84419267, 11.51633667,  5.25117897,  5.93713403,  8.25867968,\n",
       "        8.00797858,  5.17857241,  5.42448126,  7.09460755,  7.81291673,\n",
       "        6.57207242,  7.77367944,  6.68124867,  7.23519972,  9.52923587,\n",
       "        6.58876802,  9.11609706,  6.60100101,  4.6455042 ,  6.51772573,\n",
       "        8.41705897,  3.67250359,  8.28749455,  7.65798311,  6.01551309,\n",
       "        4.67550104,  9.11204279,  5.85981495,  7.11892218, 11.01738194,\n",
       "        3.76025621,  6.298095  ,  6.40888896, 10.01675228,  7.12187535,\n",
       "       12.84493713,  7.48287738,  7.74246073, 13.17904504,  9.63336695,\n",
       "       11.21949954,  8.29048011,  8.62982028,  8.07098426,  8.20513516,\n",
       "        9.3313998 , 24.17098574, 10.40694616, 11.30876463, 10.57472564,\n",
       "       11.11047339,  9.46337973, 11.66182296, 10.69667673, 11.10758839,\n",
       "        9.49606433,  9.90254584, 11.74868277, 10.09125988,  9.75544219,\n",
       "       11.36646395, 11.44870927, 14.33355427, 10.71780298, 11.44262945,\n",
       "       10.45709813, 11.6416319 , 10.36472025, 11.3847542 ,  9.32500639,\n",
       "       11.52493227,  9.69091157, 11.05724172, 11.5170368 , 10.88115442,\n",
       "        9.55051429,  9.48895521, 13.99554871, 11.09394494, 10.62687733,\n",
       "        9.72323428, 11.24559707, 10.72526771, 11.04894073,  6.2468469 ,\n",
       "       10.18329109,  9.31289924, 12.44632999,  8.6019411 , 12.11472398,\n",
       "       10.53141368,  8.83507284,  8.66269779, 10.33453765, 10.00085693,\n",
       "       11.22458045, 11.15069482, 10.45041223, 11.03078735, 10.63773735,\n",
       "        8.26039837, 12.09272168, 11.59068574,  9.30582597,  8.88458723,\n",
       "        8.86356038, 10.48338319, 10.98390829,  9.7585467 , 14.95148591,\n",
       "        7.9099626 ,  9.76461003, 13.07969983, 13.73807848,  5.23018235,\n",
       "       12.44638917, 11.81284272, 10.33956227,  8.72836498, 11.25585526,\n",
       "       10.3514577 , 10.2478422 , 10.60067221,  9.78798058,  7.53269695,\n",
       "        8.36129596, 10.18904614, 11.26816614, 10.97855149,  8.60807955,\n",
       "       10.77054147,  8.49633709, 10.92302579,  9.07665048, 11.64886614,\n",
       "       11.19463415, 11.19063656, 11.35055376, 10.53304124,  9.37035324,\n",
       "        9.54903208,  9.45427669, 11.23124981, 12.00931581, 13.61529531,\n",
       "       10.09551887, 15.51122963, 10.92270143, 12.73901576,  9.31146884,\n",
       "       10.17531257, 10.87843954, 11.80723424, 12.71822512, 10.83066353,\n",
       "       10.44427912, 12.67421054, 11.07670561,  8.96134174, 11.66266516,\n",
       "        9.76788146, 12.22282604,  9.59185419, 10.18383743, 10.5489663 ,\n",
       "       10.65356128,  9.73751036,  9.50470486, 10.6507368 , 16.47343519,\n",
       "       11.33529703, 10.75345189, 13.33265626,  9.02842803, 11.33645505,\n",
       "       10.17457376, 11.54844395, 10.57803523,  6.65534244, 11.00086902,\n",
       "        8.89945597,  9.96396591, 11.28715447, 11.77839078,  9.97427169,\n",
       "       11.21517204,  9.66770713, 10.80945778,  9.28840296, 10.01090163,\n",
       "        6.81367147,  7.8392538 , 10.86375801, 11.2022874 , 11.21428688,\n",
       "       10.59674067, 10.68194247,  9.72747341, 13.67341954, 11.35816189,\n",
       "        9.31752546,  9.08548715, 11.46684937,  9.93210673, 10.78737191,\n",
       "        8.8491884 , 10.46690358, 10.50457819,  9.7730595 ,  8.2197577 ,\n",
       "        7.22979731,  8.95791882,  8.31894389, 10.26740054, 12.38010165,\n",
       "       10.50939047, 12.3899576 , 14.73531784, 10.7526325 ,  8.86112356,\n",
       "        7.84470709,  9.74777461, 18.75823087, 13.14302505,  9.16104667,\n",
       "       10.44186196, 11.51838207, 10.52439276, 10.06646626, 10.96148409,\n",
       "       11.38212981,  9.8018141 ,  9.91770718,  9.80963561,  9.04672496,\n",
       "        9.90521557,  9.52298617,  9.82929979, 10.26649516, 11.53309039,\n",
       "       10.47737634, 10.91779417,  9.09928578,  9.43151325, 14.09942293,\n",
       "        8.8180437 , 10.97039198,  6.84554033,  9.25469658,  9.02840954,\n",
       "        8.73213776, 10.56903898,  9.11263149, 10.73462529, 12.03927712,\n",
       "       10.18784332,  8.49806078, 10.93887658, 11.38431062, 10.02026901,\n",
       "       11.83662273, 10.5884297 , 11.52179791, 11.52932385, 10.84592517,\n",
       "        8.23066012, 10.06020185, 10.21662879, 12.13436934,  8.15371921,\n",
       "        8.25049833, 10.37851329,  9.58663837, 11.30614221, 10.11986563,\n",
       "        9.21271853, 15.65555173,  8.13791803, 10.03301571,  9.91039442,\n",
       "       10.99290832,  9.64153544,  8.57502462, 10.68634217, 11.79908652,\n",
       "       11.89952091, 11.59496042,  9.84252903, 10.16055646,  6.86508854,\n",
       "        9.52288309,  9.0909999 ,  9.5089889 , 11.98724546, 10.23629133,\n",
       "       11.52707532,  9.44294786, 12.13422783, 10.98820576, 11.84466398,\n",
       "       10.02220969,  9.15251906, 16.86285472,  9.38278126, 11.02249891,\n",
       "        9.96704105, 13.84256533, 10.87662088, 11.55416911, 10.59103967,\n",
       "        9.73054393, 10.06100804, 13.57914932, 11.65906486, 15.66303985,\n",
       "       11.85103068,  9.32742896, 10.32508691, 10.56954338, 13.94728922,\n",
       "       12.93378056,  9.73340053, 12.72831449, 12.28840822, 12.78181484,\n",
       "       16.51951365, 11.33869805,  9.16490103, 11.02081539, 10.78858758,\n",
       "       10.80871966, 10.89837907, 10.32293907,  9.85322035, 12.49877135,\n",
       "       11.66584006,  9.63491994, 10.08279573, 10.42834746, 14.42431044,\n",
       "        8.73262384,  7.83313299,  9.63074192,  9.08417433, 10.39298289,\n",
       "       12.67034547, 12.02166244, 11.37669102, 10.66089836, 10.18614011,\n",
       "        9.27317549,  9.44382205, 12.52422647, 10.99952461, 11.00108448,\n",
       "       10.39658912,  9.84832096,  7.93904952, 13.2488473 ,  7.74708998])"
      ]
     },
     "execution_count": 96,
     "metadata": {},
     "output_type": "execute_result"
    }
   ],
   "source": [
    "y_pred_A = test_model_A(abalone_test,coeffs_A)\n",
    "y_pred_B = test_model_B(abalone_test,coeffs_B)\n",
    "y_pred_C = np.concatenate([test_model_C(abalone_test,coeffs_C)[-1],test_model_C(abalone_test,coeffs_C)[0],test_model_C(abalone_test,coeffs_C)[1]])"
   ]
  },
  {
   "cell_type": "markdown",
   "metadata": {
    "Collapsed": "false"
   },
   "source": [
    "### 4. Cálculo del error (1 pto)\n",
    "\n",
    "Se utilizará el Error Cuadrático Medio (MSE) que se define como \n",
    "\n",
    "$$\\textrm{MSE}(y,\\hat{y}) =\\dfrac{1}{n}\\sum_{t=1}^{n}\\left | y_{t}-\\hat{y}_{t}\\right |^2$$\n",
    "\n",
    "Defina una la función `MSE` y el vectores `y_test_A`, `y_test_B` e `y_test_C` para luego calcular el error para cada modelo. \n",
    "\n",
    "**Ojo:** Nota que al calcular el error cuadrático medio se realiza una resta elemento por elemento, por lo que el orden del vector es importante, en particular para el modelo que separa por `sex`."
   ]
  },
  {
   "cell_type": "code",
   "execution_count": 81,
   "metadata": {
    "Collapsed": "false"
   },
   "outputs": [],
   "source": [
    "def MSE(y_real, y_pred):\n",
    "    return sum(np.absolute(y_real-y_pred)**2)/len(y_real) "
   ]
  },
  {
   "cell_type": "code",
   "execution_count": 106,
   "metadata": {},
   "outputs": [
    {
     "data": {
      "text/plain": [
       "3572     9.0\n",
       "1984    11.0\n",
       "2179    14.0\n",
       "2698     9.0\n",
       "3239    15.0\n",
       "        ... \n",
       "3075    11.0\n",
       "3375    10.0\n",
       "4175    10.0\n",
       "2228    12.0\n",
       "2180    21.0\n",
       "Name: rings, Length: 243, dtype: float64"
      ]
     },
     "execution_count": 106,
     "metadata": {},
     "output_type": "execute_result"
    }
   ],
   "source": [
    "abalone_test[ abalone_test['sex'] == -1].loc[:,'rings']"
   ]
  },
  {
   "cell_type": "code",
   "execution_count": 113,
   "metadata": {
    "Collapsed": "false"
   },
   "outputs": [],
   "source": [
    "y_test_A = abalone_test.loc[:,'rings']\n",
    "y_test_B = abalone_test.loc[:,'rings']\n",
    "y_test_C = np.concatenate([abalone_test[ abalone_test['sex'] == -1].loc[:,'rings']\n",
    "                          ,abalone_test[ abalone_test['sex'] == 0].loc[:,'rings']\n",
    "                          ,abalone_test[ abalone_test['sex'] == 1].loc[:,'rings']]\n",
    "                          ,axis=None) #perdon por el Hard-Coding"
   ]
  },
  {
   "cell_type": "code",
   "execution_count": 110,
   "metadata": {},
   "outputs": [
    {
     "data": {
      "text/plain": [
       "1514    11.0\n",
       "3311    12.0\n",
       "1724    11.0\n",
       "1503    10.0\n",
       "807     15.0\n",
       "        ... \n",
       "2950    11.0\n",
       "1886     9.0\n",
       "1938    10.0\n",
       "733     13.0\n",
       "2391    10.0\n",
       "Name: rings, Length: 835, dtype: float64"
      ]
     },
     "execution_count": 110,
     "metadata": {},
     "output_type": "execute_result"
    }
   ],
   "source": [
    "abalone_test.sort_values(by=['sex']).loc[:,'rings']"
   ]
  },
  {
   "cell_type": "code",
   "execution_count": 111,
   "metadata": {
    "Collapsed": "false"
   },
   "outputs": [],
   "source": [
    "error_A = MSE(y_test_A,y_pred_A)\n",
    "error_B = MSE(y_test_B,y_pred_B)\n",
    "error_C = MSE(y_test_C,y_pred_C)"
   ]
  },
  {
   "cell_type": "code",
   "execution_count": 112,
   "metadata": {
    "Collapsed": "false"
   },
   "outputs": [
    {
     "name": "stdout",
     "output_type": "stream",
     "text": [
      "Error modelo A: 5.13\n",
      "Error modelo B: 5.12\n",
      "Error modelo C: 5.22\n"
     ]
    }
   ],
   "source": [
    "print(f\"Error modelo A: {error_A:.2f}\")\n",
    "print(f\"Error modelo B: {error_B:.2f}\")\n",
    "print(f\"Error modelo C: {error_C:.2f}\")"
   ]
  },
  {
   "cell_type": "markdown",
   "metadata": {
    "Collapsed": "false"
   },
   "source": [
    "**¿Cuál es el mejor modelo considerando esta métrica?**"
   ]
  },
  {
   "cell_type": "markdown",
   "metadata": {
    "Collapsed": "false"
   },
   "source": [
    "El mejor modelo considerando como métrica el `MSE` es el modelo **B**."
   ]
  },
  {
   "cell_type": "code",
   "execution_count": null,
   "metadata": {},
   "outputs": [],
   "source": []
  }
 ],
 "metadata": {
  "celltoolbar": "Slideshow",
  "kernelspec": {
   "display_name": "Python 3",
   "language": "python",
   "name": "python3"
  },
  "language_info": {
   "codemirror_mode": {
    "name": "ipython",
    "version": 3
   },
   "file_extension": ".py",
   "mimetype": "text/x-python",
   "name": "python",
   "nbconvert_exporter": "python",
   "pygments_lexer": "ipython3",
   "version": "3.7.6"
  }
 },
 "nbformat": 4,
 "nbformat_minor": 4
}
