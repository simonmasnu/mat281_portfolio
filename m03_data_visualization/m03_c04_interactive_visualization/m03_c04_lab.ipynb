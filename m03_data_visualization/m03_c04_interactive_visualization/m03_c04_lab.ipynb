{
 "cells": [
  {
   "cell_type": "markdown",
   "metadata": {
    "Collapsed": "false",
    "slideshow": {
     "slide_type": "slide"
    }
   },
   "source": [
    "<img src=\"https://upload.wikimedia.org/wikipedia/commons/4/47/Logo_UTFSM.png\" width=\"200\" alt=\"utfsm-logo\" align=\"left\"/>\n",
    "\n",
    "# MAT281\n",
    "### Aplicaciones de la Matemática en la Ingeniería"
   ]
  },
  {
   "cell_type": "markdown",
   "metadata": {
    "Collapsed": "false",
    "slideshow": {
     "slide_type": "slide"
    }
   },
   "source": [
    "## Módulo 03\n",
    "## Laboratorio Clase 04: Visualización Interactiva"
   ]
  },
  {
   "cell_type": "markdown",
   "metadata": {
    "Collapsed": "false"
   },
   "source": [
    "### Instrucciones\n",
    "\n",
    "\n",
    "* Completa tus datos personales (nombre y rol USM) en siguiente celda.\n",
    "* La escala es de 0 a 4 considerando solo valores enteros.\n",
    "* Debes _pushear_ tus cambios a tu repositorio personal del curso.\n",
    "* Como respaldo, debes enviar un archivo .zip con el siguiente formato `mXX_cYY_lab_apellido_nombre.zip` a alonso.ogueda@gmail.com, debe contener todo lo necesario para que se ejecute correctamente cada celda, ya sea datos, imágenes, scripts, etc.\n",
    "* Se evaluará:\n",
    "    - Soluciones\n",
    "    - Código\n",
    "    - Que Binder esté bien configurado.\n",
    "    - Al presionar  `Kernel -> Restart Kernel and Run All Cells` deben ejecutarse todas las celdas sin error.\n",
    "* __La entrega es al final de esta clase.__"
   ]
  },
  {
   "cell_type": "markdown",
   "metadata": {
    "Collapsed": "false"
   },
   "source": [
    "__Nombre__: Simón Masnú\n",
    "\n",
    "__Rol__: 201503026-K"
   ]
  },
  {
   "cell_type": "code",
   "execution_count": 1,
   "metadata": {
    "Collapsed": "false"
   },
   "outputs": [
    {
     "data": {
      "text/plain": [
       "ThemeRegistry.enable('opaque')"
      ]
     },
     "execution_count": 1,
     "metadata": {},
     "output_type": "execute_result"
    }
   ],
   "source": [
    "import os\n",
    "import numpy as np\n",
    "import pandas as pd\n",
    "import altair as alt\n",
    "\n",
    "alt.themes.enable('opaque')  # Para quienes utilizan temas oscuros en Jupyter Lab"
   ]
  },
  {
   "cell_type": "markdown",
   "metadata": {
    "Collapsed": "false"
   },
   "source": [
    "## Ejercicio 1 (1 pto)\n",
    "\n",
    "Volveremos a utilizar los datos de _European Union lesbian, gay, bisexual and transgender survey (2012)_, para ello los cargaremos tal como en el laboratorio anterior.\n",
    "\n",
    "Utilizando `altair` realiza la siguiente visualización:\n",
    "\n",
    "1. Filtra los datos tal de utilizar solo la pregunta con código `g5`, que corresponde a _All things considered, how satisfied would you say you are with your life these days? *_.\n",
    "2. Debe ser un gráfico de barras horizontal tal que:\n",
    "    1. Para cada grupo mostrar el porcentaje.\n",
    "    2. Colorear por valor de la respuesta (recuerda que la pregunta `g5` tiene respuestas numéricas).\n",
    "    3. Debe haber un gráfico por cada país. Hint: utiliza el encode `row`."
   ]
  },
  {
   "cell_type": "code",
   "execution_count": 2,
   "metadata": {
    "Collapsed": "false"
   },
   "outputs": [
    {
     "data": {
      "text/html": [
       "<div>\n",
       "<style scoped>\n",
       "    .dataframe tbody tr th:only-of-type {\n",
       "        vertical-align: middle;\n",
       "    }\n",
       "\n",
       "    .dataframe tbody tr th {\n",
       "        vertical-align: top;\n",
       "    }\n",
       "\n",
       "    .dataframe thead th {\n",
       "        text-align: right;\n",
       "    }\n",
       "</style>\n",
       "<table border=\"1\" class=\"dataframe\">\n",
       "  <thead>\n",
       "    <tr style=\"text-align: right;\">\n",
       "      <th></th>\n",
       "      <th>country</th>\n",
       "      <th>subset</th>\n",
       "      <th>question_code</th>\n",
       "      <th>question_label</th>\n",
       "      <th>answer</th>\n",
       "      <th>percentage</th>\n",
       "    </tr>\n",
       "  </thead>\n",
       "  <tbody>\n",
       "    <tr>\n",
       "      <td>0</td>\n",
       "      <td>Austria</td>\n",
       "      <td>Lesbian</td>\n",
       "      <td>b1_a</td>\n",
       "      <td>In your opinion, how widespread is offensive l...</td>\n",
       "      <td>Very widespread</td>\n",
       "      <td>8</td>\n",
       "    </tr>\n",
       "    <tr>\n",
       "      <td>1</td>\n",
       "      <td>Austria</td>\n",
       "      <td>Lesbian</td>\n",
       "      <td>b1_a</td>\n",
       "      <td>In your opinion, how widespread is offensive l...</td>\n",
       "      <td>Fairly widespread</td>\n",
       "      <td>34</td>\n",
       "    </tr>\n",
       "    <tr>\n",
       "      <td>2</td>\n",
       "      <td>Austria</td>\n",
       "      <td>Lesbian</td>\n",
       "      <td>b1_a</td>\n",
       "      <td>In your opinion, how widespread is offensive l...</td>\n",
       "      <td>Fairly rare</td>\n",
       "      <td>45</td>\n",
       "    </tr>\n",
       "    <tr>\n",
       "      <td>3</td>\n",
       "      <td>Austria</td>\n",
       "      <td>Lesbian</td>\n",
       "      <td>b1_a</td>\n",
       "      <td>In your opinion, how widespread is offensive l...</td>\n",
       "      <td>Very rare</td>\n",
       "      <td>9</td>\n",
       "    </tr>\n",
       "    <tr>\n",
       "      <td>4</td>\n",
       "      <td>Austria</td>\n",
       "      <td>Lesbian</td>\n",
       "      <td>b1_a</td>\n",
       "      <td>In your opinion, how widespread is offensive l...</td>\n",
       "      <td>Don`t know</td>\n",
       "      <td>4</td>\n",
       "    </tr>\n",
       "  </tbody>\n",
       "</table>\n",
       "</div>"
      ],
      "text/plain": [
       "   country   subset question_code  \\\n",
       "0  Austria  Lesbian          b1_a   \n",
       "1  Austria  Lesbian          b1_a   \n",
       "2  Austria  Lesbian          b1_a   \n",
       "3  Austria  Lesbian          b1_a   \n",
       "4  Austria  Lesbian          b1_a   \n",
       "\n",
       "                                      question_label             answer  \\\n",
       "0  In your opinion, how widespread is offensive l...    Very widespread   \n",
       "1  In your opinion, how widespread is offensive l...  Fairly widespread   \n",
       "2  In your opinion, how widespread is offensive l...        Fairly rare   \n",
       "3  In your opinion, how widespread is offensive l...          Very rare   \n",
       "4  In your opinion, how widespread is offensive l...         Don`t know   \n",
       "\n",
       "   percentage  \n",
       "0           8  \n",
       "1          34  \n",
       "2          45  \n",
       "3           9  \n",
       "4           4  "
      ]
     },
     "execution_count": 2,
     "metadata": {},
     "output_type": "execute_result"
    }
   ],
   "source": [
    "daily_life = (\n",
    "    pd.read_csv(os.path.join(\"data\", \"LGBT_Survey_DailyLife.csv\"))\n",
    "    .query(\"notes != ' [1] '\")\n",
    "    .astype({\"percentage\": \"int\"})\n",
    "    .drop(columns=\"notes\")\n",
    "    .rename(columns={\"CountryCode\": \"country\"})\n",
    ")\n",
    "daily_life.head()"
   ]
  },
  {
   "cell_type": "code",
   "execution_count": 3,
   "metadata": {
    "Collapsed": "false"
   },
   "outputs": [
    {
     "data": {
      "application/vnd.vegalite.v3+json": {
       "$schema": "https://vega.github.io/schema/vega-lite/v3.4.0.json",
       "config": {
        "background": "white",
        "mark": {
         "tooltip": null
        },
        "view": {
         "height": 300,
         "width": 400
        }
       },
       "data": {
        "name": "data-68e9c6908a401d94b7ff22d29d81c692"
       },
       "datasets": {
        "data-68e9c6908a401d94b7ff22d29d81c692": [
         {
          "answer": "1",
          "country": "Austria",
          "percentage": 0,
          "question_code": "g5",
          "question_label": "All things considered, how satisfied would you say you are with your life these days? *",
          "subset": "Lesbian"
         },
         {
          "answer": "10",
          "country": "Austria",
          "percentage": 8,
          "question_code": "g5",
          "question_label": "All things considered, how satisfied would you say you are with your life these days? *",
          "subset": "Lesbian"
         },
         {
          "answer": "2",
          "country": "Austria",
          "percentage": 2,
          "question_code": "g5",
          "question_label": "All things considered, how satisfied would you say you are with your life these days? *",
          "subset": "Lesbian"
         },
         {
          "answer": "3",
          "country": "Austria",
          "percentage": 3,
          "question_code": "g5",
          "question_label": "All things considered, how satisfied would you say you are with your life these days? *",
          "subset": "Lesbian"
         },
         {
          "answer": "4",
          "country": "Austria",
          "percentage": 3,
          "question_code": "g5",
          "question_label": "All things considered, how satisfied would you say you are with your life these days? *",
          "subset": "Lesbian"
         },
         {
          "answer": "5",
          "country": "Austria",
          "percentage": 5,
          "question_code": "g5",
          "question_label": "All things considered, how satisfied would you say you are with your life these days? *",
          "subset": "Lesbian"
         },
         {
          "answer": "6",
          "country": "Austria",
          "percentage": 10,
          "question_code": "g5",
          "question_label": "All things considered, how satisfied would you say you are with your life these days? *",
          "subset": "Lesbian"
         },
         {
          "answer": "7",
          "country": "Austria",
          "percentage": 19,
          "question_code": "g5",
          "question_label": "All things considered, how satisfied would you say you are with your life these days? *",
          "subset": "Lesbian"
         },
         {
          "answer": "8",
          "country": "Austria",
          "percentage": 32,
          "question_code": "g5",
          "question_label": "All things considered, how satisfied would you say you are with your life these days? *",
          "subset": "Lesbian"
         },
         {
          "answer": "9",
          "country": "Austria",
          "percentage": 16,
          "question_code": "g5",
          "question_label": "All things considered, how satisfied would you say you are with your life these days? *",
          "subset": "Lesbian"
         },
         {
          "answer": "1",
          "country": "Austria",
          "percentage": 2,
          "question_code": "g5",
          "question_label": "All things considered, how satisfied would you say you are with your life these days? *",
          "subset": "Gay"
         },
         {
          "answer": "10",
          "country": "Austria",
          "percentage": 7,
          "question_code": "g5",
          "question_label": "All things considered, how satisfied would you say you are with your life these days? *",
          "subset": "Gay"
         },
         {
          "answer": "2",
          "country": "Austria",
          "percentage": 3,
          "question_code": "g5",
          "question_label": "All things considered, how satisfied would you say you are with your life these days? *",
          "subset": "Gay"
         },
         {
          "answer": "3",
          "country": "Austria",
          "percentage": 4,
          "question_code": "g5",
          "question_label": "All things considered, how satisfied would you say you are with your life these days? *",
          "subset": "Gay"
         },
         {
          "answer": "4",
          "country": "Austria",
          "percentage": 4,
          "question_code": "g5",
          "question_label": "All things considered, how satisfied would you say you are with your life these days? *",
          "subset": "Gay"
         },
         {
          "answer": "5",
          "country": "Austria",
          "percentage": 6,
          "question_code": "g5",
          "question_label": "All things considered, how satisfied would you say you are with your life these days? *",
          "subset": "Gay"
         },
         {
          "answer": "6",
          "country": "Austria",
          "percentage": 8,
          "question_code": "g5",
          "question_label": "All things considered, how satisfied would you say you are with your life these days? *",
          "subset": "Gay"
         },
         {
          "answer": "7",
          "country": "Austria",
          "percentage": 19,
          "question_code": "g5",
          "question_label": "All things considered, how satisfied would you say you are with your life these days? *",
          "subset": "Gay"
         },
         {
          "answer": "8",
          "country": "Austria",
          "percentage": 28,
          "question_code": "g5",
          "question_label": "All things considered, how satisfied would you say you are with your life these days? *",
          "subset": "Gay"
         },
         {
          "answer": "9",
          "country": "Austria",
          "percentage": 18,
          "question_code": "g5",
          "question_label": "All things considered, how satisfied would you say you are with your life these days? *",
          "subset": "Gay"
         },
         {
          "answer": "1",
          "country": "Austria",
          "percentage": 1,
          "question_code": "g5",
          "question_label": "All things considered, how satisfied would you say you are with your life these days? *",
          "subset": "Bisexual women"
         },
         {
          "answer": "10",
          "country": "Austria",
          "percentage": 6,
          "question_code": "g5",
          "question_label": "All things considered, how satisfied would you say you are with your life these days? *",
          "subset": "Bisexual women"
         },
         {
          "answer": "2",
          "country": "Austria",
          "percentage": 2,
          "question_code": "g5",
          "question_label": "All things considered, how satisfied would you say you are with your life these days? *",
          "subset": "Bisexual women"
         },
         {
          "answer": "3",
          "country": "Austria",
          "percentage": 2,
          "question_code": "g5",
          "question_label": "All things considered, how satisfied would you say you are with your life these days? *",
          "subset": "Bisexual women"
         },
         {
          "answer": "4",
          "country": "Austria",
          "percentage": 7,
          "question_code": "g5",
          "question_label": "All things considered, how satisfied would you say you are with your life these days? *",
          "subset": "Bisexual women"
         },
         {
          "answer": "5",
          "country": "Austria",
          "percentage": 10,
          "question_code": "g5",
          "question_label": "All things considered, how satisfied would you say you are with your life these days? *",
          "subset": "Bisexual women"
         },
         {
          "answer": "6",
          "country": "Austria",
          "percentage": 8,
          "question_code": "g5",
          "question_label": "All things considered, how satisfied would you say you are with your life these days? *",
          "subset": "Bisexual women"
         },
         {
          "answer": "7",
          "country": "Austria",
          "percentage": 16,
          "question_code": "g5",
          "question_label": "All things considered, how satisfied would you say you are with your life these days? *",
          "subset": "Bisexual women"
         },
         {
          "answer": "8",
          "country": "Austria",
          "percentage": 33,
          "question_code": "g5",
          "question_label": "All things considered, how satisfied would you say you are with your life these days? *",
          "subset": "Bisexual women"
         },
         {
          "answer": "9",
          "country": "Austria",
          "percentage": 14,
          "question_code": "g5",
          "question_label": "All things considered, how satisfied would you say you are with your life these days? *",
          "subset": "Bisexual women"
         },
         {
          "answer": "1",
          "country": "Austria",
          "percentage": 2,
          "question_code": "g5",
          "question_label": "All things considered, how satisfied would you say you are with your life these days? *",
          "subset": "Bisexual men"
         },
         {
          "answer": "10",
          "country": "Austria",
          "percentage": 8,
          "question_code": "g5",
          "question_label": "All things considered, how satisfied would you say you are with your life these days? *",
          "subset": "Bisexual men"
         },
         {
          "answer": "2",
          "country": "Austria",
          "percentage": 3,
          "question_code": "g5",
          "question_label": "All things considered, how satisfied would you say you are with your life these days? *",
          "subset": "Bisexual men"
         },
         {
          "answer": "3",
          "country": "Austria",
          "percentage": 5,
          "question_code": "g5",
          "question_label": "All things considered, how satisfied would you say you are with your life these days? *",
          "subset": "Bisexual men"
         },
         {
          "answer": "4",
          "country": "Austria",
          "percentage": 8,
          "question_code": "g5",
          "question_label": "All things considered, how satisfied would you say you are with your life these days? *",
          "subset": "Bisexual men"
         },
         {
          "answer": "5",
          "country": "Austria",
          "percentage": 5,
          "question_code": "g5",
          "question_label": "All things considered, how satisfied would you say you are with your life these days? *",
          "subset": "Bisexual men"
         },
         {
          "answer": "6",
          "country": "Austria",
          "percentage": 9,
          "question_code": "g5",
          "question_label": "All things considered, how satisfied would you say you are with your life these days? *",
          "subset": "Bisexual men"
         },
         {
          "answer": "7",
          "country": "Austria",
          "percentage": 19,
          "question_code": "g5",
          "question_label": "All things considered, how satisfied would you say you are with your life these days? *",
          "subset": "Bisexual men"
         },
         {
          "answer": "8",
          "country": "Austria",
          "percentage": 27,
          "question_code": "g5",
          "question_label": "All things considered, how satisfied would you say you are with your life these days? *",
          "subset": "Bisexual men"
         },
         {
          "answer": "9",
          "country": "Austria",
          "percentage": 14,
          "question_code": "g5",
          "question_label": "All things considered, how satisfied would you say you are with your life these days? *",
          "subset": "Bisexual men"
         },
         {
          "answer": "1",
          "country": "Austria",
          "percentage": 2,
          "question_code": "g5",
          "question_label": "All things considered, how satisfied would you say you are with your life these days? *",
          "subset": "Transgender"
         },
         {
          "answer": "10",
          "country": "Austria",
          "percentage": 10,
          "question_code": "g5",
          "question_label": "All things considered, how satisfied would you say you are with your life these days? *",
          "subset": "Transgender"
         },
         {
          "answer": "2",
          "country": "Austria",
          "percentage": 4,
          "question_code": "g5",
          "question_label": "All things considered, how satisfied would you say you are with your life these days? *",
          "subset": "Transgender"
         },
         {
          "answer": "3",
          "country": "Austria",
          "percentage": 8,
          "question_code": "g5",
          "question_label": "All things considered, how satisfied would you say you are with your life these days? *",
          "subset": "Transgender"
         },
         {
          "answer": "4",
          "country": "Austria",
          "percentage": 8,
          "question_code": "g5",
          "question_label": "All things considered, how satisfied would you say you are with your life these days? *",
          "subset": "Transgender"
         },
         {
          "answer": "5",
          "country": "Austria",
          "percentage": 10,
          "question_code": "g5",
          "question_label": "All things considered, how satisfied would you say you are with your life these days? *",
          "subset": "Transgender"
         },
         {
          "answer": "6",
          "country": "Austria",
          "percentage": 9,
          "question_code": "g5",
          "question_label": "All things considered, how satisfied would you say you are with your life these days? *",
          "subset": "Transgender"
         },
         {
          "answer": "7",
          "country": "Austria",
          "percentage": 23,
          "question_code": "g5",
          "question_label": "All things considered, how satisfied would you say you are with your life these days? *",
          "subset": "Transgender"
         },
         {
          "answer": "8",
          "country": "Austria",
          "percentage": 14,
          "question_code": "g5",
          "question_label": "All things considered, how satisfied would you say you are with your life these days? *",
          "subset": "Transgender"
         },
         {
          "answer": "9",
          "country": "Austria",
          "percentage": 13,
          "question_code": "g5",
          "question_label": "All things considered, how satisfied would you say you are with your life these days? *",
          "subset": "Transgender"
         },
         {
          "answer": "1",
          "country": "Belgium",
          "percentage": 0,
          "question_code": "g5",
          "question_label": "All things considered, how satisfied would you say you are with your life these days? *",
          "subset": "Lesbian"
         },
         {
          "answer": "10",
          "country": "Belgium",
          "percentage": 8,
          "question_code": "g5",
          "question_label": "All things considered, how satisfied would you say you are with your life these days? *",
          "subset": "Lesbian"
         },
         {
          "answer": "2",
          "country": "Belgium",
          "percentage": 1,
          "question_code": "g5",
          "question_label": "All things considered, how satisfied would you say you are with your life these days? *",
          "subset": "Lesbian"
         },
         {
          "answer": "3",
          "country": "Belgium",
          "percentage": 1,
          "question_code": "g5",
          "question_label": "All things considered, how satisfied would you say you are with your life these days? *",
          "subset": "Lesbian"
         },
         {
          "answer": "4",
          "country": "Belgium",
          "percentage": 4,
          "question_code": "g5",
          "question_label": "All things considered, how satisfied would you say you are with your life these days? *",
          "subset": "Lesbian"
         },
         {
          "answer": "5",
          "country": "Belgium",
          "percentage": 6,
          "question_code": "g5",
          "question_label": "All things considered, how satisfied would you say you are with your life these days? *",
          "subset": "Lesbian"
         },
         {
          "answer": "6",
          "country": "Belgium",
          "percentage": 11,
          "question_code": "g5",
          "question_label": "All things considered, how satisfied would you say you are with your life these days? *",
          "subset": "Lesbian"
         },
         {
          "answer": "7",
          "country": "Belgium",
          "percentage": 22,
          "question_code": "g5",
          "question_label": "All things considered, how satisfied would you say you are with your life these days? *",
          "subset": "Lesbian"
         },
         {
          "answer": "8",
          "country": "Belgium",
          "percentage": 31,
          "question_code": "g5",
          "question_label": "All things considered, how satisfied would you say you are with your life these days? *",
          "subset": "Lesbian"
         },
         {
          "answer": "9",
          "country": "Belgium",
          "percentage": 17,
          "question_code": "g5",
          "question_label": "All things considered, how satisfied would you say you are with your life these days? *",
          "subset": "Lesbian"
         },
         {
          "answer": "1",
          "country": "Belgium",
          "percentage": 1,
          "question_code": "g5",
          "question_label": "All things considered, how satisfied would you say you are with your life these days? *",
          "subset": "Gay"
         },
         {
          "answer": "10",
          "country": "Belgium",
          "percentage": 6,
          "question_code": "g5",
          "question_label": "All things considered, how satisfied would you say you are with your life these days? *",
          "subset": "Gay"
         },
         {
          "answer": "2",
          "country": "Belgium",
          "percentage": 1,
          "question_code": "g5",
          "question_label": "All things considered, how satisfied would you say you are with your life these days? *",
          "subset": "Gay"
         },
         {
          "answer": "3",
          "country": "Belgium",
          "percentage": 3,
          "question_code": "g5",
          "question_label": "All things considered, how satisfied would you say you are with your life these days? *",
          "subset": "Gay"
         },
         {
          "answer": "4",
          "country": "Belgium",
          "percentage": 4,
          "question_code": "g5",
          "question_label": "All things considered, how satisfied would you say you are with your life these days? *",
          "subset": "Gay"
         },
         {
          "answer": "5",
          "country": "Belgium",
          "percentage": 5,
          "question_code": "g5",
          "question_label": "All things considered, how satisfied would you say you are with your life these days? *",
          "subset": "Gay"
         },
         {
          "answer": "6",
          "country": "Belgium",
          "percentage": 10,
          "question_code": "g5",
          "question_label": "All things considered, how satisfied would you say you are with your life these days? *",
          "subset": "Gay"
         },
         {
          "answer": "7",
          "country": "Belgium",
          "percentage": 24,
          "question_code": "g5",
          "question_label": "All things considered, how satisfied would you say you are with your life these days? *",
          "subset": "Gay"
         },
         {
          "answer": "8",
          "country": "Belgium",
          "percentage": 30,
          "question_code": "g5",
          "question_label": "All things considered, how satisfied would you say you are with your life these days? *",
          "subset": "Gay"
         },
         {
          "answer": "9",
          "country": "Belgium",
          "percentage": 16,
          "question_code": "g5",
          "question_label": "All things considered, how satisfied would you say you are with your life these days? *",
          "subset": "Gay"
         },
         {
          "answer": "1",
          "country": "Belgium",
          "percentage": 2,
          "question_code": "g5",
          "question_label": "All things considered, how satisfied would you say you are with your life these days? *",
          "subset": "Bisexual women"
         },
         {
          "answer": "10",
          "country": "Belgium",
          "percentage": 7,
          "question_code": "g5",
          "question_label": "All things considered, how satisfied would you say you are with your life these days? *",
          "subset": "Bisexual women"
         },
         {
          "answer": "3",
          "country": "Belgium",
          "percentage": 1,
          "question_code": "g5",
          "question_label": "All things considered, how satisfied would you say you are with your life these days? *",
          "subset": "Bisexual women"
         },
         {
          "answer": "4",
          "country": "Belgium",
          "percentage": 3,
          "question_code": "g5",
          "question_label": "All things considered, how satisfied would you say you are with your life these days? *",
          "subset": "Bisexual women"
         },
         {
          "answer": "5",
          "country": "Belgium",
          "percentage": 13,
          "question_code": "g5",
          "question_label": "All things considered, how satisfied would you say you are with your life these days? *",
          "subset": "Bisexual women"
         },
         {
          "answer": "6",
          "country": "Belgium",
          "percentage": 11,
          "question_code": "g5",
          "question_label": "All things considered, how satisfied would you say you are with your life these days? *",
          "subset": "Bisexual women"
         },
         {
          "answer": "7",
          "country": "Belgium",
          "percentage": 23,
          "question_code": "g5",
          "question_label": "All things considered, how satisfied would you say you are with your life these days? *",
          "subset": "Bisexual women"
         },
         {
          "answer": "8",
          "country": "Belgium",
          "percentage": 32,
          "question_code": "g5",
          "question_label": "All things considered, how satisfied would you say you are with your life these days? *",
          "subset": "Bisexual women"
         },
         {
          "answer": "9",
          "country": "Belgium",
          "percentage": 9,
          "question_code": "g5",
          "question_label": "All things considered, how satisfied would you say you are with your life these days? *",
          "subset": "Bisexual women"
         },
         {
          "answer": "1",
          "country": "Belgium",
          "percentage": 2,
          "question_code": "g5",
          "question_label": "All things considered, how satisfied would you say you are with your life these days? *",
          "subset": "Bisexual men"
         },
         {
          "answer": "10",
          "country": "Belgium",
          "percentage": 6,
          "question_code": "g5",
          "question_label": "All things considered, how satisfied would you say you are with your life these days? *",
          "subset": "Bisexual men"
         },
         {
          "answer": "2",
          "country": "Belgium",
          "percentage": 2,
          "question_code": "g5",
          "question_label": "All things considered, how satisfied would you say you are with your life these days? *",
          "subset": "Bisexual men"
         },
         {
          "answer": "3",
          "country": "Belgium",
          "percentage": 4,
          "question_code": "g5",
          "question_label": "All things considered, how satisfied would you say you are with your life these days? *",
          "subset": "Bisexual men"
         },
         {
          "answer": "4",
          "country": "Belgium",
          "percentage": 4,
          "question_code": "g5",
          "question_label": "All things considered, how satisfied would you say you are with your life these days? *",
          "subset": "Bisexual men"
         },
         {
          "answer": "5",
          "country": "Belgium",
          "percentage": 6,
          "question_code": "g5",
          "question_label": "All things considered, how satisfied would you say you are with your life these days? *",
          "subset": "Bisexual men"
         },
         {
          "answer": "6",
          "country": "Belgium",
          "percentage": 13,
          "question_code": "g5",
          "question_label": "All things considered, how satisfied would you say you are with your life these days? *",
          "subset": "Bisexual men"
         },
         {
          "answer": "7",
          "country": "Belgium",
          "percentage": 24,
          "question_code": "g5",
          "question_label": "All things considered, how satisfied would you say you are with your life these days? *",
          "subset": "Bisexual men"
         },
         {
          "answer": "8",
          "country": "Belgium",
          "percentage": 26,
          "question_code": "g5",
          "question_label": "All things considered, how satisfied would you say you are with your life these days? *",
          "subset": "Bisexual men"
         },
         {
          "answer": "9",
          "country": "Belgium",
          "percentage": 13,
          "question_code": "g5",
          "question_label": "All things considered, how satisfied would you say you are with your life these days? *",
          "subset": "Bisexual men"
         },
         {
          "answer": "1",
          "country": "Belgium",
          "percentage": 3,
          "question_code": "g5",
          "question_label": "All things considered, how satisfied would you say you are with your life these days? *",
          "subset": "Transgender"
         },
         {
          "answer": "10",
          "country": "Belgium",
          "percentage": 9,
          "question_code": "g5",
          "question_label": "All things considered, how satisfied would you say you are with your life these days? *",
          "subset": "Transgender"
         },
         {
          "answer": "2",
          "country": "Belgium",
          "percentage": 3,
          "question_code": "g5",
          "question_label": "All things considered, how satisfied would you say you are with your life these days? *",
          "subset": "Transgender"
         },
         {
          "answer": "3",
          "country": "Belgium",
          "percentage": 8,
          "question_code": "g5",
          "question_label": "All things considered, how satisfied would you say you are with your life these days? *",
          "subset": "Transgender"
         },
         {
          "answer": "4",
          "country": "Belgium",
          "percentage": 6,
          "question_code": "g5",
          "question_label": "All things considered, how satisfied would you say you are with your life these days? *",
          "subset": "Transgender"
         },
         {
          "answer": "5",
          "country": "Belgium",
          "percentage": 7,
          "question_code": "g5",
          "question_label": "All things considered, how satisfied would you say you are with your life these days? *",
          "subset": "Transgender"
         },
         {
          "answer": "6",
          "country": "Belgium",
          "percentage": 15,
          "question_code": "g5",
          "question_label": "All things considered, how satisfied would you say you are with your life these days? *",
          "subset": "Transgender"
         },
         {
          "answer": "7",
          "country": "Belgium",
          "percentage": 25,
          "question_code": "g5",
          "question_label": "All things considered, how satisfied would you say you are with your life these days? *",
          "subset": "Transgender"
         },
         {
          "answer": "8",
          "country": "Belgium",
          "percentage": 17,
          "question_code": "g5",
          "question_label": "All things considered, how satisfied would you say you are with your life these days? *",
          "subset": "Transgender"
         },
         {
          "answer": "9",
          "country": "Belgium",
          "percentage": 7,
          "question_code": "g5",
          "question_label": "All things considered, how satisfied would you say you are with your life these days? *",
          "subset": "Transgender"
         },
         {
          "answer": "1",
          "country": "Bulgaria",
          "percentage": 4,
          "question_code": "g5",
          "question_label": "All things considered, how satisfied would you say you are with your life these days? *",
          "subset": "Lesbian"
         },
         {
          "answer": "10",
          "country": "Bulgaria",
          "percentage": 4,
          "question_code": "g5",
          "question_label": "All things considered, how satisfied would you say you are with your life these days? *",
          "subset": "Lesbian"
         },
         {
          "answer": "2",
          "country": "Bulgaria",
          "percentage": 3,
          "question_code": "g5",
          "question_label": "All things considered, how satisfied would you say you are with your life these days? *",
          "subset": "Lesbian"
         },
         {
          "answer": "3",
          "country": "Bulgaria",
          "percentage": 12,
          "question_code": "g5",
          "question_label": "All things considered, how satisfied would you say you are with your life these days? *",
          "subset": "Lesbian"
         },
         {
          "answer": "4",
          "country": "Bulgaria",
          "percentage": 10,
          "question_code": "g5",
          "question_label": "All things considered, how satisfied would you say you are with your life these days? *",
          "subset": "Lesbian"
         },
         {
          "answer": "5",
          "country": "Bulgaria",
          "percentage": 16,
          "question_code": "g5",
          "question_label": "All things considered, how satisfied would you say you are with your life these days? *",
          "subset": "Lesbian"
         },
         {
          "answer": "6",
          "country": "Bulgaria",
          "percentage": 15,
          "question_code": "g5",
          "question_label": "All things considered, how satisfied would you say you are with your life these days? *",
          "subset": "Lesbian"
         },
         {
          "answer": "7",
          "country": "Bulgaria",
          "percentage": 20,
          "question_code": "g5",
          "question_label": "All things considered, how satisfied would you say you are with your life these days? *",
          "subset": "Lesbian"
         },
         {
          "answer": "8",
          "country": "Bulgaria",
          "percentage": 12,
          "question_code": "g5",
          "question_label": "All things considered, how satisfied would you say you are with your life these days? *",
          "subset": "Lesbian"
         },
         {
          "answer": "9",
          "country": "Bulgaria",
          "percentage": 5,
          "question_code": "g5",
          "question_label": "All things considered, how satisfied would you say you are with your life these days? *",
          "subset": "Lesbian"
         },
         {
          "answer": "1",
          "country": "Bulgaria",
          "percentage": 7,
          "question_code": "g5",
          "question_label": "All things considered, how satisfied would you say you are with your life these days? *",
          "subset": "Gay"
         },
         {
          "answer": "10",
          "country": "Bulgaria",
          "percentage": 3,
          "question_code": "g5",
          "question_label": "All things considered, how satisfied would you say you are with your life these days? *",
          "subset": "Gay"
         },
         {
          "answer": "2",
          "country": "Bulgaria",
          "percentage": 6,
          "question_code": "g5",
          "question_label": "All things considered, how satisfied would you say you are with your life these days? *",
          "subset": "Gay"
         },
         {
          "answer": "3",
          "country": "Bulgaria",
          "percentage": 13,
          "question_code": "g5",
          "question_label": "All things considered, how satisfied would you say you are with your life these days? *",
          "subset": "Gay"
         },
         {
          "answer": "4",
          "country": "Bulgaria",
          "percentage": 11,
          "question_code": "g5",
          "question_label": "All things considered, how satisfied would you say you are with your life these days? *",
          "subset": "Gay"
         },
         {
          "answer": "5",
          "country": "Bulgaria",
          "percentage": 13,
          "question_code": "g5",
          "question_label": "All things considered, how satisfied would you say you are with your life these days? *",
          "subset": "Gay"
         },
         {
          "answer": "6",
          "country": "Bulgaria",
          "percentage": 14,
          "question_code": "g5",
          "question_label": "All things considered, how satisfied would you say you are with your life these days? *",
          "subset": "Gay"
         },
         {
          "answer": "7",
          "country": "Bulgaria",
          "percentage": 17,
          "question_code": "g5",
          "question_label": "All things considered, how satisfied would you say you are with your life these days? *",
          "subset": "Gay"
         },
         {
          "answer": "8",
          "country": "Bulgaria",
          "percentage": 10,
          "question_code": "g5",
          "question_label": "All things considered, how satisfied would you say you are with your life these days? *",
          "subset": "Gay"
         },
         {
          "answer": "9",
          "country": "Bulgaria",
          "percentage": 7,
          "question_code": "g5",
          "question_label": "All things considered, how satisfied would you say you are with your life these days? *",
          "subset": "Gay"
         },
         {
          "answer": "1",
          "country": "Bulgaria",
          "percentage": 6,
          "question_code": "g5",
          "question_label": "All things considered, how satisfied would you say you are with your life these days? *",
          "subset": "Bisexual women"
         },
         {
          "answer": "10",
          "country": "Bulgaria",
          "percentage": 3,
          "question_code": "g5",
          "question_label": "All things considered, how satisfied would you say you are with your life these days? *",
          "subset": "Bisexual women"
         },
         {
          "answer": "2",
          "country": "Bulgaria",
          "percentage": 3,
          "question_code": "g5",
          "question_label": "All things considered, how satisfied would you say you are with your life these days? *",
          "subset": "Bisexual women"
         },
         {
          "answer": "3",
          "country": "Bulgaria",
          "percentage": 7,
          "question_code": "g5",
          "question_label": "All things considered, how satisfied would you say you are with your life these days? *",
          "subset": "Bisexual women"
         },
         {
          "answer": "4",
          "country": "Bulgaria",
          "percentage": 8,
          "question_code": "g5",
          "question_label": "All things considered, how satisfied would you say you are with your life these days? *",
          "subset": "Bisexual women"
         },
         {
          "answer": "5",
          "country": "Bulgaria",
          "percentage": 16,
          "question_code": "g5",
          "question_label": "All things considered, how satisfied would you say you are with your life these days? *",
          "subset": "Bisexual women"
         },
         {
          "answer": "6",
          "country": "Bulgaria",
          "percentage": 14,
          "question_code": "g5",
          "question_label": "All things considered, how satisfied would you say you are with your life these days? *",
          "subset": "Bisexual women"
         },
         {
          "answer": "7",
          "country": "Bulgaria",
          "percentage": 17,
          "question_code": "g5",
          "question_label": "All things considered, how satisfied would you say you are with your life these days? *",
          "subset": "Bisexual women"
         },
         {
          "answer": "8",
          "country": "Bulgaria",
          "percentage": 16,
          "question_code": "g5",
          "question_label": "All things considered, how satisfied would you say you are with your life these days? *",
          "subset": "Bisexual women"
         },
         {
          "answer": "9",
          "country": "Bulgaria",
          "percentage": 10,
          "question_code": "g5",
          "question_label": "All things considered, how satisfied would you say you are with your life these days? *",
          "subset": "Bisexual women"
         },
         {
          "answer": "1",
          "country": "Bulgaria",
          "percentage": 6,
          "question_code": "g5",
          "question_label": "All things considered, how satisfied would you say you are with your life these days? *",
          "subset": "Bisexual men"
         },
         {
          "answer": "10",
          "country": "Bulgaria",
          "percentage": 6,
          "question_code": "g5",
          "question_label": "All things considered, how satisfied would you say you are with your life these days? *",
          "subset": "Bisexual men"
         },
         {
          "answer": "2",
          "country": "Bulgaria",
          "percentage": 1,
          "question_code": "g5",
          "question_label": "All things considered, how satisfied would you say you are with your life these days? *",
          "subset": "Bisexual men"
         },
         {
          "answer": "3",
          "country": "Bulgaria",
          "percentage": 13,
          "question_code": "g5",
          "question_label": "All things considered, how satisfied would you say you are with your life these days? *",
          "subset": "Bisexual men"
         },
         {
          "answer": "4",
          "country": "Bulgaria",
          "percentage": 9,
          "question_code": "g5",
          "question_label": "All things considered, how satisfied would you say you are with your life these days? *",
          "subset": "Bisexual men"
         },
         {
          "answer": "5",
          "country": "Bulgaria",
          "percentage": 10,
          "question_code": "g5",
          "question_label": "All things considered, how satisfied would you say you are with your life these days? *",
          "subset": "Bisexual men"
         },
         {
          "answer": "6",
          "country": "Bulgaria",
          "percentage": 15,
          "question_code": "g5",
          "question_label": "All things considered, how satisfied would you say you are with your life these days? *",
          "subset": "Bisexual men"
         },
         {
          "answer": "7",
          "country": "Bulgaria",
          "percentage": 24,
          "question_code": "g5",
          "question_label": "All things considered, how satisfied would you say you are with your life these days? *",
          "subset": "Bisexual men"
         },
         {
          "answer": "8",
          "country": "Bulgaria",
          "percentage": 8,
          "question_code": "g5",
          "question_label": "All things considered, how satisfied would you say you are with your life these days? *",
          "subset": "Bisexual men"
         },
         {
          "answer": "9",
          "country": "Bulgaria",
          "percentage": 8,
          "question_code": "g5",
          "question_label": "All things considered, how satisfied would you say you are with your life these days? *",
          "subset": "Bisexual men"
         },
         {
          "answer": "1",
          "country": "Bulgaria",
          "percentage": 13,
          "question_code": "g5",
          "question_label": "All things considered, how satisfied would you say you are with your life these days? *",
          "subset": "Transgender"
         },
         {
          "answer": "10",
          "country": "Bulgaria",
          "percentage": 3,
          "question_code": "g5",
          "question_label": "All things considered, how satisfied would you say you are with your life these days? *",
          "subset": "Transgender"
         },
         {
          "answer": "2",
          "country": "Bulgaria",
          "percentage": 2,
          "question_code": "g5",
          "question_label": "All things considered, how satisfied would you say you are with your life these days? *",
          "subset": "Transgender"
         },
         {
          "answer": "3",
          "country": "Bulgaria",
          "percentage": 10,
          "question_code": "g5",
          "question_label": "All things considered, how satisfied would you say you are with your life these days? *",
          "subset": "Transgender"
         },
         {
          "answer": "4",
          "country": "Bulgaria",
          "percentage": 17,
          "question_code": "g5",
          "question_label": "All things considered, how satisfied would you say you are with your life these days? *",
          "subset": "Transgender"
         },
         {
          "answer": "5",
          "country": "Bulgaria",
          "percentage": 18,
          "question_code": "g5",
          "question_label": "All things considered, how satisfied would you say you are with your life these days? *",
          "subset": "Transgender"
         },
         {
          "answer": "6",
          "country": "Bulgaria",
          "percentage": 10,
          "question_code": "g5",
          "question_label": "All things considered, how satisfied would you say you are with your life these days? *",
          "subset": "Transgender"
         },
         {
          "answer": "7",
          "country": "Bulgaria",
          "percentage": 12,
          "question_code": "g5",
          "question_label": "All things considered, how satisfied would you say you are with your life these days? *",
          "subset": "Transgender"
         },
         {
          "answer": "8",
          "country": "Bulgaria",
          "percentage": 8,
          "question_code": "g5",
          "question_label": "All things considered, how satisfied would you say you are with your life these days? *",
          "subset": "Transgender"
         },
         {
          "answer": "9",
          "country": "Bulgaria",
          "percentage": 9,
          "question_code": "g5",
          "question_label": "All things considered, how satisfied would you say you are with your life these days? *",
          "subset": "Transgender"
         },
         {
          "answer": "1",
          "country": "Cyprus",
          "percentage": 8,
          "question_code": "g5",
          "question_label": "All things considered, how satisfied would you say you are with your life these days? *",
          "subset": "Lesbian"
         },
         {
          "answer": "10",
          "country": "Cyprus",
          "percentage": 2,
          "question_code": "g5",
          "question_label": "All things considered, how satisfied would you say you are with your life these days? *",
          "subset": "Lesbian"
         },
         {
          "answer": "2",
          "country": "Cyprus",
          "percentage": 5,
          "question_code": "g5",
          "question_label": "All things considered, how satisfied would you say you are with your life these days? *",
          "subset": "Lesbian"
         },
         {
          "answer": "3",
          "country": "Cyprus",
          "percentage": 15,
          "question_code": "g5",
          "question_label": "All things considered, how satisfied would you say you are with your life these days? *",
          "subset": "Lesbian"
         },
         {
          "answer": "4",
          "country": "Cyprus",
          "percentage": 12,
          "question_code": "g5",
          "question_label": "All things considered, how satisfied would you say you are with your life these days? *",
          "subset": "Lesbian"
         },
         {
          "answer": "5",
          "country": "Cyprus",
          "percentage": 18,
          "question_code": "g5",
          "question_label": "All things considered, how satisfied would you say you are with your life these days? *",
          "subset": "Lesbian"
         },
         {
          "answer": "6",
          "country": "Cyprus",
          "percentage": 10,
          "question_code": "g5",
          "question_label": "All things considered, how satisfied would you say you are with your life these days? *",
          "subset": "Lesbian"
         },
         {
          "answer": "7",
          "country": "Cyprus",
          "percentage": 15,
          "question_code": "g5",
          "question_label": "All things considered, how satisfied would you say you are with your life these days? *",
          "subset": "Lesbian"
         },
         {
          "answer": "8",
          "country": "Cyprus",
          "percentage": 12,
          "question_code": "g5",
          "question_label": "All things considered, how satisfied would you say you are with your life these days? *",
          "subset": "Lesbian"
         },
         {
          "answer": "9",
          "country": "Cyprus",
          "percentage": 2,
          "question_code": "g5",
          "question_label": "All things considered, how satisfied would you say you are with your life these days? *",
          "subset": "Lesbian"
         },
         {
          "answer": "1",
          "country": "Cyprus",
          "percentage": 8,
          "question_code": "g5",
          "question_label": "All things considered, how satisfied would you say you are with your life these days? *",
          "subset": "Gay"
         },
         {
          "answer": "10",
          "country": "Cyprus",
          "percentage": 2,
          "question_code": "g5",
          "question_label": "All things considered, how satisfied would you say you are with your life these days? *",
          "subset": "Gay"
         },
         {
          "answer": "2",
          "country": "Cyprus",
          "percentage": 5,
          "question_code": "g5",
          "question_label": "All things considered, how satisfied would you say you are with your life these days? *",
          "subset": "Gay"
         },
         {
          "answer": "3",
          "country": "Cyprus",
          "percentage": 9,
          "question_code": "g5",
          "question_label": "All things considered, how satisfied would you say you are with your life these days? *",
          "subset": "Gay"
         },
         {
          "answer": "4",
          "country": "Cyprus",
          "percentage": 7,
          "question_code": "g5",
          "question_label": "All things considered, how satisfied would you say you are with your life these days? *",
          "subset": "Gay"
         },
         {
          "answer": "5",
          "country": "Cyprus",
          "percentage": 13,
          "question_code": "g5",
          "question_label": "All things considered, how satisfied would you say you are with your life these days? *",
          "subset": "Gay"
         },
         {
          "answer": "6",
          "country": "Cyprus",
          "percentage": 21,
          "question_code": "g5",
          "question_label": "All things considered, how satisfied would you say you are with your life these days? *",
          "subset": "Gay"
         },
         {
          "answer": "7",
          "country": "Cyprus",
          "percentage": 16,
          "question_code": "g5",
          "question_label": "All things considered, how satisfied would you say you are with your life these days? *",
          "subset": "Gay"
         },
         {
          "answer": "8",
          "country": "Cyprus",
          "percentage": 15,
          "question_code": "g5",
          "question_label": "All things considered, how satisfied would you say you are with your life these days? *",
          "subset": "Gay"
         },
         {
          "answer": "9",
          "country": "Cyprus",
          "percentage": 4,
          "question_code": "g5",
          "question_label": "All things considered, how satisfied would you say you are with your life these days? *",
          "subset": "Gay"
         },
         {
          "answer": "1",
          "country": "Cyprus",
          "percentage": 8,
          "question_code": "g5",
          "question_label": "All things considered, how satisfied would you say you are with your life these days? *",
          "subset": "Transgender"
         },
         {
          "answer": "10",
          "country": "Cyprus",
          "percentage": 12,
          "question_code": "g5",
          "question_label": "All things considered, how satisfied would you say you are with your life these days? *",
          "subset": "Transgender"
         },
         {
          "answer": "3",
          "country": "Cyprus",
          "percentage": 8,
          "question_code": "g5",
          "question_label": "All things considered, how satisfied would you say you are with your life these days? *",
          "subset": "Transgender"
         },
         {
          "answer": "4",
          "country": "Cyprus",
          "percentage": 8,
          "question_code": "g5",
          "question_label": "All things considered, how satisfied would you say you are with your life these days? *",
          "subset": "Transgender"
         },
         {
          "answer": "5",
          "country": "Cyprus",
          "percentage": 21,
          "question_code": "g5",
          "question_label": "All things considered, how satisfied would you say you are with your life these days? *",
          "subset": "Transgender"
         },
         {
          "answer": "6",
          "country": "Cyprus",
          "percentage": 21,
          "question_code": "g5",
          "question_label": "All things considered, how satisfied would you say you are with your life these days? *",
          "subset": "Transgender"
         },
         {
          "answer": "8",
          "country": "Cyprus",
          "percentage": 8,
          "question_code": "g5",
          "question_label": "All things considered, how satisfied would you say you are with your life these days? *",
          "subset": "Transgender"
         },
         {
          "answer": "9",
          "country": "Cyprus",
          "percentage": 12,
          "question_code": "g5",
          "question_label": "All things considered, how satisfied would you say you are with your life these days? *",
          "subset": "Transgender"
         },
         {
          "answer": "1",
          "country": "Czech Republic",
          "percentage": 2,
          "question_code": "g5",
          "question_label": "All things considered, how satisfied would you say you are with your life these days? *",
          "subset": "Lesbian"
         },
         {
          "answer": "10",
          "country": "Czech Republic",
          "percentage": 7,
          "question_code": "g5",
          "question_label": "All things considered, how satisfied would you say you are with your life these days? *",
          "subset": "Lesbian"
         },
         {
          "answer": "2",
          "country": "Czech Republic",
          "percentage": 2,
          "question_code": "g5",
          "question_label": "All things considered, how satisfied would you say you are with your life these days? *",
          "subset": "Lesbian"
         },
         {
          "answer": "3",
          "country": "Czech Republic",
          "percentage": 3,
          "question_code": "g5",
          "question_label": "All things considered, how satisfied would you say you are with your life these days? *",
          "subset": "Lesbian"
         },
         {
          "answer": "4",
          "country": "Czech Republic",
          "percentage": 6,
          "question_code": "g5",
          "question_label": "All things considered, how satisfied would you say you are with your life these days? *",
          "subset": "Lesbian"
         },
         {
          "answer": "5",
          "country": "Czech Republic",
          "percentage": 10,
          "question_code": "g5",
          "question_label": "All things considered, how satisfied would you say you are with your life these days? *",
          "subset": "Lesbian"
         },
         {
          "answer": "6",
          "country": "Czech Republic",
          "percentage": 11,
          "question_code": "g5",
          "question_label": "All things considered, how satisfied would you say you are with your life these days? *",
          "subset": "Lesbian"
         },
         {
          "answer": "7",
          "country": "Czech Republic",
          "percentage": 23,
          "question_code": "g5",
          "question_label": "All things considered, how satisfied would you say you are with your life these days? *",
          "subset": "Lesbian"
         },
         {
          "answer": "8",
          "country": "Czech Republic",
          "percentage": 22,
          "question_code": "g5",
          "question_label": "All things considered, how satisfied would you say you are with your life these days? *",
          "subset": "Lesbian"
         },
         {
          "answer": "9",
          "country": "Czech Republic",
          "percentage": 14,
          "question_code": "g5",
          "question_label": "All things considered, how satisfied would you say you are with your life these days? *",
          "subset": "Lesbian"
         },
         {
          "answer": "1",
          "country": "Czech Republic",
          "percentage": 2,
          "question_code": "g5",
          "question_label": "All things considered, how satisfied would you say you are with your life these days? *",
          "subset": "Gay"
         },
         {
          "answer": "10",
          "country": "Czech Republic",
          "percentage": 6,
          "question_code": "g5",
          "question_label": "All things considered, how satisfied would you say you are with your life these days? *",
          "subset": "Gay"
         },
         {
          "answer": "2",
          "country": "Czech Republic",
          "percentage": 3,
          "question_code": "g5",
          "question_label": "All things considered, how satisfied would you say you are with your life these days? *",
          "subset": "Gay"
         },
         {
          "answer": "3",
          "country": "Czech Republic",
          "percentage": 5,
          "question_code": "g5",
          "question_label": "All things considered, how satisfied would you say you are with your life these days? *",
          "subset": "Gay"
         },
         {
          "answer": "4",
          "country": "Czech Republic",
          "percentage": 6,
          "question_code": "g5",
          "question_label": "All things considered, how satisfied would you say you are with your life these days? *",
          "subset": "Gay"
         },
         {
          "answer": "5",
          "country": "Czech Republic",
          "percentage": 7,
          "question_code": "g5",
          "question_label": "All things considered, how satisfied would you say you are with your life these days? *",
          "subset": "Gay"
         },
         {
          "answer": "6",
          "country": "Czech Republic",
          "percentage": 10,
          "question_code": "g5",
          "question_label": "All things considered, how satisfied would you say you are with your life these days? *",
          "subset": "Gay"
         },
         {
          "answer": "7",
          "country": "Czech Republic",
          "percentage": 19,
          "question_code": "g5",
          "question_label": "All things considered, how satisfied would you say you are with your life these days? *",
          "subset": "Gay"
         },
         {
          "answer": "8",
          "country": "Czech Republic",
          "percentage": 26,
          "question_code": "g5",
          "question_label": "All things considered, how satisfied would you say you are with your life these days? *",
          "subset": "Gay"
         },
         {
          "answer": "9",
          "country": "Czech Republic",
          "percentage": 17,
          "question_code": "g5",
          "question_label": "All things considered, how satisfied would you say you are with your life these days? *",
          "subset": "Gay"
         },
         {
          "answer": "1",
          "country": "Czech Republic",
          "percentage": 2,
          "question_code": "g5",
          "question_label": "All things considered, how satisfied would you say you are with your life these days? *",
          "subset": "Bisexual women"
         },
         {
          "answer": "10",
          "country": "Czech Republic",
          "percentage": 6,
          "question_code": "g5",
          "question_label": "All things considered, how satisfied would you say you are with your life these days? *",
          "subset": "Bisexual women"
         },
         {
          "answer": "2",
          "country": "Czech Republic",
          "percentage": 5,
          "question_code": "g5",
          "question_label": "All things considered, how satisfied would you say you are with your life these days? *",
          "subset": "Bisexual women"
         },
         {
          "answer": "3",
          "country": "Czech Republic",
          "percentage": 7,
          "question_code": "g5",
          "question_label": "All things considered, how satisfied would you say you are with your life these days? *",
          "subset": "Bisexual women"
         },
         {
          "answer": "4",
          "country": "Czech Republic",
          "percentage": 7,
          "question_code": "g5",
          "question_label": "All things considered, how satisfied would you say you are with your life these days? *",
          "subset": "Bisexual women"
         },
         {
          "answer": "5",
          "country": "Czech Republic",
          "percentage": 13,
          "question_code": "g5",
          "question_label": "All things considered, how satisfied would you say you are with your life these days? *",
          "subset": "Bisexual women"
         },
         {
          "answer": "6",
          "country": "Czech Republic",
          "percentage": 11,
          "question_code": "g5",
          "question_label": "All things considered, how satisfied would you say you are with your life these days? *",
          "subset": "Bisexual women"
         },
         {
          "answer": "7",
          "country": "Czech Republic",
          "percentage": 19,
          "question_code": "g5",
          "question_label": "All things considered, how satisfied would you say you are with your life these days? *",
          "subset": "Bisexual women"
         },
         {
          "answer": "8",
          "country": "Czech Republic",
          "percentage": 18,
          "question_code": "g5",
          "question_label": "All things considered, how satisfied would you say you are with your life these days? *",
          "subset": "Bisexual women"
         },
         {
          "answer": "9",
          "country": "Czech Republic",
          "percentage": 12,
          "question_code": "g5",
          "question_label": "All things considered, how satisfied would you say you are with your life these days? *",
          "subset": "Bisexual women"
         },
         {
          "answer": "10",
          "country": "Czech Republic",
          "percentage": 7,
          "question_code": "g5",
          "question_label": "All things considered, how satisfied would you say you are with your life these days? *",
          "subset": "Bisexual men"
         },
         {
          "answer": "2",
          "country": "Czech Republic",
          "percentage": 4,
          "question_code": "g5",
          "question_label": "All things considered, how satisfied would you say you are with your life these days? *",
          "subset": "Bisexual men"
         },
         {
          "answer": "3",
          "country": "Czech Republic",
          "percentage": 9,
          "question_code": "g5",
          "question_label": "All things considered, how satisfied would you say you are with your life these days? *",
          "subset": "Bisexual men"
         },
         {
          "answer": "4",
          "country": "Czech Republic",
          "percentage": 4,
          "question_code": "g5",
          "question_label": "All things considered, how satisfied would you say you are with your life these days? *",
          "subset": "Bisexual men"
         },
         {
          "answer": "5",
          "country": "Czech Republic",
          "percentage": 13,
          "question_code": "g5",
          "question_label": "All things considered, how satisfied would you say you are with your life these days? *",
          "subset": "Bisexual men"
         },
         {
          "answer": "6",
          "country": "Czech Republic",
          "percentage": 13,
          "question_code": "g5",
          "question_label": "All things considered, how satisfied would you say you are with your life these days? *",
          "subset": "Bisexual men"
         },
         {
          "answer": "7",
          "country": "Czech Republic",
          "percentage": 18,
          "question_code": "g5",
          "question_label": "All things considered, how satisfied would you say you are with your life these days? *",
          "subset": "Bisexual men"
         },
         {
          "answer": "8",
          "country": "Czech Republic",
          "percentage": 20,
          "question_code": "g5",
          "question_label": "All things considered, how satisfied would you say you are with your life these days? *",
          "subset": "Bisexual men"
         },
         {
          "answer": "9",
          "country": "Czech Republic",
          "percentage": 12,
          "question_code": "g5",
          "question_label": "All things considered, how satisfied would you say you are with your life these days? *",
          "subset": "Bisexual men"
         },
         {
          "answer": "1",
          "country": "Czech Republic",
          "percentage": 3,
          "question_code": "g5",
          "question_label": "All things considered, how satisfied would you say you are with your life these days? *",
          "subset": "Transgender"
         },
         {
          "answer": "10",
          "country": "Czech Republic",
          "percentage": 8,
          "question_code": "g5",
          "question_label": "All things considered, how satisfied would you say you are with your life these days? *",
          "subset": "Transgender"
         },
         {
          "answer": "2",
          "country": "Czech Republic",
          "percentage": 4,
          "question_code": "g5",
          "question_label": "All things considered, how satisfied would you say you are with your life these days? *",
          "subset": "Transgender"
         },
         {
          "answer": "3",
          "country": "Czech Republic",
          "percentage": 7,
          "question_code": "g5",
          "question_label": "All things considered, how satisfied would you say you are with your life these days? *",
          "subset": "Transgender"
         },
         {
          "answer": "4",
          "country": "Czech Republic",
          "percentage": 8,
          "question_code": "g5",
          "question_label": "All things considered, how satisfied would you say you are with your life these days? *",
          "subset": "Transgender"
         },
         {
          "answer": "5",
          "country": "Czech Republic",
          "percentage": 11,
          "question_code": "g5",
          "question_label": "All things considered, how satisfied would you say you are with your life these days? *",
          "subset": "Transgender"
         },
         {
          "answer": "6",
          "country": "Czech Republic",
          "percentage": 12,
          "question_code": "g5",
          "question_label": "All things considered, how satisfied would you say you are with your life these days? *",
          "subset": "Transgender"
         },
         {
          "answer": "7",
          "country": "Czech Republic",
          "percentage": 16,
          "question_code": "g5",
          "question_label": "All things considered, how satisfied would you say you are with your life these days? *",
          "subset": "Transgender"
         },
         {
          "answer": "8",
          "country": "Czech Republic",
          "percentage": 21,
          "question_code": "g5",
          "question_label": "All things considered, how satisfied would you say you are with your life these days? *",
          "subset": "Transgender"
         },
         {
          "answer": "9",
          "country": "Czech Republic",
          "percentage": 11,
          "question_code": "g5",
          "question_label": "All things considered, how satisfied would you say you are with your life these days? *",
          "subset": "Transgender"
         },
         {
          "answer": "1",
          "country": "Germany",
          "percentage": 1,
          "question_code": "g5",
          "question_label": "All things considered, how satisfied would you say you are with your life these days? *",
          "subset": "Lesbian"
         },
         {
          "answer": "10",
          "country": "Germany",
          "percentage": 6,
          "question_code": "g5",
          "question_label": "All things considered, how satisfied would you say you are with your life these days? *",
          "subset": "Lesbian"
         },
         {
          "answer": "2",
          "country": "Germany",
          "percentage": 2,
          "question_code": "g5",
          "question_label": "All things considered, how satisfied would you say you are with your life these days? *",
          "subset": "Lesbian"
         },
         {
          "answer": "3",
          "country": "Germany",
          "percentage": 3,
          "question_code": "g5",
          "question_label": "All things considered, how satisfied would you say you are with your life these days? *",
          "subset": "Lesbian"
         },
         {
          "answer": "4",
          "country": "Germany",
          "percentage": 3,
          "question_code": "g5",
          "question_label": "All things considered, how satisfied would you say you are with your life these days? *",
          "subset": "Lesbian"
         },
         {
          "answer": "5",
          "country": "Germany",
          "percentage": 5,
          "question_code": "g5",
          "question_label": "All things considered, how satisfied would you say you are with your life these days? *",
          "subset": "Lesbian"
         },
         {
          "answer": "6",
          "country": "Germany",
          "percentage": 9,
          "question_code": "g5",
          "question_label": "All things considered, how satisfied would you say you are with your life these days? *",
          "subset": "Lesbian"
         },
         {
          "answer": "7",
          "country": "Germany",
          "percentage": 23,
          "question_code": "g5",
          "question_label": "All things considered, how satisfied would you say you are with your life these days? *",
          "subset": "Lesbian"
         },
         {
          "answer": "8",
          "country": "Germany",
          "percentage": 31,
          "question_code": "g5",
          "question_label": "All things considered, how satisfied would you say you are with your life these days? *",
          "subset": "Lesbian"
         },
         {
          "answer": "9",
          "country": "Germany",
          "percentage": 15,
          "question_code": "g5",
          "question_label": "All things considered, how satisfied would you say you are with your life these days? *",
          "subset": "Lesbian"
         },
         {
          "answer": "1",
          "country": "Germany",
          "percentage": 1,
          "question_code": "g5",
          "question_label": "All things considered, how satisfied would you say you are with your life these days? *",
          "subset": "Gay"
         },
         {
          "answer": "10",
          "country": "Germany",
          "percentage": 6,
          "question_code": "g5",
          "question_label": "All things considered, how satisfied would you say you are with your life these days? *",
          "subset": "Gay"
         },
         {
          "answer": "2",
          "country": "Germany",
          "percentage": 3,
          "question_code": "g5",
          "question_label": "All things considered, how satisfied would you say you are with your life these days? *",
          "subset": "Gay"
         },
         {
          "answer": "3",
          "country": "Germany",
          "percentage": 5,
          "question_code": "g5",
          "question_label": "All things considered, how satisfied would you say you are with your life these days? *",
          "subset": "Gay"
         },
         {
          "answer": "4",
          "country": "Germany",
          "percentage": 4,
          "question_code": "g5",
          "question_label": "All things considered, how satisfied would you say you are with your life these days? *",
          "subset": "Gay"
         },
         {
          "answer": "5",
          "country": "Germany",
          "percentage": 6,
          "question_code": "g5",
          "question_label": "All things considered, how satisfied would you say you are with your life these days? *",
          "subset": "Gay"
         },
         {
          "answer": "6",
          "country": "Germany",
          "percentage": 9,
          "question_code": "g5",
          "question_label": "All things considered, how satisfied would you say you are with your life these days? *",
          "subset": "Gay"
         },
         {
          "answer": "7",
          "country": "Germany",
          "percentage": 21,
          "question_code": "g5",
          "question_label": "All things considered, how satisfied would you say you are with your life these days? *",
          "subset": "Gay"
         },
         {
          "answer": "8",
          "country": "Germany",
          "percentage": 29,
          "question_code": "g5",
          "question_label": "All things considered, how satisfied would you say you are with your life these days? *",
          "subset": "Gay"
         },
         {
          "answer": "9",
          "country": "Germany",
          "percentage": 16,
          "question_code": "g5",
          "question_label": "All things considered, how satisfied would you say you are with your life these days? *",
          "subset": "Gay"
         },
         {
          "answer": "1",
          "country": "Germany",
          "percentage": 0,
          "question_code": "g5",
          "question_label": "All things considered, how satisfied would you say you are with your life these days? *",
          "subset": "Bisexual women"
         },
         {
          "answer": "10",
          "country": "Germany",
          "percentage": 6,
          "question_code": "g5",
          "question_label": "All things considered, how satisfied would you say you are with your life these days? *",
          "subset": "Bisexual women"
         },
         {
          "answer": "2",
          "country": "Germany",
          "percentage": 2,
          "question_code": "g5",
          "question_label": "All things considered, how satisfied would you say you are with your life these days? *",
          "subset": "Bisexual women"
         },
         {
          "answer": "3",
          "country": "Germany",
          "percentage": 4,
          "question_code": "g5",
          "question_label": "All things considered, how satisfied would you say you are with your life these days? *",
          "subset": "Bisexual women"
         },
         {
          "answer": "4",
          "country": "Germany",
          "percentage": 5,
          "question_code": "g5",
          "question_label": "All things considered, how satisfied would you say you are with your life these days? *",
          "subset": "Bisexual women"
         },
         {
          "answer": "5",
          "country": "Germany",
          "percentage": 7,
          "question_code": "g5",
          "question_label": "All things considered, how satisfied would you say you are with your life these days? *",
          "subset": "Bisexual women"
         },
         {
          "answer": "6",
          "country": "Germany",
          "percentage": 11,
          "question_code": "g5",
          "question_label": "All things considered, how satisfied would you say you are with your life these days? *",
          "subset": "Bisexual women"
         },
         {
          "answer": "7",
          "country": "Germany",
          "percentage": 22,
          "question_code": "g5",
          "question_label": "All things considered, how satisfied would you say you are with your life these days? *",
          "subset": "Bisexual women"
         },
         {
          "answer": "8",
          "country": "Germany",
          "percentage": 28,
          "question_code": "g5",
          "question_label": "All things considered, how satisfied would you say you are with your life these days? *",
          "subset": "Bisexual women"
         },
         {
          "answer": "9",
          "country": "Germany",
          "percentage": 13,
          "question_code": "g5",
          "question_label": "All things considered, how satisfied would you say you are with your life these days? *",
          "subset": "Bisexual women"
         },
         {
          "answer": "1",
          "country": "Germany",
          "percentage": 2,
          "question_code": "g5",
          "question_label": "All things considered, how satisfied would you say you are with your life these days? *",
          "subset": "Bisexual men"
         },
         {
          "answer": "10",
          "country": "Germany",
          "percentage": 6,
          "question_code": "g5",
          "question_label": "All things considered, how satisfied would you say you are with your life these days? *",
          "subset": "Bisexual men"
         },
         {
          "answer": "2",
          "country": "Germany",
          "percentage": 4,
          "question_code": "g5",
          "question_label": "All things considered, how satisfied would you say you are with your life these days? *",
          "subset": "Bisexual men"
         },
         {
          "answer": "3",
          "country": "Germany",
          "percentage": 7,
          "question_code": "g5",
          "question_label": "All things considered, how satisfied would you say you are with your life these days? *",
          "subset": "Bisexual men"
         },
         {
          "answer": "4",
          "country": "Germany",
          "percentage": 6,
          "question_code": "g5",
          "question_label": "All things considered, how satisfied would you say you are with your life these days? *",
          "subset": "Bisexual men"
         },
         {
          "answer": "5",
          "country": "Germany",
          "percentage": 9,
          "question_code": "g5",
          "question_label": "All things considered, how satisfied would you say you are with your life these days? *",
          "subset": "Bisexual men"
         },
         {
          "answer": "6",
          "country": "Germany",
          "percentage": 11,
          "question_code": "g5",
          "question_label": "All things considered, how satisfied would you say you are with your life these days? *",
          "subset": "Bisexual men"
         },
         {
          "answer": "7",
          "country": "Germany",
          "percentage": 19,
          "question_code": "g5",
          "question_label": "All things considered, how satisfied would you say you are with your life these days? *",
          "subset": "Bisexual men"
         },
         {
          "answer": "8",
          "country": "Germany",
          "percentage": 23,
          "question_code": "g5",
          "question_label": "All things considered, how satisfied would you say you are with your life these days? *",
          "subset": "Bisexual men"
         },
         {
          "answer": "9",
          "country": "Germany",
          "percentage": 12,
          "question_code": "g5",
          "question_label": "All things considered, how satisfied would you say you are with your life these days? *",
          "subset": "Bisexual men"
         },
         {
          "answer": "1",
          "country": "Germany",
          "percentage": 3,
          "question_code": "g5",
          "question_label": "All things considered, how satisfied would you say you are with your life these days? *",
          "subset": "Transgender"
         },
         {
          "answer": "10",
          "country": "Germany",
          "percentage": 5,
          "question_code": "g5",
          "question_label": "All things considered, how satisfied would you say you are with your life these days? *",
          "subset": "Transgender"
         },
         {
          "answer": "2",
          "country": "Germany",
          "percentage": 5,
          "question_code": "g5",
          "question_label": "All things considered, how satisfied would you say you are with your life these days? *",
          "subset": "Transgender"
         },
         {
          "answer": "3",
          "country": "Germany",
          "percentage": 10,
          "question_code": "g5",
          "question_label": "All things considered, how satisfied would you say you are with your life these days? *",
          "subset": "Transgender"
         },
         {
          "answer": "4",
          "country": "Germany",
          "percentage": 8,
          "question_code": "g5",
          "question_label": "All things considered, how satisfied would you say you are with your life these days? *",
          "subset": "Transgender"
         },
         {
          "answer": "5",
          "country": "Germany",
          "percentage": 10,
          "question_code": "g5",
          "question_label": "All things considered, how satisfied would you say you are with your life these days? *",
          "subset": "Transgender"
         },
         {
          "answer": "6",
          "country": "Germany",
          "percentage": 11,
          "question_code": "g5",
          "question_label": "All things considered, how satisfied would you say you are with your life these days? *",
          "subset": "Transgender"
         },
         {
          "answer": "7",
          "country": "Germany",
          "percentage": 17,
          "question_code": "g5",
          "question_label": "All things considered, how satisfied would you say you are with your life these days? *",
          "subset": "Transgender"
         },
         {
          "answer": "8",
          "country": "Germany",
          "percentage": 20,
          "question_code": "g5",
          "question_label": "All things considered, how satisfied would you say you are with your life these days? *",
          "subset": "Transgender"
         },
         {
          "answer": "9",
          "country": "Germany",
          "percentage": 11,
          "question_code": "g5",
          "question_label": "All things considered, how satisfied would you say you are with your life these days? *",
          "subset": "Transgender"
         },
         {
          "answer": "1",
          "country": "Denmark",
          "percentage": 0,
          "question_code": "g5",
          "question_label": "All things considered, how satisfied would you say you are with your life these days? *",
          "subset": "Lesbian"
         },
         {
          "answer": "10",
          "country": "Denmark",
          "percentage": 16,
          "question_code": "g5",
          "question_label": "All things considered, how satisfied would you say you are with your life these days? *",
          "subset": "Lesbian"
         },
         {
          "answer": "2",
          "country": "Denmark",
          "percentage": 2,
          "question_code": "g5",
          "question_label": "All things considered, how satisfied would you say you are with your life these days? *",
          "subset": "Lesbian"
         },
         {
          "answer": "3",
          "country": "Denmark",
          "percentage": 2,
          "question_code": "g5",
          "question_label": "All things considered, how satisfied would you say you are with your life these days? *",
          "subset": "Lesbian"
         },
         {
          "answer": "4",
          "country": "Denmark",
          "percentage": 3,
          "question_code": "g5",
          "question_label": "All things considered, how satisfied would you say you are with your life these days? *",
          "subset": "Lesbian"
         },
         {
          "answer": "5",
          "country": "Denmark",
          "percentage": 3,
          "question_code": "g5",
          "question_label": "All things considered, how satisfied would you say you are with your life these days? *",
          "subset": "Lesbian"
         },
         {
          "answer": "6",
          "country": "Denmark",
          "percentage": 6,
          "question_code": "g5",
          "question_label": "All things considered, how satisfied would you say you are with your life these days? *",
          "subset": "Lesbian"
         },
         {
          "answer": "7",
          "country": "Denmark",
          "percentage": 20,
          "question_code": "g5",
          "question_label": "All things considered, how satisfied would you say you are with your life these days? *",
          "subset": "Lesbian"
         },
         {
          "answer": "8",
          "country": "Denmark",
          "percentage": 25,
          "question_code": "g5",
          "question_label": "All things considered, how satisfied would you say you are with your life these days? *",
          "subset": "Lesbian"
         },
         {
          "answer": "9",
          "country": "Denmark",
          "percentage": 22,
          "question_code": "g5",
          "question_label": "All things considered, how satisfied would you say you are with your life these days? *",
          "subset": "Lesbian"
         },
         {
          "answer": "1",
          "country": "Denmark",
          "percentage": 1,
          "question_code": "g5",
          "question_label": "All things considered, how satisfied would you say you are with your life these days? *",
          "subset": "Gay"
         },
         {
          "answer": "10",
          "country": "Denmark",
          "percentage": 13,
          "question_code": "g5",
          "question_label": "All things considered, how satisfied would you say you are with your life these days? *",
          "subset": "Gay"
         },
         {
          "answer": "2",
          "country": "Denmark",
          "percentage": 1,
          "question_code": "g5",
          "question_label": "All things considered, how satisfied would you say you are with your life these days? *",
          "subset": "Gay"
         },
         {
          "answer": "3",
          "country": "Denmark",
          "percentage": 3,
          "question_code": "g5",
          "question_label": "All things considered, how satisfied would you say you are with your life these days? *",
          "subset": "Gay"
         },
         {
          "answer": "4",
          "country": "Denmark",
          "percentage": 3,
          "question_code": "g5",
          "question_label": "All things considered, how satisfied would you say you are with your life these days? *",
          "subset": "Gay"
         },
         {
          "answer": "5",
          "country": "Denmark",
          "percentage": 4,
          "question_code": "g5",
          "question_label": "All things considered, how satisfied would you say you are with your life these days? *",
          "subset": "Gay"
         },
         {
          "answer": "6",
          "country": "Denmark",
          "percentage": 7,
          "question_code": "g5",
          "question_label": "All things considered, how satisfied would you say you are with your life these days? *",
          "subset": "Gay"
         },
         {
          "answer": "7",
          "country": "Denmark",
          "percentage": 16,
          "question_code": "g5",
          "question_label": "All things considered, how satisfied would you say you are with your life these days? *",
          "subset": "Gay"
         },
         {
          "answer": "8",
          "country": "Denmark",
          "percentage": 27,
          "question_code": "g5",
          "question_label": "All things considered, how satisfied would you say you are with your life these days? *",
          "subset": "Gay"
         },
         {
          "answer": "9",
          "country": "Denmark",
          "percentage": 24,
          "question_code": "g5",
          "question_label": "All things considered, how satisfied would you say you are with your life these days? *",
          "subset": "Gay"
         },
         {
          "answer": "10",
          "country": "Denmark",
          "percentage": 9,
          "question_code": "g5",
          "question_label": "All things considered, how satisfied would you say you are with your life these days? *",
          "subset": "Bisexual women"
         },
         {
          "answer": "2",
          "country": "Denmark",
          "percentage": 2,
          "question_code": "g5",
          "question_label": "All things considered, how satisfied would you say you are with your life these days? *",
          "subset": "Bisexual women"
         },
         {
          "answer": "3",
          "country": "Denmark",
          "percentage": 3,
          "question_code": "g5",
          "question_label": "All things considered, how satisfied would you say you are with your life these days? *",
          "subset": "Bisexual women"
         },
         {
          "answer": "4",
          "country": "Denmark",
          "percentage": 5,
          "question_code": "g5",
          "question_label": "All things considered, how satisfied would you say you are with your life these days? *",
          "subset": "Bisexual women"
         },
         {
          "answer": "5",
          "country": "Denmark",
          "percentage": 8,
          "question_code": "g5",
          "question_label": "All things considered, how satisfied would you say you are with your life these days? *",
          "subset": "Bisexual women"
         },
         {
          "answer": "6",
          "country": "Denmark",
          "percentage": 11,
          "question_code": "g5",
          "question_label": "All things considered, how satisfied would you say you are with your life these days? *",
          "subset": "Bisexual women"
         },
         {
          "answer": "7",
          "country": "Denmark",
          "percentage": 21,
          "question_code": "g5",
          "question_label": "All things considered, how satisfied would you say you are with your life these days? *",
          "subset": "Bisexual women"
         },
         {
          "answer": "8",
          "country": "Denmark",
          "percentage": 28,
          "question_code": "g5",
          "question_label": "All things considered, how satisfied would you say you are with your life these days? *",
          "subset": "Bisexual women"
         },
         {
          "answer": "9",
          "country": "Denmark",
          "percentage": 13,
          "question_code": "g5",
          "question_label": "All things considered, how satisfied would you say you are with your life these days? *",
          "subset": "Bisexual women"
         },
         {
          "answer": "1",
          "country": "Denmark",
          "percentage": 2,
          "question_code": "g5",
          "question_label": "All things considered, how satisfied would you say you are with your life these days? *",
          "subset": "Bisexual men"
         },
         {
          "answer": "10",
          "country": "Denmark",
          "percentage": 9,
          "question_code": "g5",
          "question_label": "All things considered, how satisfied would you say you are with your life these days? *",
          "subset": "Bisexual men"
         },
         {
          "answer": "2",
          "country": "Denmark",
          "percentage": 4,
          "question_code": "g5",
          "question_label": "All things considered, how satisfied would you say you are with your life these days? *",
          "subset": "Bisexual men"
         },
         {
          "answer": "3",
          "country": "Denmark",
          "percentage": 3,
          "question_code": "g5",
          "question_label": "All things considered, how satisfied would you say you are with your life these days? *",
          "subset": "Bisexual men"
         },
         {
          "answer": "4",
          "country": "Denmark",
          "percentage": 7,
          "question_code": "g5",
          "question_label": "All things considered, how satisfied would you say you are with your life these days? *",
          "subset": "Bisexual men"
         },
         {
          "answer": "5",
          "country": "Denmark",
          "percentage": 9,
          "question_code": "g5",
          "question_label": "All things considered, how satisfied would you say you are with your life these days? *",
          "subset": "Bisexual men"
         },
         {
          "answer": "6",
          "country": "Denmark",
          "percentage": 12,
          "question_code": "g5",
          "question_label": "All things considered, how satisfied would you say you are with your life these days? *",
          "subset": "Bisexual men"
         },
         {
          "answer": "7",
          "country": "Denmark",
          "percentage": 17,
          "question_code": "g5",
          "question_label": "All things considered, how satisfied would you say you are with your life these days? *",
          "subset": "Bisexual men"
         },
         {
          "answer": "8",
          "country": "Denmark",
          "percentage": 24,
          "question_code": "g5",
          "question_label": "All things considered, how satisfied would you say you are with your life these days? *",
          "subset": "Bisexual men"
         },
         {
          "answer": "9",
          "country": "Denmark",
          "percentage": 13,
          "question_code": "g5",
          "question_label": "All things considered, how satisfied would you say you are with your life these days? *",
          "subset": "Bisexual men"
         },
         {
          "answer": "1",
          "country": "Denmark",
          "percentage": 6,
          "question_code": "g5",
          "question_label": "All things considered, how satisfied would you say you are with your life these days? *",
          "subset": "Transgender"
         },
         {
          "answer": "10",
          "country": "Denmark",
          "percentage": 12,
          "question_code": "g5",
          "question_label": "All things considered, how satisfied would you say you are with your life these days? *",
          "subset": "Transgender"
         },
         {
          "answer": "2",
          "country": "Denmark",
          "percentage": 5,
          "question_code": "g5",
          "question_label": "All things considered, how satisfied would you say you are with your life these days? *",
          "subset": "Transgender"
         },
         {
          "answer": "3",
          "country": "Denmark",
          "percentage": 6,
          "question_code": "g5",
          "question_label": "All things considered, how satisfied would you say you are with your life these days? *",
          "subset": "Transgender"
         },
         {
          "answer": "4",
          "country": "Denmark",
          "percentage": 5,
          "question_code": "g5",
          "question_label": "All things considered, how satisfied would you say you are with your life these days? *",
          "subset": "Transgender"
         },
         {
          "answer": "5",
          "country": "Denmark",
          "percentage": 8,
          "question_code": "g5",
          "question_label": "All things considered, how satisfied would you say you are with your life these days? *",
          "subset": "Transgender"
         },
         {
          "answer": "6",
          "country": "Denmark",
          "percentage": 11,
          "question_code": "g5",
          "question_label": "All things considered, how satisfied would you say you are with your life these days? *",
          "subset": "Transgender"
         },
         {
          "answer": "7",
          "country": "Denmark",
          "percentage": 15,
          "question_code": "g5",
          "question_label": "All things considered, how satisfied would you say you are with your life these days? *",
          "subset": "Transgender"
         },
         {
          "answer": "8",
          "country": "Denmark",
          "percentage": 20,
          "question_code": "g5",
          "question_label": "All things considered, how satisfied would you say you are with your life these days? *",
          "subset": "Transgender"
         },
         {
          "answer": "9",
          "country": "Denmark",
          "percentage": 11,
          "question_code": "g5",
          "question_label": "All things considered, how satisfied would you say you are with your life these days? *",
          "subset": "Transgender"
         },
         {
          "answer": "10",
          "country": "Estonia",
          "percentage": 1,
          "question_code": "g5",
          "question_label": "All things considered, how satisfied would you say you are with your life these days? *",
          "subset": "Lesbian"
         },
         {
          "answer": "2",
          "country": "Estonia",
          "percentage": 1,
          "question_code": "g5",
          "question_label": "All things considered, how satisfied would you say you are with your life these days? *",
          "subset": "Lesbian"
         },
         {
          "answer": "3",
          "country": "Estonia",
          "percentage": 6,
          "question_code": "g5",
          "question_label": "All things considered, how satisfied would you say you are with your life these days? *",
          "subset": "Lesbian"
         },
         {
          "answer": "4",
          "country": "Estonia",
          "percentage": 11,
          "question_code": "g5",
          "question_label": "All things considered, how satisfied would you say you are with your life these days? *",
          "subset": "Lesbian"
         },
         {
          "answer": "5",
          "country": "Estonia",
          "percentage": 11,
          "question_code": "g5",
          "question_label": "All things considered, how satisfied would you say you are with your life these days? *",
          "subset": "Lesbian"
         },
         {
          "answer": "6",
          "country": "Estonia",
          "percentage": 19,
          "question_code": "g5",
          "question_label": "All things considered, how satisfied would you say you are with your life these days? *",
          "subset": "Lesbian"
         },
         {
          "answer": "7",
          "country": "Estonia",
          "percentage": 22,
          "question_code": "g5",
          "question_label": "All things considered, how satisfied would you say you are with your life these days? *",
          "subset": "Lesbian"
         },
         {
          "answer": "8",
          "country": "Estonia",
          "percentage": 19,
          "question_code": "g5",
          "question_label": "All things considered, how satisfied would you say you are with your life these days? *",
          "subset": "Lesbian"
         },
         {
          "answer": "9",
          "country": "Estonia",
          "percentage": 9,
          "question_code": "g5",
          "question_label": "All things considered, how satisfied would you say you are with your life these days? *",
          "subset": "Lesbian"
         },
         {
          "answer": "1",
          "country": "Estonia",
          "percentage": 3,
          "question_code": "g5",
          "question_label": "All things considered, how satisfied would you say you are with your life these days? *",
          "subset": "Gay"
         },
         {
          "answer": "10",
          "country": "Estonia",
          "percentage": 1,
          "question_code": "g5",
          "question_label": "All things considered, how satisfied would you say you are with your life these days? *",
          "subset": "Gay"
         },
         {
          "answer": "2",
          "country": "Estonia",
          "percentage": 4,
          "question_code": "g5",
          "question_label": "All things considered, how satisfied would you say you are with your life these days? *",
          "subset": "Gay"
         },
         {
          "answer": "3",
          "country": "Estonia",
          "percentage": 8,
          "question_code": "g5",
          "question_label": "All things considered, how satisfied would you say you are with your life these days? *",
          "subset": "Gay"
         },
         {
          "answer": "4",
          "country": "Estonia",
          "percentage": 10,
          "question_code": "g5",
          "question_label": "All things considered, how satisfied would you say you are with your life these days? *",
          "subset": "Gay"
         },
         {
          "answer": "5",
          "country": "Estonia",
          "percentage": 10,
          "question_code": "g5",
          "question_label": "All things considered, how satisfied would you say you are with your life these days? *",
          "subset": "Gay"
         },
         {
          "answer": "6",
          "country": "Estonia",
          "percentage": 12,
          "question_code": "g5",
          "question_label": "All things considered, how satisfied would you say you are with your life these days? *",
          "subset": "Gay"
         },
         {
          "answer": "7",
          "country": "Estonia",
          "percentage": 22,
          "question_code": "g5",
          "question_label": "All things considered, how satisfied would you say you are with your life these days? *",
          "subset": "Gay"
         },
         {
          "answer": "8",
          "country": "Estonia",
          "percentage": 22,
          "question_code": "g5",
          "question_label": "All things considered, how satisfied would you say you are with your life these days? *",
          "subset": "Gay"
         },
         {
          "answer": "9",
          "country": "Estonia",
          "percentage": 8,
          "question_code": "g5",
          "question_label": "All things considered, how satisfied would you say you are with your life these days? *",
          "subset": "Gay"
         },
         {
          "answer": "1",
          "country": "Estonia",
          "percentage": 3,
          "question_code": "g5",
          "question_label": "All things considered, how satisfied would you say you are with your life these days? *",
          "subset": "Bisexual women"
         },
         {
          "answer": "10",
          "country": "Estonia",
          "percentage": 5,
          "question_code": "g5",
          "question_label": "All things considered, how satisfied would you say you are with your life these days? *",
          "subset": "Bisexual women"
         },
         {
          "answer": "2",
          "country": "Estonia",
          "percentage": 3,
          "question_code": "g5",
          "question_label": "All things considered, how satisfied would you say you are with your life these days? *",
          "subset": "Bisexual women"
         },
         {
          "answer": "3",
          "country": "Estonia",
          "percentage": 8,
          "question_code": "g5",
          "question_label": "All things considered, how satisfied would you say you are with your life these days? *",
          "subset": "Bisexual women"
         },
         {
          "answer": "4",
          "country": "Estonia",
          "percentage": 10,
          "question_code": "g5",
          "question_label": "All things considered, how satisfied would you say you are with your life these days? *",
          "subset": "Bisexual women"
         },
         {
          "answer": "5",
          "country": "Estonia",
          "percentage": 8,
          "question_code": "g5",
          "question_label": "All things considered, how satisfied would you say you are with your life these days? *",
          "subset": "Bisexual women"
         },
         {
          "answer": "6",
          "country": "Estonia",
          "percentage": 11,
          "question_code": "g5",
          "question_label": "All things considered, how satisfied would you say you are with your life these days? *",
          "subset": "Bisexual women"
         },
         {
          "answer": "7",
          "country": "Estonia",
          "percentage": 21,
          "question_code": "g5",
          "question_label": "All things considered, how satisfied would you say you are with your life these days? *",
          "subset": "Bisexual women"
         },
         {
          "answer": "8",
          "country": "Estonia",
          "percentage": 23,
          "question_code": "g5",
          "question_label": "All things considered, how satisfied would you say you are with your life these days? *",
          "subset": "Bisexual women"
         },
         {
          "answer": "9",
          "country": "Estonia",
          "percentage": 7,
          "question_code": "g5",
          "question_label": "All things considered, how satisfied would you say you are with your life these days? *",
          "subset": "Bisexual women"
         },
         {
          "answer": "3",
          "country": "Estonia",
          "percentage": 5,
          "question_code": "g5",
          "question_label": "All things considered, how satisfied would you say you are with your life these days? *",
          "subset": "Bisexual men"
         },
         {
          "answer": "4",
          "country": "Estonia",
          "percentage": 10,
          "question_code": "g5",
          "question_label": "All things considered, how satisfied would you say you are with your life these days? *",
          "subset": "Bisexual men"
         },
         {
          "answer": "5",
          "country": "Estonia",
          "percentage": 10,
          "question_code": "g5",
          "question_label": "All things considered, how satisfied would you say you are with your life these days? *",
          "subset": "Bisexual men"
         },
         {
          "answer": "6",
          "country": "Estonia",
          "percentage": 25,
          "question_code": "g5",
          "question_label": "All things considered, how satisfied would you say you are with your life these days? *",
          "subset": "Bisexual men"
         },
         {
          "answer": "7",
          "country": "Estonia",
          "percentage": 25,
          "question_code": "g5",
          "question_label": "All things considered, how satisfied would you say you are with your life these days? *",
          "subset": "Bisexual men"
         },
         {
          "answer": "8",
          "country": "Estonia",
          "percentage": 20,
          "question_code": "g5",
          "question_label": "All things considered, how satisfied would you say you are with your life these days? *",
          "subset": "Bisexual men"
         },
         {
          "answer": "9",
          "country": "Estonia",
          "percentage": 5,
          "question_code": "g5",
          "question_label": "All things considered, how satisfied would you say you are with your life these days? *",
          "subset": "Bisexual men"
         },
         {
          "answer": "1",
          "country": "Estonia",
          "percentage": 4,
          "question_code": "g5",
          "question_label": "All things considered, how satisfied would you say you are with your life these days? *",
          "subset": "Transgender"
         },
         {
          "answer": "2",
          "country": "Estonia",
          "percentage": 4,
          "question_code": "g5",
          "question_label": "All things considered, how satisfied would you say you are with your life these days? *",
          "subset": "Transgender"
         },
         {
          "answer": "3",
          "country": "Estonia",
          "percentage": 12,
          "question_code": "g5",
          "question_label": "All things considered, how satisfied would you say you are with your life these days? *",
          "subset": "Transgender"
         },
         {
          "answer": "4",
          "country": "Estonia",
          "percentage": 8,
          "question_code": "g5",
          "question_label": "All things considered, how satisfied would you say you are with your life these days? *",
          "subset": "Transgender"
         },
         {
          "answer": "5",
          "country": "Estonia",
          "percentage": 4,
          "question_code": "g5",
          "question_label": "All things considered, how satisfied would you say you are with your life these days? *",
          "subset": "Transgender"
         },
         {
          "answer": "6",
          "country": "Estonia",
          "percentage": 4,
          "question_code": "g5",
          "question_label": "All things considered, how satisfied would you say you are with your life these days? *",
          "subset": "Transgender"
         },
         {
          "answer": "7",
          "country": "Estonia",
          "percentage": 17,
          "question_code": "g5",
          "question_label": "All things considered, how satisfied would you say you are with your life these days? *",
          "subset": "Transgender"
         },
         {
          "answer": "8",
          "country": "Estonia",
          "percentage": 29,
          "question_code": "g5",
          "question_label": "All things considered, how satisfied would you say you are with your life these days? *",
          "subset": "Transgender"
         },
         {
          "answer": "9",
          "country": "Estonia",
          "percentage": 17,
          "question_code": "g5",
          "question_label": "All things considered, how satisfied would you say you are with your life these days? *",
          "subset": "Transgender"
         },
         {
          "answer": "1",
          "country": "Greece",
          "percentage": 2,
          "question_code": "g5",
          "question_label": "All things considered, how satisfied would you say you are with your life these days? *",
          "subset": "Lesbian"
         },
         {
          "answer": "10",
          "country": "Greece",
          "percentage": 3,
          "question_code": "g5",
          "question_label": "All things considered, how satisfied would you say you are with your life these days? *",
          "subset": "Lesbian"
         },
         {
          "answer": "2",
          "country": "Greece",
          "percentage": 5,
          "question_code": "g5",
          "question_label": "All things considered, how satisfied would you say you are with your life these days? *",
          "subset": "Lesbian"
         },
         {
          "answer": "3",
          "country": "Greece",
          "percentage": 10,
          "question_code": "g5",
          "question_label": "All things considered, how satisfied would you say you are with your life these days? *",
          "subset": "Lesbian"
         },
         {
          "answer": "4",
          "country": "Greece",
          "percentage": 10,
          "question_code": "g5",
          "question_label": "All things considered, how satisfied would you say you are with your life these days? *",
          "subset": "Lesbian"
         },
         {
          "answer": "5",
          "country": "Greece",
          "percentage": 17,
          "question_code": "g5",
          "question_label": "All things considered, how satisfied would you say you are with your life these days? *",
          "subset": "Lesbian"
         },
         {
          "answer": "6",
          "country": "Greece",
          "percentage": 14,
          "question_code": "g5",
          "question_label": "All things considered, how satisfied would you say you are with your life these days? *",
          "subset": "Lesbian"
         },
         {
          "answer": "7",
          "country": "Greece",
          "percentage": 23,
          "question_code": "g5",
          "question_label": "All things considered, how satisfied would you say you are with your life these days? *",
          "subset": "Lesbian"
         },
         {
          "answer": "8",
          "country": "Greece",
          "percentage": 12,
          "question_code": "g5",
          "question_label": "All things considered, how satisfied would you say you are with your life these days? *",
          "subset": "Lesbian"
         },
         {
          "answer": "9",
          "country": "Greece",
          "percentage": 5,
          "question_code": "g5",
          "question_label": "All things considered, how satisfied would you say you are with your life these days? *",
          "subset": "Lesbian"
         },
         {
          "answer": "1",
          "country": "Greece",
          "percentage": 5,
          "question_code": "g5",
          "question_label": "All things considered, how satisfied would you say you are with your life these days? *",
          "subset": "Gay"
         },
         {
          "answer": "10",
          "country": "Greece",
          "percentage": 2,
          "question_code": "g5",
          "question_label": "All things considered, how satisfied would you say you are with your life these days? *",
          "subset": "Gay"
         },
         {
          "answer": "2",
          "country": "Greece",
          "percentage": 6,
          "question_code": "g5",
          "question_label": "All things considered, how satisfied would you say you are with your life these days? *",
          "subset": "Gay"
         },
         {
          "answer": "3",
          "country": "Greece",
          "percentage": 9,
          "question_code": "g5",
          "question_label": "All things considered, how satisfied would you say you are with your life these days? *",
          "subset": "Gay"
         },
         {
          "answer": "4",
          "country": "Greece",
          "percentage": 11,
          "question_code": "g5",
          "question_label": "All things considered, how satisfied would you say you are with your life these days? *",
          "subset": "Gay"
         },
         {
          "answer": "5",
          "country": "Greece",
          "percentage": 14,
          "question_code": "g5",
          "question_label": "All things considered, how satisfied would you say you are with your life these days? *",
          "subset": "Gay"
         },
         {
          "answer": "6",
          "country": "Greece",
          "percentage": 17,
          "question_code": "g5",
          "question_label": "All things considered, how satisfied would you say you are with your life these days? *",
          "subset": "Gay"
         },
         {
          "answer": "7",
          "country": "Greece",
          "percentage": 19,
          "question_code": "g5",
          "question_label": "All things considered, how satisfied would you say you are with your life these days? *",
          "subset": "Gay"
         },
         {
          "answer": "8",
          "country": "Greece",
          "percentage": 11,
          "question_code": "g5",
          "question_label": "All things considered, how satisfied would you say you are with your life these days? *",
          "subset": "Gay"
         },
         {
          "answer": "9",
          "country": "Greece",
          "percentage": 6,
          "question_code": "g5",
          "question_label": "All things considered, how satisfied would you say you are with your life these days? *",
          "subset": "Gay"
         },
         {
          "answer": "1",
          "country": "Greece",
          "percentage": 0,
          "question_code": "g5",
          "question_label": "All things considered, how satisfied would you say you are with your life these days? *",
          "subset": "Bisexual women"
         },
         {
          "answer": "10",
          "country": "Greece",
          "percentage": 2,
          "question_code": "g5",
          "question_label": "All things considered, how satisfied would you say you are with your life these days? *",
          "subset": "Bisexual women"
         },
         {
          "answer": "2",
          "country": "Greece",
          "percentage": 5,
          "question_code": "g5",
          "question_label": "All things considered, how satisfied would you say you are with your life these days? *",
          "subset": "Bisexual women"
         },
         {
          "answer": "3",
          "country": "Greece",
          "percentage": 11,
          "question_code": "g5",
          "question_label": "All things considered, how satisfied would you say you are with your life these days? *",
          "subset": "Bisexual women"
         },
         {
          "answer": "4",
          "country": "Greece",
          "percentage": 14,
          "question_code": "g5",
          "question_label": "All things considered, how satisfied would you say you are with your life these days? *",
          "subset": "Bisexual women"
         },
         {
          "answer": "5",
          "country": "Greece",
          "percentage": 11,
          "question_code": "g5",
          "question_label": "All things considered, how satisfied would you say you are with your life these days? *",
          "subset": "Bisexual women"
         },
         {
          "answer": "6",
          "country": "Greece",
          "percentage": 17,
          "question_code": "g5",
          "question_label": "All things considered, how satisfied would you say you are with your life these days? *",
          "subset": "Bisexual women"
         },
         {
          "answer": "7",
          "country": "Greece",
          "percentage": 21,
          "question_code": "g5",
          "question_label": "All things considered, how satisfied would you say you are with your life these days? *",
          "subset": "Bisexual women"
         },
         {
          "answer": "8",
          "country": "Greece",
          "percentage": 15,
          "question_code": "g5",
          "question_label": "All things considered, how satisfied would you say you are with your life these days? *",
          "subset": "Bisexual women"
         },
         {
          "answer": "9",
          "country": "Greece",
          "percentage": 5,
          "question_code": "g5",
          "question_label": "All things considered, how satisfied would you say you are with your life these days? *",
          "subset": "Bisexual women"
         },
         {
          "answer": "1",
          "country": "Greece",
          "percentage": 2,
          "question_code": "g5",
          "question_label": "All things considered, how satisfied would you say you are with your life these days? *",
          "subset": "Bisexual men"
         },
         {
          "answer": "10",
          "country": "Greece",
          "percentage": 2,
          "question_code": "g5",
          "question_label": "All things considered, how satisfied would you say you are with your life these days? *",
          "subset": "Bisexual men"
         },
         {
          "answer": "2",
          "country": "Greece",
          "percentage": 5,
          "question_code": "g5",
          "question_label": "All things considered, how satisfied would you say you are with your life these days? *",
          "subset": "Bisexual men"
         },
         {
          "answer": "3",
          "country": "Greece",
          "percentage": 8,
          "question_code": "g5",
          "question_label": "All things considered, how satisfied would you say you are with your life these days? *",
          "subset": "Bisexual men"
         },
         {
          "answer": "4",
          "country": "Greece",
          "percentage": 10,
          "question_code": "g5",
          "question_label": "All things considered, how satisfied would you say you are with your life these days? *",
          "subset": "Bisexual men"
         },
         {
          "answer": "5",
          "country": "Greece",
          "percentage": 13,
          "question_code": "g5",
          "question_label": "All things considered, how satisfied would you say you are with your life these days? *",
          "subset": "Bisexual men"
         },
         {
          "answer": "6",
          "country": "Greece",
          "percentage": 16,
          "question_code": "g5",
          "question_label": "All things considered, how satisfied would you say you are with your life these days? *",
          "subset": "Bisexual men"
         },
         {
          "answer": "7",
          "country": "Greece",
          "percentage": 21,
          "question_code": "g5",
          "question_label": "All things considered, how satisfied would you say you are with your life these days? *",
          "subset": "Bisexual men"
         },
         {
          "answer": "8",
          "country": "Greece",
          "percentage": 13,
          "question_code": "g5",
          "question_label": "All things considered, how satisfied would you say you are with your life these days? *",
          "subset": "Bisexual men"
         },
         {
          "answer": "9",
          "country": "Greece",
          "percentage": 9,
          "question_code": "g5",
          "question_label": "All things considered, how satisfied would you say you are with your life these days? *",
          "subset": "Bisexual men"
         },
         {
          "answer": "1",
          "country": "Greece",
          "percentage": 5,
          "question_code": "g5",
          "question_label": "All things considered, how satisfied would you say you are with your life these days? *",
          "subset": "Transgender"
         },
         {
          "answer": "10",
          "country": "Greece",
          "percentage": 4,
          "question_code": "g5",
          "question_label": "All things considered, how satisfied would you say you are with your life these days? *",
          "subset": "Transgender"
         },
         {
          "answer": "2",
          "country": "Greece",
          "percentage": 3,
          "question_code": "g5",
          "question_label": "All things considered, how satisfied would you say you are with your life these days? *",
          "subset": "Transgender"
         },
         {
          "answer": "3",
          "country": "Greece",
          "percentage": 14,
          "question_code": "g5",
          "question_label": "All things considered, how satisfied would you say you are with your life these days? *",
          "subset": "Transgender"
         },
         {
          "answer": "4",
          "country": "Greece",
          "percentage": 10,
          "question_code": "g5",
          "question_label": "All things considered, how satisfied would you say you are with your life these days? *",
          "subset": "Transgender"
         },
         {
          "answer": "5",
          "country": "Greece",
          "percentage": 19,
          "question_code": "g5",
          "question_label": "All things considered, how satisfied would you say you are with your life these days? *",
          "subset": "Transgender"
         },
         {
          "answer": "6",
          "country": "Greece",
          "percentage": 13,
          "question_code": "g5",
          "question_label": "All things considered, how satisfied would you say you are with your life these days? *",
          "subset": "Transgender"
         },
         {
          "answer": "7",
          "country": "Greece",
          "percentage": 16,
          "question_code": "g5",
          "question_label": "All things considered, how satisfied would you say you are with your life these days? *",
          "subset": "Transgender"
         },
         {
          "answer": "8",
          "country": "Greece",
          "percentage": 10,
          "question_code": "g5",
          "question_label": "All things considered, how satisfied would you say you are with your life these days? *",
          "subset": "Transgender"
         },
         {
          "answer": "9",
          "country": "Greece",
          "percentage": 5,
          "question_code": "g5",
          "question_label": "All things considered, how satisfied would you say you are with your life these days? *",
          "subset": "Transgender"
         },
         {
          "answer": "1",
          "country": "Spain",
          "percentage": 1,
          "question_code": "g5",
          "question_label": "All things considered, how satisfied would you say you are with your life these days? *",
          "subset": "Lesbian"
         },
         {
          "answer": "10",
          "country": "Spain",
          "percentage": 11,
          "question_code": "g5",
          "question_label": "All things considered, how satisfied would you say you are with your life these days? *",
          "subset": "Lesbian"
         },
         {
          "answer": "2",
          "country": "Spain",
          "percentage": 1,
          "question_code": "g5",
          "question_label": "All things considered, how satisfied would you say you are with your life these days? *",
          "subset": "Lesbian"
         },
         {
          "answer": "3",
          "country": "Spain",
          "percentage": 3,
          "question_code": "g5",
          "question_label": "All things considered, how satisfied would you say you are with your life these days? *",
          "subset": "Lesbian"
         },
         {
          "answer": "4",
          "country": "Spain",
          "percentage": 4,
          "question_code": "g5",
          "question_label": "All things considered, how satisfied would you say you are with your life these days? *",
          "subset": "Lesbian"
         },
         {
          "answer": "5",
          "country": "Spain",
          "percentage": 6,
          "question_code": "g5",
          "question_label": "All things considered, how satisfied would you say you are with your life these days? *",
          "subset": "Lesbian"
         },
         {
          "answer": "6",
          "country": "Spain",
          "percentage": 12,
          "question_code": "g5",
          "question_label": "All things considered, how satisfied would you say you are with your life these days? *",
          "subset": "Lesbian"
         },
         {
          "answer": "7",
          "country": "Spain",
          "percentage": 23,
          "question_code": "g5",
          "question_label": "All things considered, how satisfied would you say you are with your life these days? *",
          "subset": "Lesbian"
         },
         {
          "answer": "8",
          "country": "Spain",
          "percentage": 28,
          "question_code": "g5",
          "question_label": "All things considered, how satisfied would you say you are with your life these days? *",
          "subset": "Lesbian"
         },
         {
          "answer": "9",
          "country": "Spain",
          "percentage": 11,
          "question_code": "g5",
          "question_label": "All things considered, how satisfied would you say you are with your life these days? *",
          "subset": "Lesbian"
         },
         {
          "answer": "1",
          "country": "Spain",
          "percentage": 2,
          "question_code": "g5",
          "question_label": "All things considered, how satisfied would you say you are with your life these days? *",
          "subset": "Gay"
         },
         {
          "answer": "10",
          "country": "Spain",
          "percentage": 9,
          "question_code": "g5",
          "question_label": "All things considered, how satisfied would you say you are with your life these days? *",
          "subset": "Gay"
         },
         {
          "answer": "2",
          "country": "Spain",
          "percentage": 1,
          "question_code": "g5",
          "question_label": "All things considered, how satisfied would you say you are with your life these days? *",
          "subset": "Gay"
         },
         {
          "answer": "3",
          "country": "Spain",
          "percentage": 3,
          "question_code": "g5",
          "question_label": "All things considered, how satisfied would you say you are with your life these days? *",
          "subset": "Gay"
         },
         {
          "answer": "4",
          "country": "Spain",
          "percentage": 5,
          "question_code": "g5",
          "question_label": "All things considered, how satisfied would you say you are with your life these days? *",
          "subset": "Gay"
         },
         {
          "answer": "5",
          "country": "Spain",
          "percentage": 6,
          "question_code": "g5",
          "question_label": "All things considered, how satisfied would you say you are with your life these days? *",
          "subset": "Gay"
         },
         {
          "answer": "6",
          "country": "Spain",
          "percentage": 13,
          "question_code": "g5",
          "question_label": "All things considered, how satisfied would you say you are with your life these days? *",
          "subset": "Gay"
         },
         {
          "answer": "7",
          "country": "Spain",
          "percentage": 22,
          "question_code": "g5",
          "question_label": "All things considered, how satisfied would you say you are with your life these days? *",
          "subset": "Gay"
         },
         {
          "answer": "8",
          "country": "Spain",
          "percentage": 25,
          "question_code": "g5",
          "question_label": "All things considered, how satisfied would you say you are with your life these days? *",
          "subset": "Gay"
         },
         {
          "answer": "9",
          "country": "Spain",
          "percentage": 14,
          "question_code": "g5",
          "question_label": "All things considered, how satisfied would you say you are with your life these days? *",
          "subset": "Gay"
         },
         {
          "answer": "1",
          "country": "Spain",
          "percentage": 1,
          "question_code": "g5",
          "question_label": "All things considered, how satisfied would you say you are with your life these days? *",
          "subset": "Bisexual women"
         },
         {
          "answer": "10",
          "country": "Spain",
          "percentage": 8,
          "question_code": "g5",
          "question_label": "All things considered, how satisfied would you say you are with your life these days? *",
          "subset": "Bisexual women"
         },
         {
          "answer": "2",
          "country": "Spain",
          "percentage": 0,
          "question_code": "g5",
          "question_label": "All things considered, how satisfied would you say you are with your life these days? *",
          "subset": "Bisexual women"
         },
         {
          "answer": "3",
          "country": "Spain",
          "percentage": 5,
          "question_code": "g5",
          "question_label": "All things considered, how satisfied would you say you are with your life these days? *",
          "subset": "Bisexual women"
         },
         {
          "answer": "4",
          "country": "Spain",
          "percentage": 5,
          "question_code": "g5",
          "question_label": "All things considered, how satisfied would you say you are with your life these days? *",
          "subset": "Bisexual women"
         },
         {
          "answer": "5",
          "country": "Spain",
          "percentage": 9,
          "question_code": "g5",
          "question_label": "All things considered, how satisfied would you say you are with your life these days? *",
          "subset": "Bisexual women"
         },
         {
          "answer": "6",
          "country": "Spain",
          "percentage": 15,
          "question_code": "g5",
          "question_label": "All things considered, how satisfied would you say you are with your life these days? *",
          "subset": "Bisexual women"
         },
         {
          "answer": "7",
          "country": "Spain",
          "percentage": 29,
          "question_code": "g5",
          "question_label": "All things considered, how satisfied would you say you are with your life these days? *",
          "subset": "Bisexual women"
         },
         {
          "answer": "8",
          "country": "Spain",
          "percentage": 18,
          "question_code": "g5",
          "question_label": "All things considered, how satisfied would you say you are with your life these days? *",
          "subset": "Bisexual women"
         },
         {
          "answer": "9",
          "country": "Spain",
          "percentage": 9,
          "question_code": "g5",
          "question_label": "All things considered, how satisfied would you say you are with your life these days? *",
          "subset": "Bisexual women"
         },
         {
          "answer": "1",
          "country": "Spain",
          "percentage": 2,
          "question_code": "g5",
          "question_label": "All things considered, how satisfied would you say you are with your life these days? *",
          "subset": "Bisexual men"
         },
         {
          "answer": "10",
          "country": "Spain",
          "percentage": 8,
          "question_code": "g5",
          "question_label": "All things considered, how satisfied would you say you are with your life these days? *",
          "subset": "Bisexual men"
         },
         {
          "answer": "2",
          "country": "Spain",
          "percentage": 2,
          "question_code": "g5",
          "question_label": "All things considered, how satisfied would you say you are with your life these days? *",
          "subset": "Bisexual men"
         },
         {
          "answer": "3",
          "country": "Spain",
          "percentage": 4,
          "question_code": "g5",
          "question_label": "All things considered, how satisfied would you say you are with your life these days? *",
          "subset": "Bisexual men"
         },
         {
          "answer": "4",
          "country": "Spain",
          "percentage": 6,
          "question_code": "g5",
          "question_label": "All things considered, how satisfied would you say you are with your life these days? *",
          "subset": "Bisexual men"
         },
         {
          "answer": "5",
          "country": "Spain",
          "percentage": 9,
          "question_code": "g5",
          "question_label": "All things considered, how satisfied would you say you are with your life these days? *",
          "subset": "Bisexual men"
         },
         {
          "answer": "6",
          "country": "Spain",
          "percentage": 13,
          "question_code": "g5",
          "question_label": "All things considered, how satisfied would you say you are with your life these days? *",
          "subset": "Bisexual men"
         },
         {
          "answer": "7",
          "country": "Spain",
          "percentage": 22,
          "question_code": "g5",
          "question_label": "All things considered, how satisfied would you say you are with your life these days? *",
          "subset": "Bisexual men"
         },
         {
          "answer": "8",
          "country": "Spain",
          "percentage": 23,
          "question_code": "g5",
          "question_label": "All things considered, how satisfied would you say you are with your life these days? *",
          "subset": "Bisexual men"
         },
         {
          "answer": "9",
          "country": "Spain",
          "percentage": 11,
          "question_code": "g5",
          "question_label": "All things considered, how satisfied would you say you are with your life these days? *",
          "subset": "Bisexual men"
         },
         {
          "answer": "1",
          "country": "Spain",
          "percentage": 5,
          "question_code": "g5",
          "question_label": "All things considered, how satisfied would you say you are with your life these days? *",
          "subset": "Transgender"
         },
         {
          "answer": "10",
          "country": "Spain",
          "percentage": 12,
          "question_code": "g5",
          "question_label": "All things considered, how satisfied would you say you are with your life these days? *",
          "subset": "Transgender"
         },
         {
          "answer": "2",
          "country": "Spain",
          "percentage": 7,
          "question_code": "g5",
          "question_label": "All things considered, how satisfied would you say you are with your life these days? *",
          "subset": "Transgender"
         },
         {
          "answer": "3",
          "country": "Spain",
          "percentage": 7,
          "question_code": "g5",
          "question_label": "All things considered, how satisfied would you say you are with your life these days? *",
          "subset": "Transgender"
         },
         {
          "answer": "4",
          "country": "Spain",
          "percentage": 7,
          "question_code": "g5",
          "question_label": "All things considered, how satisfied would you say you are with your life these days? *",
          "subset": "Transgender"
         },
         {
          "answer": "5",
          "country": "Spain",
          "percentage": 7,
          "question_code": "g5",
          "question_label": "All things considered, how satisfied would you say you are with your life these days? *",
          "subset": "Transgender"
         },
         {
          "answer": "6",
          "country": "Spain",
          "percentage": 12,
          "question_code": "g5",
          "question_label": "All things considered, how satisfied would you say you are with your life these days? *",
          "subset": "Transgender"
         },
         {
          "answer": "7",
          "country": "Spain",
          "percentage": 18,
          "question_code": "g5",
          "question_label": "All things considered, how satisfied would you say you are with your life these days? *",
          "subset": "Transgender"
         },
         {
          "answer": "8",
          "country": "Spain",
          "percentage": 15,
          "question_code": "g5",
          "question_label": "All things considered, how satisfied would you say you are with your life these days? *",
          "subset": "Transgender"
         },
         {
          "answer": "9",
          "country": "Spain",
          "percentage": 11,
          "question_code": "g5",
          "question_label": "All things considered, how satisfied would you say you are with your life these days? *",
          "subset": "Transgender"
         },
         {
          "answer": "1",
          "country": "Finland",
          "percentage": 1,
          "question_code": "g5",
          "question_label": "All things considered, how satisfied would you say you are with your life these days? *",
          "subset": "Lesbian"
         },
         {
          "answer": "10",
          "country": "Finland",
          "percentage": 7,
          "question_code": "g5",
          "question_label": "All things considered, how satisfied would you say you are with your life these days? *",
          "subset": "Lesbian"
         },
         {
          "answer": "2",
          "country": "Finland",
          "percentage": 1,
          "question_code": "g5",
          "question_label": "All things considered, how satisfied would you say you are with your life these days? *",
          "subset": "Lesbian"
         },
         {
          "answer": "3",
          "country": "Finland",
          "percentage": 3,
          "question_code": "g5",
          "question_label": "All things considered, how satisfied would you say you are with your life these days? *",
          "subset": "Lesbian"
         },
         {
          "answer": "4",
          "country": "Finland",
          "percentage": 3,
          "question_code": "g5",
          "question_label": "All things considered, how satisfied would you say you are with your life these days? *",
          "subset": "Lesbian"
         },
         {
          "answer": "5",
          "country": "Finland",
          "percentage": 3,
          "question_code": "g5",
          "question_label": "All things considered, how satisfied would you say you are with your life these days? *",
          "subset": "Lesbian"
         },
         {
          "answer": "6",
          "country": "Finland",
          "percentage": 7,
          "question_code": "g5",
          "question_label": "All things considered, how satisfied would you say you are with your life these days? *",
          "subset": "Lesbian"
         },
         {
          "answer": "7",
          "country": "Finland",
          "percentage": 21,
          "question_code": "g5",
          "question_label": "All things considered, how satisfied would you say you are with your life these days? *",
          "subset": "Lesbian"
         },
         {
          "answer": "8",
          "country": "Finland",
          "percentage": 31,
          "question_code": "g5",
          "question_label": "All things considered, how satisfied would you say you are with your life these days? *",
          "subset": "Lesbian"
         },
         {
          "answer": "9",
          "country": "Finland",
          "percentage": 22,
          "question_code": "g5",
          "question_label": "All things considered, how satisfied would you say you are with your life these days? *",
          "subset": "Lesbian"
         },
         {
          "answer": "1",
          "country": "Finland",
          "percentage": 1,
          "question_code": "g5",
          "question_label": "All things considered, how satisfied would you say you are with your life these days? *",
          "subset": "Gay"
         },
         {
          "answer": "10",
          "country": "Finland",
          "percentage": 6,
          "question_code": "g5",
          "question_label": "All things considered, how satisfied would you say you are with your life these days? *",
          "subset": "Gay"
         },
         {
          "answer": "2",
          "country": "Finland",
          "percentage": 1,
          "question_code": "g5",
          "question_label": "All things considered, how satisfied would you say you are with your life these days? *",
          "subset": "Gay"
         },
         {
          "answer": "3",
          "country": "Finland",
          "percentage": 4,
          "question_code": "g5",
          "question_label": "All things considered, how satisfied would you say you are with your life these days? *",
          "subset": "Gay"
         },
         {
          "answer": "4",
          "country": "Finland",
          "percentage": 4,
          "question_code": "g5",
          "question_label": "All things considered, how satisfied would you say you are with your life these days? *",
          "subset": "Gay"
         },
         {
          "answer": "5",
          "country": "Finland",
          "percentage": 5,
          "question_code": "g5",
          "question_label": "All things considered, how satisfied would you say you are with your life these days? *",
          "subset": "Gay"
         },
         {
          "answer": "6",
          "country": "Finland",
          "percentage": 8,
          "question_code": "g5",
          "question_label": "All things considered, how satisfied would you say you are with your life these days? *",
          "subset": "Gay"
         },
         {
          "answer": "7",
          "country": "Finland",
          "percentage": 18,
          "question_code": "g5",
          "question_label": "All things considered, how satisfied would you say you are with your life these days? *",
          "subset": "Gay"
         },
         {
          "answer": "8",
          "country": "Finland",
          "percentage": 33,
          "question_code": "g5",
          "question_label": "All things considered, how satisfied would you say you are with your life these days? *",
          "subset": "Gay"
         },
         {
          "answer": "9",
          "country": "Finland",
          "percentage": 19,
          "question_code": "g5",
          "question_label": "All things considered, how satisfied would you say you are with your life these days? *",
          "subset": "Gay"
         },
         {
          "answer": "1",
          "country": "Finland",
          "percentage": 1,
          "question_code": "g5",
          "question_label": "All things considered, how satisfied would you say you are with your life these days? *",
          "subset": "Bisexual women"
         },
         {
          "answer": "10",
          "country": "Finland",
          "percentage": 5,
          "question_code": "g5",
          "question_label": "All things considered, how satisfied would you say you are with your life these days? *",
          "subset": "Bisexual women"
         },
         {
          "answer": "2",
          "country": "Finland",
          "percentage": 1,
          "question_code": "g5",
          "question_label": "All things considered, how satisfied would you say you are with your life these days? *",
          "subset": "Bisexual women"
         },
         {
          "answer": "3",
          "country": "Finland",
          "percentage": 4,
          "question_code": "g5",
          "question_label": "All things considered, how satisfied would you say you are with your life these days? *",
          "subset": "Bisexual women"
         },
         {
          "answer": "4",
          "country": "Finland",
          "percentage": 5,
          "question_code": "g5",
          "question_label": "All things considered, how satisfied would you say you are with your life these days? *",
          "subset": "Bisexual women"
         },
         {
          "answer": "5",
          "country": "Finland",
          "percentage": 5,
          "question_code": "g5",
          "question_label": "All things considered, how satisfied would you say you are with your life these days? *",
          "subset": "Bisexual women"
         },
         {
          "answer": "6",
          "country": "Finland",
          "percentage": 11,
          "question_code": "g5",
          "question_label": "All things considered, how satisfied would you say you are with your life these days? *",
          "subset": "Bisexual women"
         },
         {
          "answer": "7",
          "country": "Finland",
          "percentage": 22,
          "question_code": "g5",
          "question_label": "All things considered, how satisfied would you say you are with your life these days? *",
          "subset": "Bisexual women"
         },
         {
          "answer": "8",
          "country": "Finland",
          "percentage": 30,
          "question_code": "g5",
          "question_label": "All things considered, how satisfied would you say you are with your life these days? *",
          "subset": "Bisexual women"
         },
         {
          "answer": "9",
          "country": "Finland",
          "percentage": 17,
          "question_code": "g5",
          "question_label": "All things considered, how satisfied would you say you are with your life these days? *",
          "subset": "Bisexual women"
         },
         {
          "answer": "1",
          "country": "Finland",
          "percentage": 1,
          "question_code": "g5",
          "question_label": "All things considered, how satisfied would you say you are with your life these days? *",
          "subset": "Bisexual men"
         },
         {
          "answer": "10",
          "country": "Finland",
          "percentage": 5,
          "question_code": "g5",
          "question_label": "All things considered, how satisfied would you say you are with your life these days? *",
          "subset": "Bisexual men"
         },
         {
          "answer": "2",
          "country": "Finland",
          "percentage": 3,
          "question_code": "g5",
          "question_label": "All things considered, how satisfied would you say you are with your life these days? *",
          "subset": "Bisexual men"
         },
         {
          "answer": "3",
          "country": "Finland",
          "percentage": 4,
          "question_code": "g5",
          "question_label": "All things considered, how satisfied would you say you are with your life these days? *",
          "subset": "Bisexual men"
         },
         {
          "answer": "4",
          "country": "Finland",
          "percentage": 5,
          "question_code": "g5",
          "question_label": "All things considered, how satisfied would you say you are with your life these days? *",
          "subset": "Bisexual men"
         },
         {
          "answer": "5",
          "country": "Finland",
          "percentage": 7,
          "question_code": "g5",
          "question_label": "All things considered, how satisfied would you say you are with your life these days? *",
          "subset": "Bisexual men"
         },
         {
          "answer": "6",
          "country": "Finland",
          "percentage": 11,
          "question_code": "g5",
          "question_label": "All things considered, how satisfied would you say you are with your life these days? *",
          "subset": "Bisexual men"
         },
         {
          "answer": "7",
          "country": "Finland",
          "percentage": 21,
          "question_code": "g5",
          "question_label": "All things considered, how satisfied would you say you are with your life these days? *",
          "subset": "Bisexual men"
         },
         {
          "answer": "8",
          "country": "Finland",
          "percentage": 26,
          "question_code": "g5",
          "question_label": "All things considered, how satisfied would you say you are with your life these days? *",
          "subset": "Bisexual men"
         },
         {
          "answer": "9",
          "country": "Finland",
          "percentage": 17,
          "question_code": "g5",
          "question_label": "All things considered, how satisfied would you say you are with your life these days? *",
          "subset": "Bisexual men"
         },
         {
          "answer": "1",
          "country": "Finland",
          "percentage": 3,
          "question_code": "g5",
          "question_label": "All things considered, how satisfied would you say you are with your life these days? *",
          "subset": "Transgender"
         },
         {
          "answer": "10",
          "country": "Finland",
          "percentage": 4,
          "question_code": "g5",
          "question_label": "All things considered, how satisfied would you say you are with your life these days? *",
          "subset": "Transgender"
         },
         {
          "answer": "2",
          "country": "Finland",
          "percentage": 7,
          "question_code": "g5",
          "question_label": "All things considered, how satisfied would you say you are with your life these days? *",
          "subset": "Transgender"
         },
         {
          "answer": "3",
          "country": "Finland",
          "percentage": 5,
          "question_code": "g5",
          "question_label": "All things considered, how satisfied would you say you are with your life these days? *",
          "subset": "Transgender"
         },
         {
          "answer": "4",
          "country": "Finland",
          "percentage": 7,
          "question_code": "g5",
          "question_label": "All things considered, how satisfied would you say you are with your life these days? *",
          "subset": "Transgender"
         },
         {
          "answer": "5",
          "country": "Finland",
          "percentage": 8,
          "question_code": "g5",
          "question_label": "All things considered, how satisfied would you say you are with your life these days? *",
          "subset": "Transgender"
         },
         {
          "answer": "6",
          "country": "Finland",
          "percentage": 13,
          "question_code": "g5",
          "question_label": "All things considered, how satisfied would you say you are with your life these days? *",
          "subset": "Transgender"
         },
         {
          "answer": "7",
          "country": "Finland",
          "percentage": 21,
          "question_code": "g5",
          "question_label": "All things considered, how satisfied would you say you are with your life these days? *",
          "subset": "Transgender"
         },
         {
          "answer": "8",
          "country": "Finland",
          "percentage": 21,
          "question_code": "g5",
          "question_label": "All things considered, how satisfied would you say you are with your life these days? *",
          "subset": "Transgender"
         },
         {
          "answer": "9",
          "country": "Finland",
          "percentage": 11,
          "question_code": "g5",
          "question_label": "All things considered, how satisfied would you say you are with your life these days? *",
          "subset": "Transgender"
         },
         {
          "answer": "1",
          "country": "France",
          "percentage": 1,
          "question_code": "g5",
          "question_label": "All things considered, how satisfied would you say you are with your life these days? *",
          "subset": "Lesbian"
         },
         {
          "answer": "10",
          "country": "France",
          "percentage": 4,
          "question_code": "g5",
          "question_label": "All things considered, how satisfied would you say you are with your life these days? *",
          "subset": "Lesbian"
         },
         {
          "answer": "2",
          "country": "France",
          "percentage": 1,
          "question_code": "g5",
          "question_label": "All things considered, how satisfied would you say you are with your life these days? *",
          "subset": "Lesbian"
         },
         {
          "answer": "3",
          "country": "France",
          "percentage": 4,
          "question_code": "g5",
          "question_label": "All things considered, how satisfied would you say you are with your life these days? *",
          "subset": "Lesbian"
         },
         {
          "answer": "4",
          "country": "France",
          "percentage": 6,
          "question_code": "g5",
          "question_label": "All things considered, how satisfied would you say you are with your life these days? *",
          "subset": "Lesbian"
         },
         {
          "answer": "5",
          "country": "France",
          "percentage": 11,
          "question_code": "g5",
          "question_label": "All things considered, how satisfied would you say you are with your life these days? *",
          "subset": "Lesbian"
         },
         {
          "answer": "6",
          "country": "France",
          "percentage": 14,
          "question_code": "g5",
          "question_label": "All things considered, how satisfied would you say you are with your life these days? *",
          "subset": "Lesbian"
         },
         {
          "answer": "7",
          "country": "France",
          "percentage": 28,
          "question_code": "g5",
          "question_label": "All things considered, how satisfied would you say you are with your life these days? *",
          "subset": "Lesbian"
         },
         {
          "answer": "8",
          "country": "France",
          "percentage": 22,
          "question_code": "g5",
          "question_label": "All things considered, how satisfied would you say you are with your life these days? *",
          "subset": "Lesbian"
         },
         {
          "answer": "9",
          "country": "France",
          "percentage": 8,
          "question_code": "g5",
          "question_label": "All things considered, how satisfied would you say you are with your life these days? *",
          "subset": "Lesbian"
         },
         {
          "answer": "1",
          "country": "France",
          "percentage": 2,
          "question_code": "g5",
          "question_label": "All things considered, how satisfied would you say you are with your life these days? *",
          "subset": "Gay"
         },
         {
          "answer": "10",
          "country": "France",
          "percentage": 5,
          "question_code": "g5",
          "question_label": "All things considered, how satisfied would you say you are with your life these days? *",
          "subset": "Gay"
         },
         {
          "answer": "2",
          "country": "France",
          "percentage": 2,
          "question_code": "g5",
          "question_label": "All things considered, how satisfied would you say you are with your life these days? *",
          "subset": "Gay"
         },
         {
          "answer": "3",
          "country": "France",
          "percentage": 4,
          "question_code": "g5",
          "question_label": "All things considered, how satisfied would you say you are with your life these days? *",
          "subset": "Gay"
         },
         {
          "answer": "4",
          "country": "France",
          "percentage": 6,
          "question_code": "g5",
          "question_label": "All things considered, how satisfied would you say you are with your life these days? *",
          "subset": "Gay"
         },
         {
          "answer": "5",
          "country": "France",
          "percentage": 9,
          "question_code": "g5",
          "question_label": "All things considered, how satisfied would you say you are with your life these days? *",
          "subset": "Gay"
         },
         {
          "answer": "6",
          "country": "France",
          "percentage": 14,
          "question_code": "g5",
          "question_label": "All things considered, how satisfied would you say you are with your life these days? *",
          "subset": "Gay"
         },
         {
          "answer": "7",
          "country": "France",
          "percentage": 23,
          "question_code": "g5",
          "question_label": "All things considered, how satisfied would you say you are with your life these days? *",
          "subset": "Gay"
         },
         {
          "answer": "8",
          "country": "France",
          "percentage": 24,
          "question_code": "g5",
          "question_label": "All things considered, how satisfied would you say you are with your life these days? *",
          "subset": "Gay"
         },
         {
          "answer": "9",
          "country": "France",
          "percentage": 11,
          "question_code": "g5",
          "question_label": "All things considered, how satisfied would you say you are with your life these days? *",
          "subset": "Gay"
         },
         {
          "answer": "1",
          "country": "France",
          "percentage": 1,
          "question_code": "g5",
          "question_label": "All things considered, how satisfied would you say you are with your life these days? *",
          "subset": "Bisexual women"
         },
         {
          "answer": "10",
          "country": "France",
          "percentage": 3,
          "question_code": "g5",
          "question_label": "All things considered, how satisfied would you say you are with your life these days? *",
          "subset": "Bisexual women"
         },
         {
          "answer": "2",
          "country": "France",
          "percentage": 1,
          "question_code": "g5",
          "question_label": "All things considered, how satisfied would you say you are with your life these days? *",
          "subset": "Bisexual women"
         },
         {
          "answer": "3",
          "country": "France",
          "percentage": 4,
          "question_code": "g5",
          "question_label": "All things considered, how satisfied would you say you are with your life these days? *",
          "subset": "Bisexual women"
         },
         {
          "answer": "4",
          "country": "France",
          "percentage": 7,
          "question_code": "g5",
          "question_label": "All things considered, how satisfied would you say you are with your life these days? *",
          "subset": "Bisexual women"
         },
         {
          "answer": "5",
          "country": "France",
          "percentage": 13,
          "question_code": "g5",
          "question_label": "All things considered, how satisfied would you say you are with your life these days? *",
          "subset": "Bisexual women"
         },
         {
          "answer": "6",
          "country": "France",
          "percentage": 16,
          "question_code": "g5",
          "question_label": "All things considered, how satisfied would you say you are with your life these days? *",
          "subset": "Bisexual women"
         },
         {
          "answer": "7",
          "country": "France",
          "percentage": 28,
          "question_code": "g5",
          "question_label": "All things considered, how satisfied would you say you are with your life these days? *",
          "subset": "Bisexual women"
         },
         {
          "answer": "8",
          "country": "France",
          "percentage": 18,
          "question_code": "g5",
          "question_label": "All things considered, how satisfied would you say you are with your life these days? *",
          "subset": "Bisexual women"
         },
         {
          "answer": "9",
          "country": "France",
          "percentage": 10,
          "question_code": "g5",
          "question_label": "All things considered, how satisfied would you say you are with your life these days? *",
          "subset": "Bisexual women"
         },
         {
          "answer": "1",
          "country": "France",
          "percentage": 2,
          "question_code": "g5",
          "question_label": "All things considered, how satisfied would you say you are with your life these days? *",
          "subset": "Bisexual men"
         },
         {
          "answer": "10",
          "country": "France",
          "percentage": 5,
          "question_code": "g5",
          "question_label": "All things considered, how satisfied would you say you are with your life these days? *",
          "subset": "Bisexual men"
         },
         {
          "answer": "2",
          "country": "France",
          "percentage": 2,
          "question_code": "g5",
          "question_label": "All things considered, how satisfied would you say you are with your life these days? *",
          "subset": "Bisexual men"
         },
         {
          "answer": "3",
          "country": "France",
          "percentage": 6,
          "question_code": "g5",
          "question_label": "All things considered, how satisfied would you say you are with your life these days? *",
          "subset": "Bisexual men"
         },
         {
          "answer": "4",
          "country": "France",
          "percentage": 11,
          "question_code": "g5",
          "question_label": "All things considered, how satisfied would you say you are with your life these days? *",
          "subset": "Bisexual men"
         },
         {
          "answer": "5",
          "country": "France",
          "percentage": 10,
          "question_code": "g5",
          "question_label": "All things considered, how satisfied would you say you are with your life these days? *",
          "subset": "Bisexual men"
         },
         {
          "answer": "6",
          "country": "France",
          "percentage": 12,
          "question_code": "g5",
          "question_label": "All things considered, how satisfied would you say you are with your life these days? *",
          "subset": "Bisexual men"
         },
         {
          "answer": "7",
          "country": "France",
          "percentage": 21,
          "question_code": "g5",
          "question_label": "All things considered, how satisfied would you say you are with your life these days? *",
          "subset": "Bisexual men"
         },
         {
          "answer": "8",
          "country": "France",
          "percentage": 22,
          "question_code": "g5",
          "question_label": "All things considered, how satisfied would you say you are with your life these days? *",
          "subset": "Bisexual men"
         },
         {
          "answer": "9",
          "country": "France",
          "percentage": 10,
          "question_code": "g5",
          "question_label": "All things considered, how satisfied would you say you are with your life these days? *",
          "subset": "Bisexual men"
         },
         {
          "answer": "1",
          "country": "France",
          "percentage": 5,
          "question_code": "g5",
          "question_label": "All things considered, how satisfied would you say you are with your life these days? *",
          "subset": "Transgender"
         },
         {
          "answer": "10",
          "country": "France",
          "percentage": 7,
          "question_code": "g5",
          "question_label": "All things considered, how satisfied would you say you are with your life these days? *",
          "subset": "Transgender"
         },
         {
          "answer": "2",
          "country": "France",
          "percentage": 4,
          "question_code": "g5",
          "question_label": "All things considered, how satisfied would you say you are with your life these days? *",
          "subset": "Transgender"
         },
         {
          "answer": "3",
          "country": "France",
          "percentage": 11,
          "question_code": "g5",
          "question_label": "All things considered, how satisfied would you say you are with your life these days? *",
          "subset": "Transgender"
         },
         {
          "answer": "4",
          "country": "France",
          "percentage": 9,
          "question_code": "g5",
          "question_label": "All things considered, how satisfied would you say you are with your life these days? *",
          "subset": "Transgender"
         },
         {
          "answer": "5",
          "country": "France",
          "percentage": 12,
          "question_code": "g5",
          "question_label": "All things considered, how satisfied would you say you are with your life these days? *",
          "subset": "Transgender"
         },
         {
          "answer": "6",
          "country": "France",
          "percentage": 10,
          "question_code": "g5",
          "question_label": "All things considered, how satisfied would you say you are with your life these days? *",
          "subset": "Transgender"
         },
         {
          "answer": "7",
          "country": "France",
          "percentage": 18,
          "question_code": "g5",
          "question_label": "All things considered, how satisfied would you say you are with your life these days? *",
          "subset": "Transgender"
         },
         {
          "answer": "8",
          "country": "France",
          "percentage": 17,
          "question_code": "g5",
          "question_label": "All things considered, how satisfied would you say you are with your life these days? *",
          "subset": "Transgender"
         },
         {
          "answer": "9",
          "country": "France",
          "percentage": 7,
          "question_code": "g5",
          "question_label": "All things considered, how satisfied would you say you are with your life these days? *",
          "subset": "Transgender"
         },
         {
          "answer": "1",
          "country": "Croatia",
          "percentage": 4,
          "question_code": "g5",
          "question_label": "All things considered, how satisfied would you say you are with your life these days? *",
          "subset": "Lesbian"
         },
         {
          "answer": "10",
          "country": "Croatia",
          "percentage": 2,
          "question_code": "g5",
          "question_label": "All things considered, how satisfied would you say you are with your life these days? *",
          "subset": "Lesbian"
         },
         {
          "answer": "2",
          "country": "Croatia",
          "percentage": 6,
          "question_code": "g5",
          "question_label": "All things considered, how satisfied would you say you are with your life these days? *",
          "subset": "Lesbian"
         },
         {
          "answer": "3",
          "country": "Croatia",
          "percentage": 6,
          "question_code": "g5",
          "question_label": "All things considered, how satisfied would you say you are with your life these days? *",
          "subset": "Lesbian"
         },
         {
          "answer": "4",
          "country": "Croatia",
          "percentage": 8,
          "question_code": "g5",
          "question_label": "All things considered, how satisfied would you say you are with your life these days? *",
          "subset": "Lesbian"
         },
         {
          "answer": "5",
          "country": "Croatia",
          "percentage": 12,
          "question_code": "g5",
          "question_label": "All things considered, how satisfied would you say you are with your life these days? *",
          "subset": "Lesbian"
         },
         {
          "answer": "6",
          "country": "Croatia",
          "percentage": 14,
          "question_code": "g5",
          "question_label": "All things considered, how satisfied would you say you are with your life these days? *",
          "subset": "Lesbian"
         },
         {
          "answer": "7",
          "country": "Croatia",
          "percentage": 24,
          "question_code": "g5",
          "question_label": "All things considered, how satisfied would you say you are with your life these days? *",
          "subset": "Lesbian"
         },
         {
          "answer": "8",
          "country": "Croatia",
          "percentage": 16,
          "question_code": "g5",
          "question_label": "All things considered, how satisfied would you say you are with your life these days? *",
          "subset": "Lesbian"
         },
         {
          "answer": "9",
          "country": "Croatia",
          "percentage": 8,
          "question_code": "g5",
          "question_label": "All things considered, how satisfied would you say you are with your life these days? *",
          "subset": "Lesbian"
         },
         {
          "answer": "1",
          "country": "Croatia",
          "percentage": 5,
          "question_code": "g5",
          "question_label": "All things considered, how satisfied would you say you are with your life these days? *",
          "subset": "Gay"
         },
         {
          "answer": "10",
          "country": "Croatia",
          "percentage": 4,
          "question_code": "g5",
          "question_label": "All things considered, how satisfied would you say you are with your life these days? *",
          "subset": "Gay"
         },
         {
          "answer": "2",
          "country": "Croatia",
          "percentage": 5,
          "question_code": "g5",
          "question_label": "All things considered, how satisfied would you say you are with your life these days? *",
          "subset": "Gay"
         },
         {
          "answer": "3",
          "country": "Croatia",
          "percentage": 8,
          "question_code": "g5",
          "question_label": "All things considered, how satisfied would you say you are with your life these days? *",
          "subset": "Gay"
         },
         {
          "answer": "4",
          "country": "Croatia",
          "percentage": 11,
          "question_code": "g5",
          "question_label": "All things considered, how satisfied would you say you are with your life these days? *",
          "subset": "Gay"
         },
         {
          "answer": "5",
          "country": "Croatia",
          "percentage": 11,
          "question_code": "g5",
          "question_label": "All things considered, how satisfied would you say you are with your life these days? *",
          "subset": "Gay"
         },
         {
          "answer": "6",
          "country": "Croatia",
          "percentage": 14,
          "question_code": "g5",
          "question_label": "All things considered, how satisfied would you say you are with your life these days? *",
          "subset": "Gay"
         },
         {
          "answer": "7",
          "country": "Croatia",
          "percentage": 19,
          "question_code": "g5",
          "question_label": "All things considered, how satisfied would you say you are with your life these days? *",
          "subset": "Gay"
         },
         {
          "answer": "8",
          "country": "Croatia",
          "percentage": 15,
          "question_code": "g5",
          "question_label": "All things considered, how satisfied would you say you are with your life these days? *",
          "subset": "Gay"
         },
         {
          "answer": "9",
          "country": "Croatia",
          "percentage": 8,
          "question_code": "g5",
          "question_label": "All things considered, how satisfied would you say you are with your life these days? *",
          "subset": "Gay"
         },
         {
          "answer": "1",
          "country": "Croatia",
          "percentage": 1,
          "question_code": "g5",
          "question_label": "All things considered, how satisfied would you say you are with your life these days? *",
          "subset": "Bisexual women"
         },
         {
          "answer": "10",
          "country": "Croatia",
          "percentage": 4,
          "question_code": "g5",
          "question_label": "All things considered, how satisfied would you say you are with your life these days? *",
          "subset": "Bisexual women"
         },
         {
          "answer": "2",
          "country": "Croatia",
          "percentage": 2,
          "question_code": "g5",
          "question_label": "All things considered, how satisfied would you say you are with your life these days? *",
          "subset": "Bisexual women"
         },
         {
          "answer": "3",
          "country": "Croatia",
          "percentage": 4,
          "question_code": "g5",
          "question_label": "All things considered, how satisfied would you say you are with your life these days? *",
          "subset": "Bisexual women"
         },
         {
          "answer": "4",
          "country": "Croatia",
          "percentage": 10,
          "question_code": "g5",
          "question_label": "All things considered, how satisfied would you say you are with your life these days? *",
          "subset": "Bisexual women"
         },
         {
          "answer": "5",
          "country": "Croatia",
          "percentage": 13,
          "question_code": "g5",
          "question_label": "All things considered, how satisfied would you say you are with your life these days? *",
          "subset": "Bisexual women"
         },
         {
          "answer": "6",
          "country": "Croatia",
          "percentage": 12,
          "question_code": "g5",
          "question_label": "All things considered, how satisfied would you say you are with your life these days? *",
          "subset": "Bisexual women"
         },
         {
          "answer": "7",
          "country": "Croatia",
          "percentage": 27,
          "question_code": "g5",
          "question_label": "All things considered, how satisfied would you say you are with your life these days? *",
          "subset": "Bisexual women"
         },
         {
          "answer": "8",
          "country": "Croatia",
          "percentage": 20,
          "question_code": "g5",
          "question_label": "All things considered, how satisfied would you say you are with your life these days? *",
          "subset": "Bisexual women"
         },
         {
          "answer": "9",
          "country": "Croatia",
          "percentage": 8,
          "question_code": "g5",
          "question_label": "All things considered, how satisfied would you say you are with your life these days? *",
          "subset": "Bisexual women"
         },
         {
          "answer": "1",
          "country": "Croatia",
          "percentage": 4,
          "question_code": "g5",
          "question_label": "All things considered, how satisfied would you say you are with your life these days? *",
          "subset": "Bisexual men"
         },
         {
          "answer": "10",
          "country": "Croatia",
          "percentage": 3,
          "question_code": "g5",
          "question_label": "All things considered, how satisfied would you say you are with your life these days? *",
          "subset": "Bisexual men"
         },
         {
          "answer": "2",
          "country": "Croatia",
          "percentage": 6,
          "question_code": "g5",
          "question_label": "All things considered, how satisfied would you say you are with your life these days? *",
          "subset": "Bisexual men"
         },
         {
          "answer": "3",
          "country": "Croatia",
          "percentage": 12,
          "question_code": "g5",
          "question_label": "All things considered, how satisfied would you say you are with your life these days? *",
          "subset": "Bisexual men"
         },
         {
          "answer": "4",
          "country": "Croatia",
          "percentage": 10,
          "question_code": "g5",
          "question_label": "All things considered, how satisfied would you say you are with your life these days? *",
          "subset": "Bisexual men"
         },
         {
          "answer": "5",
          "country": "Croatia",
          "percentage": 10,
          "question_code": "g5",
          "question_label": "All things considered, how satisfied would you say you are with your life these days? *",
          "subset": "Bisexual men"
         },
         {
          "answer": "6",
          "country": "Croatia",
          "percentage": 13,
          "question_code": "g5",
          "question_label": "All things considered, how satisfied would you say you are with your life these days? *",
          "subset": "Bisexual men"
         },
         {
          "answer": "7",
          "country": "Croatia",
          "percentage": 17,
          "question_code": "g5",
          "question_label": "All things considered, how satisfied would you say you are with your life these days? *",
          "subset": "Bisexual men"
         },
         {
          "answer": "8",
          "country": "Croatia",
          "percentage": 16,
          "question_code": "g5",
          "question_label": "All things considered, how satisfied would you say you are with your life these days? *",
          "subset": "Bisexual men"
         },
         {
          "answer": "9",
          "country": "Croatia",
          "percentage": 10,
          "question_code": "g5",
          "question_label": "All things considered, how satisfied would you say you are with your life these days? *",
          "subset": "Bisexual men"
         },
         {
          "answer": "1",
          "country": "Croatia",
          "percentage": 10,
          "question_code": "g5",
          "question_label": "All things considered, how satisfied would you say you are with your life these days? *",
          "subset": "Transgender"
         },
         {
          "answer": "10",
          "country": "Croatia",
          "percentage": 8,
          "question_code": "g5",
          "question_label": "All things considered, how satisfied would you say you are with your life these days? *",
          "subset": "Transgender"
         },
         {
          "answer": "2",
          "country": "Croatia",
          "percentage": 6,
          "question_code": "g5",
          "question_label": "All things considered, how satisfied would you say you are with your life these days? *",
          "subset": "Transgender"
         },
         {
          "answer": "3",
          "country": "Croatia",
          "percentage": 8,
          "question_code": "g5",
          "question_label": "All things considered, how satisfied would you say you are with your life these days? *",
          "subset": "Transgender"
         },
         {
          "answer": "4",
          "country": "Croatia",
          "percentage": 6,
          "question_code": "g5",
          "question_label": "All things considered, how satisfied would you say you are with your life these days? *",
          "subset": "Transgender"
         },
         {
          "answer": "5",
          "country": "Croatia",
          "percentage": 8,
          "question_code": "g5",
          "question_label": "All things considered, how satisfied would you say you are with your life these days? *",
          "subset": "Transgender"
         },
         {
          "answer": "6",
          "country": "Croatia",
          "percentage": 15,
          "question_code": "g5",
          "question_label": "All things considered, how satisfied would you say you are with your life these days? *",
          "subset": "Transgender"
         },
         {
          "answer": "7",
          "country": "Croatia",
          "percentage": 18,
          "question_code": "g5",
          "question_label": "All things considered, how satisfied would you say you are with your life these days? *",
          "subset": "Transgender"
         },
         {
          "answer": "8",
          "country": "Croatia",
          "percentage": 11,
          "question_code": "g5",
          "question_label": "All things considered, how satisfied would you say you are with your life these days? *",
          "subset": "Transgender"
         },
         {
          "answer": "9",
          "country": "Croatia",
          "percentage": 8,
          "question_code": "g5",
          "question_label": "All things considered, how satisfied would you say you are with your life these days? *",
          "subset": "Transgender"
         },
         {
          "answer": "1",
          "country": "Hungary",
          "percentage": 3,
          "question_code": "g5",
          "question_label": "All things considered, how satisfied would you say you are with your life these days? *",
          "subset": "Lesbian"
         },
         {
          "answer": "10",
          "country": "Hungary",
          "percentage": 4,
          "question_code": "g5",
          "question_label": "All things considered, how satisfied would you say you are with your life these days? *",
          "subset": "Lesbian"
         },
         {
          "answer": "2",
          "country": "Hungary",
          "percentage": 6,
          "question_code": "g5",
          "question_label": "All things considered, how satisfied would you say you are with your life these days? *",
          "subset": "Lesbian"
         },
         {
          "answer": "3",
          "country": "Hungary",
          "percentage": 6,
          "question_code": "g5",
          "question_label": "All things considered, how satisfied would you say you are with your life these days? *",
          "subset": "Lesbian"
         },
         {
          "answer": "4",
          "country": "Hungary",
          "percentage": 9,
          "question_code": "g5",
          "question_label": "All things considered, how satisfied would you say you are with your life these days? *",
          "subset": "Lesbian"
         },
         {
          "answer": "5",
          "country": "Hungary",
          "percentage": 14,
          "question_code": "g5",
          "question_label": "All things considered, how satisfied would you say you are with your life these days? *",
          "subset": "Lesbian"
         },
         {
          "answer": "6",
          "country": "Hungary",
          "percentage": 14,
          "question_code": "g5",
          "question_label": "All things considered, how satisfied would you say you are with your life these days? *",
          "subset": "Lesbian"
         },
         {
          "answer": "7",
          "country": "Hungary",
          "percentage": 24,
          "question_code": "g5",
          "question_label": "All things considered, how satisfied would you say you are with your life these days? *",
          "subset": "Lesbian"
         },
         {
          "answer": "8",
          "country": "Hungary",
          "percentage": 13,
          "question_code": "g5",
          "question_label": "All things considered, how satisfied would you say you are with your life these days? *",
          "subset": "Lesbian"
         },
         {
          "answer": "9",
          "country": "Hungary",
          "percentage": 7,
          "question_code": "g5",
          "question_label": "All things considered, how satisfied would you say you are with your life these days? *",
          "subset": "Lesbian"
         },
         {
          "answer": "1",
          "country": "Hungary",
          "percentage": 4,
          "question_code": "g5",
          "question_label": "All things considered, how satisfied would you say you are with your life these days? *",
          "subset": "Gay"
         },
         {
          "answer": "10",
          "country": "Hungary",
          "percentage": 4,
          "question_code": "g5",
          "question_label": "All things considered, how satisfied would you say you are with your life these days? *",
          "subset": "Gay"
         },
         {
          "answer": "2",
          "country": "Hungary",
          "percentage": 6,
          "question_code": "g5",
          "question_label": "All things considered, how satisfied would you say you are with your life these days? *",
          "subset": "Gay"
         },
         {
          "answer": "3",
          "country": "Hungary",
          "percentage": 10,
          "question_code": "g5",
          "question_label": "All things considered, how satisfied would you say you are with your life these days? *",
          "subset": "Gay"
         },
         {
          "answer": "4",
          "country": "Hungary",
          "percentage": 9,
          "question_code": "g5",
          "question_label": "All things considered, how satisfied would you say you are with your life these days? *",
          "subset": "Gay"
         },
         {
          "answer": "5",
          "country": "Hungary",
          "percentage": 12,
          "question_code": "g5",
          "question_label": "All things considered, how satisfied would you say you are with your life these days? *",
          "subset": "Gay"
         },
         {
          "answer": "6",
          "country": "Hungary",
          "percentage": 12,
          "question_code": "g5",
          "question_label": "All things considered, how satisfied would you say you are with your life these days? *",
          "subset": "Gay"
         },
         {
          "answer": "7",
          "country": "Hungary",
          "percentage": 20,
          "question_code": "g5",
          "question_label": "All things considered, how satisfied would you say you are with your life these days? *",
          "subset": "Gay"
         },
         {
          "answer": "8",
          "country": "Hungary",
          "percentage": 17,
          "question_code": "g5",
          "question_label": "All things considered, how satisfied would you say you are with your life these days? *",
          "subset": "Gay"
         },
         {
          "answer": "9",
          "country": "Hungary",
          "percentage": 6,
          "question_code": "g5",
          "question_label": "All things considered, how satisfied would you say you are with your life these days? *",
          "subset": "Gay"
         },
         {
          "answer": "1",
          "country": "Hungary",
          "percentage": 1,
          "question_code": "g5",
          "question_label": "All things considered, how satisfied would you say you are with your life these days? *",
          "subset": "Bisexual women"
         },
         {
          "answer": "10",
          "country": "Hungary",
          "percentage": 2,
          "question_code": "g5",
          "question_label": "All things considered, how satisfied would you say you are with your life these days? *",
          "subset": "Bisexual women"
         },
         {
          "answer": "2",
          "country": "Hungary",
          "percentage": 4,
          "question_code": "g5",
          "question_label": "All things considered, how satisfied would you say you are with your life these days? *",
          "subset": "Bisexual women"
         },
         {
          "answer": "3",
          "country": "Hungary",
          "percentage": 4,
          "question_code": "g5",
          "question_label": "All things considered, how satisfied would you say you are with your life these days? *",
          "subset": "Bisexual women"
         },
         {
          "answer": "4",
          "country": "Hungary",
          "percentage": 6,
          "question_code": "g5",
          "question_label": "All things considered, how satisfied would you say you are with your life these days? *",
          "subset": "Bisexual women"
         },
         {
          "answer": "5",
          "country": "Hungary",
          "percentage": 13,
          "question_code": "g5",
          "question_label": "All things considered, how satisfied would you say you are with your life these days? *",
          "subset": "Bisexual women"
         },
         {
          "answer": "6",
          "country": "Hungary",
          "percentage": 16,
          "question_code": "g5",
          "question_label": "All things considered, how satisfied would you say you are with your life these days? *",
          "subset": "Bisexual women"
         },
         {
          "answer": "7",
          "country": "Hungary",
          "percentage": 20,
          "question_code": "g5",
          "question_label": "All things considered, how satisfied would you say you are with your life these days? *",
          "subset": "Bisexual women"
         },
         {
          "answer": "8",
          "country": "Hungary",
          "percentage": 22,
          "question_code": "g5",
          "question_label": "All things considered, how satisfied would you say you are with your life these days? *",
          "subset": "Bisexual women"
         },
         {
          "answer": "9",
          "country": "Hungary",
          "percentage": 12,
          "question_code": "g5",
          "question_label": "All things considered, how satisfied would you say you are with your life these days? *",
          "subset": "Bisexual women"
         },
         {
          "answer": "1",
          "country": "Hungary",
          "percentage": 6,
          "question_code": "g5",
          "question_label": "All things considered, how satisfied would you say you are with your life these days? *",
          "subset": "Bisexual men"
         },
         {
          "answer": "10",
          "country": "Hungary",
          "percentage": 5,
          "question_code": "g5",
          "question_label": "All things considered, how satisfied would you say you are with your life these days? *",
          "subset": "Bisexual men"
         },
         {
          "answer": "2",
          "country": "Hungary",
          "percentage": 5,
          "question_code": "g5",
          "question_label": "All things considered, how satisfied would you say you are with your life these days? *",
          "subset": "Bisexual men"
         },
         {
          "answer": "3",
          "country": "Hungary",
          "percentage": 9,
          "question_code": "g5",
          "question_label": "All things considered, how satisfied would you say you are with your life these days? *",
          "subset": "Bisexual men"
         },
         {
          "answer": "4",
          "country": "Hungary",
          "percentage": 10,
          "question_code": "g5",
          "question_label": "All things considered, how satisfied would you say you are with your life these days? *",
          "subset": "Bisexual men"
         },
         {
          "answer": "5",
          "country": "Hungary",
          "percentage": 15,
          "question_code": "g5",
          "question_label": "All things considered, how satisfied would you say you are with your life these days? *",
          "subset": "Bisexual men"
         },
         {
          "answer": "6",
          "country": "Hungary",
          "percentage": 11,
          "question_code": "g5",
          "question_label": "All things considered, how satisfied would you say you are with your life these days? *",
          "subset": "Bisexual men"
         },
         {
          "answer": "7",
          "country": "Hungary",
          "percentage": 19,
          "question_code": "g5",
          "question_label": "All things considered, how satisfied would you say you are with your life these days? *",
          "subset": "Bisexual men"
         },
         {
          "answer": "8",
          "country": "Hungary",
          "percentage": 15,
          "question_code": "g5",
          "question_label": "All things considered, how satisfied would you say you are with your life these days? *",
          "subset": "Bisexual men"
         },
         {
          "answer": "9",
          "country": "Hungary",
          "percentage": 6,
          "question_code": "g5",
          "question_label": "All things considered, how satisfied would you say you are with your life these days? *",
          "subset": "Bisexual men"
         },
         {
          "answer": "1",
          "country": "Hungary",
          "percentage": 6,
          "question_code": "g5",
          "question_label": "All things considered, how satisfied would you say you are with your life these days? *",
          "subset": "Transgender"
         },
         {
          "answer": "10",
          "country": "Hungary",
          "percentage": 5,
          "question_code": "g5",
          "question_label": "All things considered, how satisfied would you say you are with your life these days? *",
          "subset": "Transgender"
         },
         {
          "answer": "2",
          "country": "Hungary",
          "percentage": 8,
          "question_code": "g5",
          "question_label": "All things considered, how satisfied would you say you are with your life these days? *",
          "subset": "Transgender"
         },
         {
          "answer": "3",
          "country": "Hungary",
          "percentage": 15,
          "question_code": "g5",
          "question_label": "All things considered, how satisfied would you say you are with your life these days? *",
          "subset": "Transgender"
         },
         {
          "answer": "4",
          "country": "Hungary",
          "percentage": 10,
          "question_code": "g5",
          "question_label": "All things considered, how satisfied would you say you are with your life these days? *",
          "subset": "Transgender"
         },
         {
          "answer": "5",
          "country": "Hungary",
          "percentage": 19,
          "question_code": "g5",
          "question_label": "All things considered, how satisfied would you say you are with your life these days? *",
          "subset": "Transgender"
         },
         {
          "answer": "6",
          "country": "Hungary",
          "percentage": 9,
          "question_code": "g5",
          "question_label": "All things considered, how satisfied would you say you are with your life these days? *",
          "subset": "Transgender"
         },
         {
          "answer": "7",
          "country": "Hungary",
          "percentage": 10,
          "question_code": "g5",
          "question_label": "All things considered, how satisfied would you say you are with your life these days? *",
          "subset": "Transgender"
         },
         {
          "answer": "8",
          "country": "Hungary",
          "percentage": 11,
          "question_code": "g5",
          "question_label": "All things considered, how satisfied would you say you are with your life these days? *",
          "subset": "Transgender"
         },
         {
          "answer": "9",
          "country": "Hungary",
          "percentage": 8,
          "question_code": "g5",
          "question_label": "All things considered, how satisfied would you say you are with your life these days? *",
          "subset": "Transgender"
         },
         {
          "answer": "1",
          "country": "Ireland",
          "percentage": 2,
          "question_code": "g5",
          "question_label": "All things considered, how satisfied would you say you are with your life these days? *",
          "subset": "Lesbian"
         },
         {
          "answer": "10",
          "country": "Ireland",
          "percentage": 6,
          "question_code": "g5",
          "question_label": "All things considered, how satisfied would you say you are with your life these days? *",
          "subset": "Lesbian"
         },
         {
          "answer": "2",
          "country": "Ireland",
          "percentage": 2,
          "question_code": "g5",
          "question_label": "All things considered, how satisfied would you say you are with your life these days? *",
          "subset": "Lesbian"
         },
         {
          "answer": "3",
          "country": "Ireland",
          "percentage": 4,
          "question_code": "g5",
          "question_label": "All things considered, how satisfied would you say you are with your life these days? *",
          "subset": "Lesbian"
         },
         {
          "answer": "4",
          "country": "Ireland",
          "percentage": 5,
          "question_code": "g5",
          "question_label": "All things considered, how satisfied would you say you are with your life these days? *",
          "subset": "Lesbian"
         },
         {
          "answer": "5",
          "country": "Ireland",
          "percentage": 10,
          "question_code": "g5",
          "question_label": "All things considered, how satisfied would you say you are with your life these days? *",
          "subset": "Lesbian"
         },
         {
          "answer": "6",
          "country": "Ireland",
          "percentage": 11,
          "question_code": "g5",
          "question_label": "All things considered, how satisfied would you say you are with your life these days? *",
          "subset": "Lesbian"
         },
         {
          "answer": "7",
          "country": "Ireland",
          "percentage": 23,
          "question_code": "g5",
          "question_label": "All things considered, how satisfied would you say you are with your life these days? *",
          "subset": "Lesbian"
         },
         {
          "answer": "8",
          "country": "Ireland",
          "percentage": 25,
          "question_code": "g5",
          "question_label": "All things considered, how satisfied would you say you are with your life these days? *",
          "subset": "Lesbian"
         },
         {
          "answer": "9",
          "country": "Ireland",
          "percentage": 13,
          "question_code": "g5",
          "question_label": "All things considered, how satisfied would you say you are with your life these days? *",
          "subset": "Lesbian"
         },
         {
          "answer": "1",
          "country": "Ireland",
          "percentage": 1,
          "question_code": "g5",
          "question_label": "All things considered, how satisfied would you say you are with your life these days? *",
          "subset": "Gay"
         },
         {
          "answer": "10",
          "country": "Ireland",
          "percentage": 7,
          "question_code": "g5",
          "question_label": "All things considered, how satisfied would you say you are with your life these days? *",
          "subset": "Gay"
         },
         {
          "answer": "2",
          "country": "Ireland",
          "percentage": 2,
          "question_code": "g5",
          "question_label": "All things considered, how satisfied would you say you are with your life these days? *",
          "subset": "Gay"
         },
         {
          "answer": "3",
          "country": "Ireland",
          "percentage": 5,
          "question_code": "g5",
          "question_label": "All things considered, how satisfied would you say you are with your life these days? *",
          "subset": "Gay"
         },
         {
          "answer": "4",
          "country": "Ireland",
          "percentage": 4,
          "question_code": "g5",
          "question_label": "All things considered, how satisfied would you say you are with your life these days? *",
          "subset": "Gay"
         },
         {
          "answer": "5",
          "country": "Ireland",
          "percentage": 6,
          "question_code": "g5",
          "question_label": "All things considered, how satisfied would you say you are with your life these days? *",
          "subset": "Gay"
         },
         {
          "answer": "6",
          "country": "Ireland",
          "percentage": 13,
          "question_code": "g5",
          "question_label": "All things considered, how satisfied would you say you are with your life these days? *",
          "subset": "Gay"
         },
         {
          "answer": "7",
          "country": "Ireland",
          "percentage": 21,
          "question_code": "g5",
          "question_label": "All things considered, how satisfied would you say you are with your life these days? *",
          "subset": "Gay"
         },
         {
          "answer": "8",
          "country": "Ireland",
          "percentage": 30,
          "question_code": "g5",
          "question_label": "All things considered, how satisfied would you say you are with your life these days? *",
          "subset": "Gay"
         },
         {
          "answer": "9",
          "country": "Ireland",
          "percentage": 11,
          "question_code": "g5",
          "question_label": "All things considered, how satisfied would you say you are with your life these days? *",
          "subset": "Gay"
         },
         {
          "answer": "1",
          "country": "Ireland",
          "percentage": 3,
          "question_code": "g5",
          "question_label": "All things considered, how satisfied would you say you are with your life these days? *",
          "subset": "Bisexual women"
         },
         {
          "answer": "10",
          "country": "Ireland",
          "percentage": 3,
          "question_code": "g5",
          "question_label": "All things considered, how satisfied would you say you are with your life these days? *",
          "subset": "Bisexual women"
         },
         {
          "answer": "2",
          "country": "Ireland",
          "percentage": 4,
          "question_code": "g5",
          "question_label": "All things considered, how satisfied would you say you are with your life these days? *",
          "subset": "Bisexual women"
         },
         {
          "answer": "3",
          "country": "Ireland",
          "percentage": 6,
          "question_code": "g5",
          "question_label": "All things considered, how satisfied would you say you are with your life these days? *",
          "subset": "Bisexual women"
         },
         {
          "answer": "4",
          "country": "Ireland",
          "percentage": 8,
          "question_code": "g5",
          "question_label": "All things considered, how satisfied would you say you are with your life these days? *",
          "subset": "Bisexual women"
         },
         {
          "answer": "5",
          "country": "Ireland",
          "percentage": 10,
          "question_code": "g5",
          "question_label": "All things considered, how satisfied would you say you are with your life these days? *",
          "subset": "Bisexual women"
         },
         {
          "answer": "6",
          "country": "Ireland",
          "percentage": 17,
          "question_code": "g5",
          "question_label": "All things considered, how satisfied would you say you are with your life these days? *",
          "subset": "Bisexual women"
         },
         {
          "answer": "7",
          "country": "Ireland",
          "percentage": 24,
          "question_code": "g5",
          "question_label": "All things considered, how satisfied would you say you are with your life these days? *",
          "subset": "Bisexual women"
         },
         {
          "answer": "8",
          "country": "Ireland",
          "percentage": 18,
          "question_code": "g5",
          "question_label": "All things considered, how satisfied would you say you are with your life these days? *",
          "subset": "Bisexual women"
         },
         {
          "answer": "9",
          "country": "Ireland",
          "percentage": 8,
          "question_code": "g5",
          "question_label": "All things considered, how satisfied would you say you are with your life these days? *",
          "subset": "Bisexual women"
         },
         {
          "answer": "1",
          "country": "Ireland",
          "percentage": 2,
          "question_code": "g5",
          "question_label": "All things considered, how satisfied would you say you are with your life these days? *",
          "subset": "Bisexual men"
         },
         {
          "answer": "10",
          "country": "Ireland",
          "percentage": 2,
          "question_code": "g5",
          "question_label": "All things considered, how satisfied would you say you are with your life these days? *",
          "subset": "Bisexual men"
         },
         {
          "answer": "2",
          "country": "Ireland",
          "percentage": 2,
          "question_code": "g5",
          "question_label": "All things considered, how satisfied would you say you are with your life these days? *",
          "subset": "Bisexual men"
         },
         {
          "answer": "3",
          "country": "Ireland",
          "percentage": 3,
          "question_code": "g5",
          "question_label": "All things considered, how satisfied would you say you are with your life these days? *",
          "subset": "Bisexual men"
         },
         {
          "answer": "4",
          "country": "Ireland",
          "percentage": 9,
          "question_code": "g5",
          "question_label": "All things considered, how satisfied would you say you are with your life these days? *",
          "subset": "Bisexual men"
         },
         {
          "answer": "5",
          "country": "Ireland",
          "percentage": 10,
          "question_code": "g5",
          "question_label": "All things considered, how satisfied would you say you are with your life these days? *",
          "subset": "Bisexual men"
         },
         {
          "answer": "6",
          "country": "Ireland",
          "percentage": 16,
          "question_code": "g5",
          "question_label": "All things considered, how satisfied would you say you are with your life these days? *",
          "subset": "Bisexual men"
         },
         {
          "answer": "7",
          "country": "Ireland",
          "percentage": 28,
          "question_code": "g5",
          "question_label": "All things considered, how satisfied would you say you are with your life these days? *",
          "subset": "Bisexual men"
         },
         {
          "answer": "8",
          "country": "Ireland",
          "percentage": 24,
          "question_code": "g5",
          "question_label": "All things considered, how satisfied would you say you are with your life these days? *",
          "subset": "Bisexual men"
         },
         {
          "answer": "9",
          "country": "Ireland",
          "percentage": 5,
          "question_code": "g5",
          "question_label": "All things considered, how satisfied would you say you are with your life these days? *",
          "subset": "Bisexual men"
         },
         {
          "answer": "1",
          "country": "Ireland",
          "percentage": 9,
          "question_code": "g5",
          "question_label": "All things considered, how satisfied would you say you are with your life these days? *",
          "subset": "Transgender"
         },
         {
          "answer": "10",
          "country": "Ireland",
          "percentage": 4,
          "question_code": "g5",
          "question_label": "All things considered, how satisfied would you say you are with your life these days? *",
          "subset": "Transgender"
         },
         {
          "answer": "2",
          "country": "Ireland",
          "percentage": 5,
          "question_code": "g5",
          "question_label": "All things considered, how satisfied would you say you are with your life these days? *",
          "subset": "Transgender"
         },
         {
          "answer": "3",
          "country": "Ireland",
          "percentage": 12,
          "question_code": "g5",
          "question_label": "All things considered, how satisfied would you say you are with your life these days? *",
          "subset": "Transgender"
         },
         {
          "answer": "4",
          "country": "Ireland",
          "percentage": 9,
          "question_code": "g5",
          "question_label": "All things considered, how satisfied would you say you are with your life these days? *",
          "subset": "Transgender"
         },
         {
          "answer": "5",
          "country": "Ireland",
          "percentage": 11,
          "question_code": "g5",
          "question_label": "All things considered, how satisfied would you say you are with your life these days? *",
          "subset": "Transgender"
         },
         {
          "answer": "6",
          "country": "Ireland",
          "percentage": 14,
          "question_code": "g5",
          "question_label": "All things considered, how satisfied would you say you are with your life these days? *",
          "subset": "Transgender"
         },
         {
          "answer": "7",
          "country": "Ireland",
          "percentage": 18,
          "question_code": "g5",
          "question_label": "All things considered, how satisfied would you say you are with your life these days? *",
          "subset": "Transgender"
         },
         {
          "answer": "8",
          "country": "Ireland",
          "percentage": 16,
          "question_code": "g5",
          "question_label": "All things considered, how satisfied would you say you are with your life these days? *",
          "subset": "Transgender"
         },
         {
          "answer": "9",
          "country": "Ireland",
          "percentage": 2,
          "question_code": "g5",
          "question_label": "All things considered, how satisfied would you say you are with your life these days? *",
          "subset": "Transgender"
         },
         {
          "answer": "1",
          "country": "Italy",
          "percentage": 3,
          "question_code": "g5",
          "question_label": "All things considered, how satisfied would you say you are with your life these days? *",
          "subset": "Lesbian"
         },
         {
          "answer": "10",
          "country": "Italy",
          "percentage": 2,
          "question_code": "g5",
          "question_label": "All things considered, how satisfied would you say you are with your life these days? *",
          "subset": "Lesbian"
         },
         {
          "answer": "2",
          "country": "Italy",
          "percentage": 3,
          "question_code": "g5",
          "question_label": "All things considered, how satisfied would you say you are with your life these days? *",
          "subset": "Lesbian"
         },
         {
          "answer": "3",
          "country": "Italy",
          "percentage": 4,
          "question_code": "g5",
          "question_label": "All things considered, how satisfied would you say you are with your life these days? *",
          "subset": "Lesbian"
         },
         {
          "answer": "4",
          "country": "Italy",
          "percentage": 8,
          "question_code": "g5",
          "question_label": "All things considered, how satisfied would you say you are with your life these days? *",
          "subset": "Lesbian"
         },
         {
          "answer": "5",
          "country": "Italy",
          "percentage": 15,
          "question_code": "g5",
          "question_label": "All things considered, how satisfied would you say you are with your life these days? *",
          "subset": "Lesbian"
         },
         {
          "answer": "6",
          "country": "Italy",
          "percentage": 20,
          "question_code": "g5",
          "question_label": "All things considered, how satisfied would you say you are with your life these days? *",
          "subset": "Lesbian"
         },
         {
          "answer": "7",
          "country": "Italy",
          "percentage": 25,
          "question_code": "g5",
          "question_label": "All things considered, how satisfied would you say you are with your life these days? *",
          "subset": "Lesbian"
         },
         {
          "answer": "8",
          "country": "Italy",
          "percentage": 15,
          "question_code": "g5",
          "question_label": "All things considered, how satisfied would you say you are with your life these days? *",
          "subset": "Lesbian"
         },
         {
          "answer": "9",
          "country": "Italy",
          "percentage": 4,
          "question_code": "g5",
          "question_label": "All things considered, how satisfied would you say you are with your life these days? *",
          "subset": "Lesbian"
         },
         {
          "answer": "1",
          "country": "Italy",
          "percentage": 3,
          "question_code": "g5",
          "question_label": "All things considered, how satisfied would you say you are with your life these days? *",
          "subset": "Gay"
         },
         {
          "answer": "10",
          "country": "Italy",
          "percentage": 2,
          "question_code": "g5",
          "question_label": "All things considered, how satisfied would you say you are with your life these days? *",
          "subset": "Gay"
         },
         {
          "answer": "2",
          "country": "Italy",
          "percentage": 3,
          "question_code": "g5",
          "question_label": "All things considered, how satisfied would you say you are with your life these days? *",
          "subset": "Gay"
         },
         {
          "answer": "3",
          "country": "Italy",
          "percentage": 6,
          "question_code": "g5",
          "question_label": "All things considered, how satisfied would you say you are with your life these days? *",
          "subset": "Gay"
         },
         {
          "answer": "4",
          "country": "Italy",
          "percentage": 8,
          "question_code": "g5",
          "question_label": "All things considered, how satisfied would you say you are with your life these days? *",
          "subset": "Gay"
         },
         {
          "answer": "5",
          "country": "Italy",
          "percentage": 13,
          "question_code": "g5",
          "question_label": "All things considered, how satisfied would you say you are with your life these days? *",
          "subset": "Gay"
         },
         {
          "answer": "6",
          "country": "Italy",
          "percentage": 18,
          "question_code": "g5",
          "question_label": "All things considered, how satisfied would you say you are with your life these days? *",
          "subset": "Gay"
         },
         {
          "answer": "7",
          "country": "Italy",
          "percentage": 25,
          "question_code": "g5",
          "question_label": "All things considered, how satisfied would you say you are with your life these days? *",
          "subset": "Gay"
         },
         {
          "answer": "8",
          "country": "Italy",
          "percentage": 18,
          "question_code": "g5",
          "question_label": "All things considered, how satisfied would you say you are with your life these days? *",
          "subset": "Gay"
         },
         {
          "answer": "9",
          "country": "Italy",
          "percentage": 5,
          "question_code": "g5",
          "question_label": "All things considered, how satisfied would you say you are with your life these days? *",
          "subset": "Gay"
         },
         {
          "answer": "1",
          "country": "Italy",
          "percentage": 2,
          "question_code": "g5",
          "question_label": "All things considered, how satisfied would you say you are with your life these days? *",
          "subset": "Bisexual women"
         },
         {
          "answer": "10",
          "country": "Italy",
          "percentage": 2,
          "question_code": "g5",
          "question_label": "All things considered, how satisfied would you say you are with your life these days? *",
          "subset": "Bisexual women"
         },
         {
          "answer": "2",
          "country": "Italy",
          "percentage": 3,
          "question_code": "g5",
          "question_label": "All things considered, how satisfied would you say you are with your life these days? *",
          "subset": "Bisexual women"
         },
         {
          "answer": "3",
          "country": "Italy",
          "percentage": 5,
          "question_code": "g5",
          "question_label": "All things considered, how satisfied would you say you are with your life these days? *",
          "subset": "Bisexual women"
         },
         {
          "answer": "4",
          "country": "Italy",
          "percentage": 8,
          "question_code": "g5",
          "question_label": "All things considered, how satisfied would you say you are with your life these days? *",
          "subset": "Bisexual women"
         },
         {
          "answer": "5",
          "country": "Italy",
          "percentage": 16,
          "question_code": "g5",
          "question_label": "All things considered, how satisfied would you say you are with your life these days? *",
          "subset": "Bisexual women"
         },
         {
          "answer": "6",
          "country": "Italy",
          "percentage": 19,
          "question_code": "g5",
          "question_label": "All things considered, how satisfied would you say you are with your life these days? *",
          "subset": "Bisexual women"
         },
         {
          "answer": "7",
          "country": "Italy",
          "percentage": 26,
          "question_code": "g5",
          "question_label": "All things considered, how satisfied would you say you are with your life these days? *",
          "subset": "Bisexual women"
         },
         {
          "answer": "8",
          "country": "Italy",
          "percentage": 14,
          "question_code": "g5",
          "question_label": "All things considered, how satisfied would you say you are with your life these days? *",
          "subset": "Bisexual women"
         },
         {
          "answer": "9",
          "country": "Italy",
          "percentage": 5,
          "question_code": "g5",
          "question_label": "All things considered, how satisfied would you say you are with your life these days? *",
          "subset": "Bisexual women"
         },
         {
          "answer": "1",
          "country": "Italy",
          "percentage": 4,
          "question_code": "g5",
          "question_label": "All things considered, how satisfied would you say you are with your life these days? *",
          "subset": "Bisexual men"
         },
         {
          "answer": "10",
          "country": "Italy",
          "percentage": 4,
          "question_code": "g5",
          "question_label": "All things considered, how satisfied would you say you are with your life these days? *",
          "subset": "Bisexual men"
         },
         {
          "answer": "2",
          "country": "Italy",
          "percentage": 5,
          "question_code": "g5",
          "question_label": "All things considered, how satisfied would you say you are with your life these days? *",
          "subset": "Bisexual men"
         },
         {
          "answer": "3",
          "country": "Italy",
          "percentage": 6,
          "question_code": "g5",
          "question_label": "All things considered, how satisfied would you say you are with your life these days? *",
          "subset": "Bisexual men"
         },
         {
          "answer": "4",
          "country": "Italy",
          "percentage": 7,
          "question_code": "g5",
          "question_label": "All things considered, how satisfied would you say you are with your life these days? *",
          "subset": "Bisexual men"
         },
         {
          "answer": "5",
          "country": "Italy",
          "percentage": 12,
          "question_code": "g5",
          "question_label": "All things considered, how satisfied would you say you are with your life these days? *",
          "subset": "Bisexual men"
         },
         {
          "answer": "6",
          "country": "Italy",
          "percentage": 19,
          "question_code": "g5",
          "question_label": "All things considered, how satisfied would you say you are with your life these days? *",
          "subset": "Bisexual men"
         },
         {
          "answer": "7",
          "country": "Italy",
          "percentage": 21,
          "question_code": "g5",
          "question_label": "All things considered, how satisfied would you say you are with your life these days? *",
          "subset": "Bisexual men"
         },
         {
          "answer": "8",
          "country": "Italy",
          "percentage": 16,
          "question_code": "g5",
          "question_label": "All things considered, how satisfied would you say you are with your life these days? *",
          "subset": "Bisexual men"
         },
         {
          "answer": "9",
          "country": "Italy",
          "percentage": 6,
          "question_code": "g5",
          "question_label": "All things considered, how satisfied would you say you are with your life these days? *",
          "subset": "Bisexual men"
         },
         {
          "answer": "1",
          "country": "Italy",
          "percentage": 7,
          "question_code": "g5",
          "question_label": "All things considered, how satisfied would you say you are with your life these days? *",
          "subset": "Transgender"
         },
         {
          "answer": "10",
          "country": "Italy",
          "percentage": 4,
          "question_code": "g5",
          "question_label": "All things considered, how satisfied would you say you are with your life these days? *",
          "subset": "Transgender"
         },
         {
          "answer": "2",
          "country": "Italy",
          "percentage": 4,
          "question_code": "g5",
          "question_label": "All things considered, how satisfied would you say you are with your life these days? *",
          "subset": "Transgender"
         },
         {
          "answer": "3",
          "country": "Italy",
          "percentage": 8,
          "question_code": "g5",
          "question_label": "All things considered, how satisfied would you say you are with your life these days? *",
          "subset": "Transgender"
         },
         {
          "answer": "4",
          "country": "Italy",
          "percentage": 10,
          "question_code": "g5",
          "question_label": "All things considered, how satisfied would you say you are with your life these days? *",
          "subset": "Transgender"
         },
         {
          "answer": "5",
          "country": "Italy",
          "percentage": 16,
          "question_code": "g5",
          "question_label": "All things considered, how satisfied would you say you are with your life these days? *",
          "subset": "Transgender"
         },
         {
          "answer": "6",
          "country": "Italy",
          "percentage": 17,
          "question_code": "g5",
          "question_label": "All things considered, how satisfied would you say you are with your life these days? *",
          "subset": "Transgender"
         },
         {
          "answer": "7",
          "country": "Italy",
          "percentage": 17,
          "question_code": "g5",
          "question_label": "All things considered, how satisfied would you say you are with your life these days? *",
          "subset": "Transgender"
         },
         {
          "answer": "8",
          "country": "Italy",
          "percentage": 11,
          "question_code": "g5",
          "question_label": "All things considered, how satisfied would you say you are with your life these days? *",
          "subset": "Transgender"
         },
         {
          "answer": "9",
          "country": "Italy",
          "percentage": 5,
          "question_code": "g5",
          "question_label": "All things considered, how satisfied would you say you are with your life these days? *",
          "subset": "Transgender"
         },
         {
          "answer": "1",
          "country": "Lithuania",
          "percentage": 2,
          "question_code": "g5",
          "question_label": "All things considered, how satisfied would you say you are with your life these days? *",
          "subset": "Lesbian"
         },
         {
          "answer": "10",
          "country": "Lithuania",
          "percentage": 6,
          "question_code": "g5",
          "question_label": "All things considered, how satisfied would you say you are with your life these days? *",
          "subset": "Lesbian"
         },
         {
          "answer": "2",
          "country": "Lithuania",
          "percentage": 3,
          "question_code": "g5",
          "question_label": "All things considered, how satisfied would you say you are with your life these days? *",
          "subset": "Lesbian"
         },
         {
          "answer": "3",
          "country": "Lithuania",
          "percentage": 7,
          "question_code": "g5",
          "question_label": "All things considered, how satisfied would you say you are with your life these days? *",
          "subset": "Lesbian"
         },
         {
          "answer": "4",
          "country": "Lithuania",
          "percentage": 10,
          "question_code": "g5",
          "question_label": "All things considered, how satisfied would you say you are with your life these days? *",
          "subset": "Lesbian"
         },
         {
          "answer": "5",
          "country": "Lithuania",
          "percentage": 17,
          "question_code": "g5",
          "question_label": "All things considered, how satisfied would you say you are with your life these days? *",
          "subset": "Lesbian"
         },
         {
          "answer": "6",
          "country": "Lithuania",
          "percentage": 15,
          "question_code": "g5",
          "question_label": "All things considered, how satisfied would you say you are with your life these days? *",
          "subset": "Lesbian"
         },
         {
          "answer": "7",
          "country": "Lithuania",
          "percentage": 20,
          "question_code": "g5",
          "question_label": "All things considered, how satisfied would you say you are with your life these days? *",
          "subset": "Lesbian"
         },
         {
          "answer": "8",
          "country": "Lithuania",
          "percentage": 11,
          "question_code": "g5",
          "question_label": "All things considered, how satisfied would you say you are with your life these days? *",
          "subset": "Lesbian"
         },
         {
          "answer": "9",
          "country": "Lithuania",
          "percentage": 8,
          "question_code": "g5",
          "question_label": "All things considered, how satisfied would you say you are with your life these days? *",
          "subset": "Lesbian"
         },
         {
          "answer": "1",
          "country": "Lithuania",
          "percentage": 6,
          "question_code": "g5",
          "question_label": "All things considered, how satisfied would you say you are with your life these days? *",
          "subset": "Gay"
         },
         {
          "answer": "10",
          "country": "Lithuania",
          "percentage": 4,
          "question_code": "g5",
          "question_label": "All things considered, how satisfied would you say you are with your life these days? *",
          "subset": "Gay"
         },
         {
          "answer": "2",
          "country": "Lithuania",
          "percentage": 5,
          "question_code": "g5",
          "question_label": "All things considered, how satisfied would you say you are with your life these days? *",
          "subset": "Gay"
         },
         {
          "answer": "3",
          "country": "Lithuania",
          "percentage": 8,
          "question_code": "g5",
          "question_label": "All things considered, how satisfied would you say you are with your life these days? *",
          "subset": "Gay"
         },
         {
          "answer": "4",
          "country": "Lithuania",
          "percentage": 11,
          "question_code": "g5",
          "question_label": "All things considered, how satisfied would you say you are with your life these days? *",
          "subset": "Gay"
         },
         {
          "answer": "5",
          "country": "Lithuania",
          "percentage": 13,
          "question_code": "g5",
          "question_label": "All things considered, how satisfied would you say you are with your life these days? *",
          "subset": "Gay"
         },
         {
          "answer": "6",
          "country": "Lithuania",
          "percentage": 15,
          "question_code": "g5",
          "question_label": "All things considered, how satisfied would you say you are with your life these days? *",
          "subset": "Gay"
         },
         {
          "answer": "7",
          "country": "Lithuania",
          "percentage": 17,
          "question_code": "g5",
          "question_label": "All things considered, how satisfied would you say you are with your life these days? *",
          "subset": "Gay"
         },
         {
          "answer": "8",
          "country": "Lithuania",
          "percentage": 16,
          "question_code": "g5",
          "question_label": "All things considered, how satisfied would you say you are with your life these days? *",
          "subset": "Gay"
         },
         {
          "answer": "9",
          "country": "Lithuania",
          "percentage": 6,
          "question_code": "g5",
          "question_label": "All things considered, how satisfied would you say you are with your life these days? *",
          "subset": "Gay"
         },
         {
          "answer": "1",
          "country": "Lithuania",
          "percentage": 5,
          "question_code": "g5",
          "question_label": "All things considered, how satisfied would you say you are with your life these days? *",
          "subset": "Bisexual women"
         },
         {
          "answer": "10",
          "country": "Lithuania",
          "percentage": 4,
          "question_code": "g5",
          "question_label": "All things considered, how satisfied would you say you are with your life these days? *",
          "subset": "Bisexual women"
         },
         {
          "answer": "2",
          "country": "Lithuania",
          "percentage": 3,
          "question_code": "g5",
          "question_label": "All things considered, how satisfied would you say you are with your life these days? *",
          "subset": "Bisexual women"
         },
         {
          "answer": "3",
          "country": "Lithuania",
          "percentage": 3,
          "question_code": "g5",
          "question_label": "All things considered, how satisfied would you say you are with your life these days? *",
          "subset": "Bisexual women"
         },
         {
          "answer": "4",
          "country": "Lithuania",
          "percentage": 5,
          "question_code": "g5",
          "question_label": "All things considered, how satisfied would you say you are with your life these days? *",
          "subset": "Bisexual women"
         },
         {
          "answer": "5",
          "country": "Lithuania",
          "percentage": 8,
          "question_code": "g5",
          "question_label": "All things considered, how satisfied would you say you are with your life these days? *",
          "subset": "Bisexual women"
         },
         {
          "answer": "6",
          "country": "Lithuania",
          "percentage": 20,
          "question_code": "g5",
          "question_label": "All things considered, how satisfied would you say you are with your life these days? *",
          "subset": "Bisexual women"
         },
         {
          "answer": "7",
          "country": "Lithuania",
          "percentage": 29,
          "question_code": "g5",
          "question_label": "All things considered, how satisfied would you say you are with your life these days? *",
          "subset": "Bisexual women"
         },
         {
          "answer": "8",
          "country": "Lithuania",
          "percentage": 16,
          "question_code": "g5",
          "question_label": "All things considered, how satisfied would you say you are with your life these days? *",
          "subset": "Bisexual women"
         },
         {
          "answer": "9",
          "country": "Lithuania",
          "percentage": 6,
          "question_code": "g5",
          "question_label": "All things considered, how satisfied would you say you are with your life these days? *",
          "subset": "Bisexual women"
         },
         {
          "answer": "1",
          "country": "Lithuania",
          "percentage": 5,
          "question_code": "g5",
          "question_label": "All things considered, how satisfied would you say you are with your life these days? *",
          "subset": "Bisexual men"
         },
         {
          "answer": "10",
          "country": "Lithuania",
          "percentage": 6,
          "question_code": "g5",
          "question_label": "All things considered, how satisfied would you say you are with your life these days? *",
          "subset": "Bisexual men"
         },
         {
          "answer": "2",
          "country": "Lithuania",
          "percentage": 2,
          "question_code": "g5",
          "question_label": "All things considered, how satisfied would you say you are with your life these days? *",
          "subset": "Bisexual men"
         },
         {
          "answer": "3",
          "country": "Lithuania",
          "percentage": 6,
          "question_code": "g5",
          "question_label": "All things considered, how satisfied would you say you are with your life these days? *",
          "subset": "Bisexual men"
         },
         {
          "answer": "4",
          "country": "Lithuania",
          "percentage": 12,
          "question_code": "g5",
          "question_label": "All things considered, how satisfied would you say you are with your life these days? *",
          "subset": "Bisexual men"
         },
         {
          "answer": "5",
          "country": "Lithuania",
          "percentage": 23,
          "question_code": "g5",
          "question_label": "All things considered, how satisfied would you say you are with your life these days? *",
          "subset": "Bisexual men"
         },
         {
          "answer": "6",
          "country": "Lithuania",
          "percentage": 12,
          "question_code": "g5",
          "question_label": "All things considered, how satisfied would you say you are with your life these days? *",
          "subset": "Bisexual men"
         },
         {
          "answer": "7",
          "country": "Lithuania",
          "percentage": 14,
          "question_code": "g5",
          "question_label": "All things considered, how satisfied would you say you are with your life these days? *",
          "subset": "Bisexual men"
         },
         {
          "answer": "8",
          "country": "Lithuania",
          "percentage": 9,
          "question_code": "g5",
          "question_label": "All things considered, how satisfied would you say you are with your life these days? *",
          "subset": "Bisexual men"
         },
         {
          "answer": "9",
          "country": "Lithuania",
          "percentage": 11,
          "question_code": "g5",
          "question_label": "All things considered, how satisfied would you say you are with your life these days? *",
          "subset": "Bisexual men"
         },
         {
          "answer": "1",
          "country": "Lithuania",
          "percentage": 13,
          "question_code": "g5",
          "question_label": "All things considered, how satisfied would you say you are with your life these days? *",
          "subset": "Transgender"
         },
         {
          "answer": "10",
          "country": "Lithuania",
          "percentage": 3,
          "question_code": "g5",
          "question_label": "All things considered, how satisfied would you say you are with your life these days? *",
          "subset": "Transgender"
         },
         {
          "answer": "2",
          "country": "Lithuania",
          "percentage": 10,
          "question_code": "g5",
          "question_label": "All things considered, how satisfied would you say you are with your life these days? *",
          "subset": "Transgender"
         },
         {
          "answer": "3",
          "country": "Lithuania",
          "percentage": 13,
          "question_code": "g5",
          "question_label": "All things considered, how satisfied would you say you are with your life these days? *",
          "subset": "Transgender"
         },
         {
          "answer": "4",
          "country": "Lithuania",
          "percentage": 10,
          "question_code": "g5",
          "question_label": "All things considered, how satisfied would you say you are with your life these days? *",
          "subset": "Transgender"
         },
         {
          "answer": "5",
          "country": "Lithuania",
          "percentage": 18,
          "question_code": "g5",
          "question_label": "All things considered, how satisfied would you say you are with your life these days? *",
          "subset": "Transgender"
         },
         {
          "answer": "6",
          "country": "Lithuania",
          "percentage": 5,
          "question_code": "g5",
          "question_label": "All things considered, how satisfied would you say you are with your life these days? *",
          "subset": "Transgender"
         },
         {
          "answer": "7",
          "country": "Lithuania",
          "percentage": 21,
          "question_code": "g5",
          "question_label": "All things considered, how satisfied would you say you are with your life these days? *",
          "subset": "Transgender"
         },
         {
          "answer": "8",
          "country": "Lithuania",
          "percentage": 8,
          "question_code": "g5",
          "question_label": "All things considered, how satisfied would you say you are with your life these days? *",
          "subset": "Transgender"
         },
         {
          "answer": "1",
          "country": "Luxembourg",
          "percentage": 2,
          "question_code": "g5",
          "question_label": "All things considered, how satisfied would you say you are with your life these days? *",
          "subset": "Lesbian"
         },
         {
          "answer": "10",
          "country": "Luxembourg",
          "percentage": 12,
          "question_code": "g5",
          "question_label": "All things considered, how satisfied would you say you are with your life these days? *",
          "subset": "Lesbian"
         },
         {
          "answer": "2",
          "country": "Luxembourg",
          "percentage": 4,
          "question_code": "g5",
          "question_label": "All things considered, how satisfied would you say you are with your life these days? *",
          "subset": "Lesbian"
         },
         {
          "answer": "3",
          "country": "Luxembourg",
          "percentage": 4,
          "question_code": "g5",
          "question_label": "All things considered, how satisfied would you say you are with your life these days? *",
          "subset": "Lesbian"
         },
         {
          "answer": "4",
          "country": "Luxembourg",
          "percentage": 4,
          "question_code": "g5",
          "question_label": "All things considered, how satisfied would you say you are with your life these days? *",
          "subset": "Lesbian"
         },
         {
          "answer": "5",
          "country": "Luxembourg",
          "percentage": 2,
          "question_code": "g5",
          "question_label": "All things considered, how satisfied would you say you are with your life these days? *",
          "subset": "Lesbian"
         },
         {
          "answer": "6",
          "country": "Luxembourg",
          "percentage": 8,
          "question_code": "g5",
          "question_label": "All things considered, how satisfied would you say you are with your life these days? *",
          "subset": "Lesbian"
         },
         {
          "answer": "7",
          "country": "Luxembourg",
          "percentage": 22,
          "question_code": "g5",
          "question_label": "All things considered, how satisfied would you say you are with your life these days? *",
          "subset": "Lesbian"
         },
         {
          "answer": "8",
          "country": "Luxembourg",
          "percentage": 35,
          "question_code": "g5",
          "question_label": "All things considered, how satisfied would you say you are with your life these days? *",
          "subset": "Lesbian"
         },
         {
          "answer": "9",
          "country": "Luxembourg",
          "percentage": 8,
          "question_code": "g5",
          "question_label": "All things considered, how satisfied would you say you are with your life these days? *",
          "subset": "Lesbian"
         },
         {
          "answer": "1",
          "country": "Luxembourg",
          "percentage": 2,
          "question_code": "g5",
          "question_label": "All things considered, how satisfied would you say you are with your life these days? *",
          "subset": "Gay"
         },
         {
          "answer": "10",
          "country": "Luxembourg",
          "percentage": 7,
          "question_code": "g5",
          "question_label": "All things considered, how satisfied would you say you are with your life these days? *",
          "subset": "Gay"
         },
         {
          "answer": "2",
          "country": "Luxembourg",
          "percentage": 1,
          "question_code": "g5",
          "question_label": "All things considered, how satisfied would you say you are with your life these days? *",
          "subset": "Gay"
         },
         {
          "answer": "3",
          "country": "Luxembourg",
          "percentage": 3,
          "question_code": "g5",
          "question_label": "All things considered, how satisfied would you say you are with your life these days? *",
          "subset": "Gay"
         },
         {
          "answer": "4",
          "country": "Luxembourg",
          "percentage": 4,
          "question_code": "g5",
          "question_label": "All things considered, how satisfied would you say you are with your life these days? *",
          "subset": "Gay"
         },
         {
          "answer": "5",
          "country": "Luxembourg",
          "percentage": 6,
          "question_code": "g5",
          "question_label": "All things considered, how satisfied would you say you are with your life these days? *",
          "subset": "Gay"
         },
         {
          "answer": "6",
          "country": "Luxembourg",
          "percentage": 12,
          "question_code": "g5",
          "question_label": "All things considered, how satisfied would you say you are with your life these days? *",
          "subset": "Gay"
         },
         {
          "answer": "7",
          "country": "Luxembourg",
          "percentage": 19,
          "question_code": "g5",
          "question_label": "All things considered, how satisfied would you say you are with your life these days? *",
          "subset": "Gay"
         },
         {
          "answer": "8",
          "country": "Luxembourg",
          "percentage": 24,
          "question_code": "g5",
          "question_label": "All things considered, how satisfied would you say you are with your life these days? *",
          "subset": "Gay"
         },
         {
          "answer": "9",
          "country": "Luxembourg",
          "percentage": 22,
          "question_code": "g5",
          "question_label": "All things considered, how satisfied would you say you are with your life these days? *",
          "subset": "Gay"
         },
         {
          "answer": "10",
          "country": "Luxembourg",
          "percentage": 15,
          "question_code": "g5",
          "question_label": "All things considered, how satisfied would you say you are with your life these days? *",
          "subset": "Bisexual men"
         },
         {
          "answer": "2",
          "country": "Luxembourg",
          "percentage": 4,
          "question_code": "g5",
          "question_label": "All things considered, how satisfied would you say you are with your life these days? *",
          "subset": "Bisexual men"
         },
         {
          "answer": "3",
          "country": "Luxembourg",
          "percentage": 4,
          "question_code": "g5",
          "question_label": "All things considered, how satisfied would you say you are with your life these days? *",
          "subset": "Bisexual men"
         },
         {
          "answer": "4",
          "country": "Luxembourg",
          "percentage": 8,
          "question_code": "g5",
          "question_label": "All things considered, how satisfied would you say you are with your life these days? *",
          "subset": "Bisexual men"
         },
         {
          "answer": "5",
          "country": "Luxembourg",
          "percentage": 8,
          "question_code": "g5",
          "question_label": "All things considered, how satisfied would you say you are with your life these days? *",
          "subset": "Bisexual men"
         },
         {
          "answer": "6",
          "country": "Luxembourg",
          "percentage": 4,
          "question_code": "g5",
          "question_label": "All things considered, how satisfied would you say you are with your life these days? *",
          "subset": "Bisexual men"
         },
         {
          "answer": "7",
          "country": "Luxembourg",
          "percentage": 23,
          "question_code": "g5",
          "question_label": "All things considered, how satisfied would you say you are with your life these days? *",
          "subset": "Bisexual men"
         },
         {
          "answer": "8",
          "country": "Luxembourg",
          "percentage": 19,
          "question_code": "g5",
          "question_label": "All things considered, how satisfied would you say you are with your life these days? *",
          "subset": "Bisexual men"
         },
         {
          "answer": "9",
          "country": "Luxembourg",
          "percentage": 15,
          "question_code": "g5",
          "question_label": "All things considered, how satisfied would you say you are with your life these days? *",
          "subset": "Bisexual men"
         },
         {
          "answer": "10",
          "country": "Luxembourg",
          "percentage": 11,
          "question_code": "g5",
          "question_label": "All things considered, how satisfied would you say you are with your life these days? *",
          "subset": "Transgender"
         },
         {
          "answer": "2",
          "country": "Luxembourg",
          "percentage": 5,
          "question_code": "g5",
          "question_label": "All things considered, how satisfied would you say you are with your life these days? *",
          "subset": "Transgender"
         },
         {
          "answer": "3",
          "country": "Luxembourg",
          "percentage": 3,
          "question_code": "g5",
          "question_label": "All things considered, how satisfied would you say you are with your life these days? *",
          "subset": "Transgender"
         },
         {
          "answer": "4",
          "country": "Luxembourg",
          "percentage": 5,
          "question_code": "g5",
          "question_label": "All things considered, how satisfied would you say you are with your life these days? *",
          "subset": "Transgender"
         },
         {
          "answer": "5",
          "country": "Luxembourg",
          "percentage": 11,
          "question_code": "g5",
          "question_label": "All things considered, how satisfied would you say you are with your life these days? *",
          "subset": "Transgender"
         },
         {
          "answer": "6",
          "country": "Luxembourg",
          "percentage": 18,
          "question_code": "g5",
          "question_label": "All things considered, how satisfied would you say you are with your life these days? *",
          "subset": "Transgender"
         },
         {
          "answer": "7",
          "country": "Luxembourg",
          "percentage": 21,
          "question_code": "g5",
          "question_label": "All things considered, how satisfied would you say you are with your life these days? *",
          "subset": "Transgender"
         },
         {
          "answer": "8",
          "country": "Luxembourg",
          "percentage": 18,
          "question_code": "g5",
          "question_label": "All things considered, how satisfied would you say you are with your life these days? *",
          "subset": "Transgender"
         },
         {
          "answer": "9",
          "country": "Luxembourg",
          "percentage": 8,
          "question_code": "g5",
          "question_label": "All things considered, how satisfied would you say you are with your life these days? *",
          "subset": "Transgender"
         },
         {
          "answer": "1",
          "country": "Latvia",
          "percentage": 2,
          "question_code": "g5",
          "question_label": "All things considered, how satisfied would you say you are with your life these days? *",
          "subset": "Lesbian"
         },
         {
          "answer": "10",
          "country": "Latvia",
          "percentage": 3,
          "question_code": "g5",
          "question_label": "All things considered, how satisfied would you say you are with your life these days? *",
          "subset": "Lesbian"
         },
         {
          "answer": "2",
          "country": "Latvia",
          "percentage": 3,
          "question_code": "g5",
          "question_label": "All things considered, how satisfied would you say you are with your life these days? *",
          "subset": "Lesbian"
         },
         {
          "answer": "3",
          "country": "Latvia",
          "percentage": 6,
          "question_code": "g5",
          "question_label": "All things considered, how satisfied would you say you are with your life these days? *",
          "subset": "Lesbian"
         },
         {
          "answer": "4",
          "country": "Latvia",
          "percentage": 8,
          "question_code": "g5",
          "question_label": "All things considered, how satisfied would you say you are with your life these days? *",
          "subset": "Lesbian"
         },
         {
          "answer": "5",
          "country": "Latvia",
          "percentage": 14,
          "question_code": "g5",
          "question_label": "All things considered, how satisfied would you say you are with your life these days? *",
          "subset": "Lesbian"
         },
         {
          "answer": "6",
          "country": "Latvia",
          "percentage": 16,
          "question_code": "g5",
          "question_label": "All things considered, how satisfied would you say you are with your life these days? *",
          "subset": "Lesbian"
         },
         {
          "answer": "7",
          "country": "Latvia",
          "percentage": 25,
          "question_code": "g5",
          "question_label": "All things considered, how satisfied would you say you are with your life these days? *",
          "subset": "Lesbian"
         },
         {
          "answer": "8",
          "country": "Latvia",
          "percentage": 17,
          "question_code": "g5",
          "question_label": "All things considered, how satisfied would you say you are with your life these days? *",
          "subset": "Lesbian"
         },
         {
          "answer": "9",
          "country": "Latvia",
          "percentage": 7,
          "question_code": "g5",
          "question_label": "All things considered, how satisfied would you say you are with your life these days? *",
          "subset": "Lesbian"
         },
         {
          "answer": "1",
          "country": "Latvia",
          "percentage": 4,
          "question_code": "g5",
          "question_label": "All things considered, how satisfied would you say you are with your life these days? *",
          "subset": "Gay"
         },
         {
          "answer": "10",
          "country": "Latvia",
          "percentage": 3,
          "question_code": "g5",
          "question_label": "All things considered, how satisfied would you say you are with your life these days? *",
          "subset": "Gay"
         },
         {
          "answer": "2",
          "country": "Latvia",
          "percentage": 3,
          "question_code": "g5",
          "question_label": "All things considered, how satisfied would you say you are with your life these days? *",
          "subset": "Gay"
         },
         {
          "answer": "3",
          "country": "Latvia",
          "percentage": 11,
          "question_code": "g5",
          "question_label": "All things considered, how satisfied would you say you are with your life these days? *",
          "subset": "Gay"
         },
         {
          "answer": "4",
          "country": "Latvia",
          "percentage": 8,
          "question_code": "g5",
          "question_label": "All things considered, how satisfied would you say you are with your life these days? *",
          "subset": "Gay"
         },
         {
          "answer": "5",
          "country": "Latvia",
          "percentage": 12,
          "question_code": "g5",
          "question_label": "All things considered, how satisfied would you say you are with your life these days? *",
          "subset": "Gay"
         },
         {
          "answer": "6",
          "country": "Latvia",
          "percentage": 17,
          "question_code": "g5",
          "question_label": "All things considered, how satisfied would you say you are with your life these days? *",
          "subset": "Gay"
         },
         {
          "answer": "7",
          "country": "Latvia",
          "percentage": 22,
          "question_code": "g5",
          "question_label": "All things considered, how satisfied would you say you are with your life these days? *",
          "subset": "Gay"
         },
         {
          "answer": "8",
          "country": "Latvia",
          "percentage": 16,
          "question_code": "g5",
          "question_label": "All things considered, how satisfied would you say you are with your life these days? *",
          "subset": "Gay"
         },
         {
          "answer": "9",
          "country": "Latvia",
          "percentage": 7,
          "question_code": "g5",
          "question_label": "All things considered, how satisfied would you say you are with your life these days? *",
          "subset": "Gay"
         },
         {
          "answer": "1",
          "country": "Latvia",
          "percentage": 1,
          "question_code": "g5",
          "question_label": "All things considered, how satisfied would you say you are with your life these days? *",
          "subset": "Bisexual women"
         },
         {
          "answer": "2",
          "country": "Latvia",
          "percentage": 1,
          "question_code": "g5",
          "question_label": "All things considered, how satisfied would you say you are with your life these days? *",
          "subset": "Bisexual women"
         },
         {
          "answer": "3",
          "country": "Latvia",
          "percentage": 2,
          "question_code": "g5",
          "question_label": "All things considered, how satisfied would you say you are with your life these days? *",
          "subset": "Bisexual women"
         },
         {
          "answer": "4",
          "country": "Latvia",
          "percentage": 2,
          "question_code": "g5",
          "question_label": "All things considered, how satisfied would you say you are with your life these days? *",
          "subset": "Bisexual women"
         },
         {
          "answer": "5",
          "country": "Latvia",
          "percentage": 16,
          "question_code": "g5",
          "question_label": "All things considered, how satisfied would you say you are with your life these days? *",
          "subset": "Bisexual women"
         },
         {
          "answer": "6",
          "country": "Latvia",
          "percentage": 24,
          "question_code": "g5",
          "question_label": "All things considered, how satisfied would you say you are with your life these days? *",
          "subset": "Bisexual women"
         },
         {
          "answer": "7",
          "country": "Latvia",
          "percentage": 27,
          "question_code": "g5",
          "question_label": "All things considered, how satisfied would you say you are with your life these days? *",
          "subset": "Bisexual women"
         },
         {
          "answer": "8",
          "country": "Latvia",
          "percentage": 21,
          "question_code": "g5",
          "question_label": "All things considered, how satisfied would you say you are with your life these days? *",
          "subset": "Bisexual women"
         },
         {
          "answer": "9",
          "country": "Latvia",
          "percentage": 5,
          "question_code": "g5",
          "question_label": "All things considered, how satisfied would you say you are with your life these days? *",
          "subset": "Bisexual women"
         },
         {
          "answer": "10",
          "country": "Latvia",
          "percentage": 5,
          "question_code": "g5",
          "question_label": "All things considered, how satisfied would you say you are with your life these days? *",
          "subset": "Bisexual men"
         },
         {
          "answer": "2",
          "country": "Latvia",
          "percentage": 5,
          "question_code": "g5",
          "question_label": "All things considered, how satisfied would you say you are with your life these days? *",
          "subset": "Bisexual men"
         },
         {
          "answer": "5",
          "country": "Latvia",
          "percentage": 14,
          "question_code": "g5",
          "question_label": "All things considered, how satisfied would you say you are with your life these days? *",
          "subset": "Bisexual men"
         },
         {
          "answer": "6",
          "country": "Latvia",
          "percentage": 23,
          "question_code": "g5",
          "question_label": "All things considered, how satisfied would you say you are with your life these days? *",
          "subset": "Bisexual men"
         },
         {
          "answer": "7",
          "country": "Latvia",
          "percentage": 27,
          "question_code": "g5",
          "question_label": "All things considered, how satisfied would you say you are with your life these days? *",
          "subset": "Bisexual men"
         },
         {
          "answer": "8",
          "country": "Latvia",
          "percentage": 23,
          "question_code": "g5",
          "question_label": "All things considered, how satisfied would you say you are with your life these days? *",
          "subset": "Bisexual men"
         },
         {
          "answer": "9",
          "country": "Latvia",
          "percentage": 5,
          "question_code": "g5",
          "question_label": "All things considered, how satisfied would you say you are with your life these days? *",
          "subset": "Bisexual men"
         },
         {
          "answer": "1",
          "country": "Latvia",
          "percentage": 15,
          "question_code": "g5",
          "question_label": "All things considered, how satisfied would you say you are with your life these days? *",
          "subset": "Transgender"
         },
         {
          "answer": "10",
          "country": "Latvia",
          "percentage": 2,
          "question_code": "g5",
          "question_label": "All things considered, how satisfied would you say you are with your life these days? *",
          "subset": "Transgender"
         },
         {
          "answer": "2",
          "country": "Latvia",
          "percentage": 9,
          "question_code": "g5",
          "question_label": "All things considered, how satisfied would you say you are with your life these days? *",
          "subset": "Transgender"
         },
         {
          "answer": "3",
          "country": "Latvia",
          "percentage": 11,
          "question_code": "g5",
          "question_label": "All things considered, how satisfied would you say you are with your life these days? *",
          "subset": "Transgender"
         },
         {
          "answer": "4",
          "country": "Latvia",
          "percentage": 15,
          "question_code": "g5",
          "question_label": "All things considered, how satisfied would you say you are with your life these days? *",
          "subset": "Transgender"
         },
         {
          "answer": "5",
          "country": "Latvia",
          "percentage": 15,
          "question_code": "g5",
          "question_label": "All things considered, how satisfied would you say you are with your life these days? *",
          "subset": "Transgender"
         },
         {
          "answer": "6",
          "country": "Latvia",
          "percentage": 9,
          "question_code": "g5",
          "question_label": "All things considered, how satisfied would you say you are with your life these days? *",
          "subset": "Transgender"
         },
         {
          "answer": "7",
          "country": "Latvia",
          "percentage": 9,
          "question_code": "g5",
          "question_label": "All things considered, how satisfied would you say you are with your life these days? *",
          "subset": "Transgender"
         },
         {
          "answer": "8",
          "country": "Latvia",
          "percentage": 15,
          "question_code": "g5",
          "question_label": "All things considered, how satisfied would you say you are with your life these days? *",
          "subset": "Transgender"
         },
         {
          "answer": "1",
          "country": "Malta",
          "percentage": 3,
          "question_code": "g5",
          "question_label": "All things considered, how satisfied would you say you are with your life these days? *",
          "subset": "Lesbian"
         },
         {
          "answer": "10",
          "country": "Malta",
          "percentage": 7,
          "question_code": "g5",
          "question_label": "All things considered, how satisfied would you say you are with your life these days? *",
          "subset": "Lesbian"
         },
         {
          "answer": "2",
          "country": "Malta",
          "percentage": 3,
          "question_code": "g5",
          "question_label": "All things considered, how satisfied would you say you are with your life these days? *",
          "subset": "Lesbian"
         },
         {
          "answer": "3",
          "country": "Malta",
          "percentage": 4,
          "question_code": "g5",
          "question_label": "All things considered, how satisfied would you say you are with your life these days? *",
          "subset": "Lesbian"
         },
         {
          "answer": "4",
          "country": "Malta",
          "percentage": 8,
          "question_code": "g5",
          "question_label": "All things considered, how satisfied would you say you are with your life these days? *",
          "subset": "Lesbian"
         },
         {
          "answer": "5",
          "country": "Malta",
          "percentage": 6,
          "question_code": "g5",
          "question_label": "All things considered, how satisfied would you say you are with your life these days? *",
          "subset": "Lesbian"
         },
         {
          "answer": "6",
          "country": "Malta",
          "percentage": 13,
          "question_code": "g5",
          "question_label": "All things considered, how satisfied would you say you are with your life these days? *",
          "subset": "Lesbian"
         },
         {
          "answer": "7",
          "country": "Malta",
          "percentage": 23,
          "question_code": "g5",
          "question_label": "All things considered, how satisfied would you say you are with your life these days? *",
          "subset": "Lesbian"
         },
         {
          "answer": "8",
          "country": "Malta",
          "percentage": 20,
          "question_code": "g5",
          "question_label": "All things considered, how satisfied would you say you are with your life these days? *",
          "subset": "Lesbian"
         },
         {
          "answer": "9",
          "country": "Malta",
          "percentage": 13,
          "question_code": "g5",
          "question_label": "All things considered, how satisfied would you say you are with your life these days? *",
          "subset": "Lesbian"
         },
         {
          "answer": "1",
          "country": "Malta",
          "percentage": 3,
          "question_code": "g5",
          "question_label": "All things considered, how satisfied would you say you are with your life these days? *",
          "subset": "Gay"
         },
         {
          "answer": "10",
          "country": "Malta",
          "percentage": 3,
          "question_code": "g5",
          "question_label": "All things considered, how satisfied would you say you are with your life these days? *",
          "subset": "Gay"
         },
         {
          "answer": "2",
          "country": "Malta",
          "percentage": 4,
          "question_code": "g5",
          "question_label": "All things considered, how satisfied would you say you are with your life these days? *",
          "subset": "Gay"
         },
         {
          "answer": "3",
          "country": "Malta",
          "percentage": 3,
          "question_code": "g5",
          "question_label": "All things considered, how satisfied would you say you are with your life these days? *",
          "subset": "Gay"
         },
         {
          "answer": "4",
          "country": "Malta",
          "percentage": 3,
          "question_code": "g5",
          "question_label": "All things considered, how satisfied would you say you are with your life these days? *",
          "subset": "Gay"
         },
         {
          "answer": "5",
          "country": "Malta",
          "percentage": 6,
          "question_code": "g5",
          "question_label": "All things considered, how satisfied would you say you are with your life these days? *",
          "subset": "Gay"
         },
         {
          "answer": "6",
          "country": "Malta",
          "percentage": 14,
          "question_code": "g5",
          "question_label": "All things considered, how satisfied would you say you are with your life these days? *",
          "subset": "Gay"
         },
         {
          "answer": "7",
          "country": "Malta",
          "percentage": 27,
          "question_code": "g5",
          "question_label": "All things considered, how satisfied would you say you are with your life these days? *",
          "subset": "Gay"
         },
         {
          "answer": "8",
          "country": "Malta",
          "percentage": 25,
          "question_code": "g5",
          "question_label": "All things considered, how satisfied would you say you are with your life these days? *",
          "subset": "Gay"
         },
         {
          "answer": "9",
          "country": "Malta",
          "percentage": 10,
          "question_code": "g5",
          "question_label": "All things considered, how satisfied would you say you are with your life these days? *",
          "subset": "Gay"
         },
         {
          "answer": "1",
          "country": "Malta",
          "percentage": 5,
          "question_code": "g5",
          "question_label": "All things considered, how satisfied would you say you are with your life these days? *",
          "subset": "Bisexual women"
         },
         {
          "answer": "4",
          "country": "Malta",
          "percentage": 10,
          "question_code": "g5",
          "question_label": "All things considered, how satisfied would you say you are with your life these days? *",
          "subset": "Bisexual women"
         },
         {
          "answer": "5",
          "country": "Malta",
          "percentage": 10,
          "question_code": "g5",
          "question_label": "All things considered, how satisfied would you say you are with your life these days? *",
          "subset": "Bisexual women"
         },
         {
          "answer": "6",
          "country": "Malta",
          "percentage": 8,
          "question_code": "g5",
          "question_label": "All things considered, how satisfied would you say you are with your life these days? *",
          "subset": "Bisexual women"
         },
         {
          "answer": "7",
          "country": "Malta",
          "percentage": 32,
          "question_code": "g5",
          "question_label": "All things considered, how satisfied would you say you are with your life these days? *",
          "subset": "Bisexual women"
         },
         {
          "answer": "8",
          "country": "Malta",
          "percentage": 22,
          "question_code": "g5",
          "question_label": "All things considered, how satisfied would you say you are with your life these days? *",
          "subset": "Bisexual women"
         },
         {
          "answer": "9",
          "country": "Malta",
          "percentage": 12,
          "question_code": "g5",
          "question_label": "All things considered, how satisfied would you say you are with your life these days? *",
          "subset": "Bisexual women"
         },
         {
          "answer": "10",
          "country": "Netherlands",
          "percentage": 5,
          "question_code": "g5",
          "question_label": "All things considered, how satisfied would you say you are with your life these days? *",
          "subset": "Lesbian"
         },
         {
          "answer": "2",
          "country": "Netherlands",
          "percentage": 0,
          "question_code": "g5",
          "question_label": "All things considered, how satisfied would you say you are with your life these days? *",
          "subset": "Lesbian"
         },
         {
          "answer": "3",
          "country": "Netherlands",
          "percentage": 1,
          "question_code": "g5",
          "question_label": "All things considered, how satisfied would you say you are with your life these days? *",
          "subset": "Lesbian"
         },
         {
          "answer": "4",
          "country": "Netherlands",
          "percentage": 1,
          "question_code": "g5",
          "question_label": "All things considered, how satisfied would you say you are with your life these days? *",
          "subset": "Lesbian"
         },
         {
          "answer": "5",
          "country": "Netherlands",
          "percentage": 3,
          "question_code": "g5",
          "question_label": "All things considered, how satisfied would you say you are with your life these days? *",
          "subset": "Lesbian"
         },
         {
          "answer": "6",
          "country": "Netherlands",
          "percentage": 7,
          "question_code": "g5",
          "question_label": "All things considered, how satisfied would you say you are with your life these days? *",
          "subset": "Lesbian"
         },
         {
          "answer": "7",
          "country": "Netherlands",
          "percentage": 24,
          "question_code": "g5",
          "question_label": "All things considered, how satisfied would you say you are with your life these days? *",
          "subset": "Lesbian"
         },
         {
          "answer": "8",
          "country": "Netherlands",
          "percentage": 40,
          "question_code": "g5",
          "question_label": "All things considered, how satisfied would you say you are with your life these days? *",
          "subset": "Lesbian"
         },
         {
          "answer": "9",
          "country": "Netherlands",
          "percentage": 18,
          "question_code": "g5",
          "question_label": "All things considered, how satisfied would you say you are with your life these days? *",
          "subset": "Lesbian"
         },
         {
          "answer": "1",
          "country": "Netherlands",
          "percentage": 1,
          "question_code": "g5",
          "question_label": "All things considered, how satisfied would you say you are with your life these days? *",
          "subset": "Gay"
         },
         {
          "answer": "10",
          "country": "Netherlands",
          "percentage": 6,
          "question_code": "g5",
          "question_label": "All things considered, how satisfied would you say you are with your life these days? *",
          "subset": "Gay"
         },
         {
          "answer": "2",
          "country": "Netherlands",
          "percentage": 0,
          "question_code": "g5",
          "question_label": "All things considered, how satisfied would you say you are with your life these days? *",
          "subset": "Gay"
         },
         {
          "answer": "3",
          "country": "Netherlands",
          "percentage": 1,
          "question_code": "g5",
          "question_label": "All things considered, how satisfied would you say you are with your life these days? *",
          "subset": "Gay"
         },
         {
          "answer": "4",
          "country": "Netherlands",
          "percentage": 2,
          "question_code": "g5",
          "question_label": "All things considered, how satisfied would you say you are with your life these days? *",
          "subset": "Gay"
         },
         {
          "answer": "5",
          "country": "Netherlands",
          "percentage": 3,
          "question_code": "g5",
          "question_label": "All things considered, how satisfied would you say you are with your life these days? *",
          "subset": "Gay"
         },
         {
          "answer": "6",
          "country": "Netherlands",
          "percentage": 8,
          "question_code": "g5",
          "question_label": "All things considered, how satisfied would you say you are with your life these days? *",
          "subset": "Gay"
         },
         {
          "answer": "7",
          "country": "Netherlands",
          "percentage": 23,
          "question_code": "g5",
          "question_label": "All things considered, how satisfied would you say you are with your life these days? *",
          "subset": "Gay"
         },
         {
          "answer": "8",
          "country": "Netherlands",
          "percentage": 36,
          "question_code": "g5",
          "question_label": "All things considered, how satisfied would you say you are with your life these days? *",
          "subset": "Gay"
         },
         {
          "answer": "9",
          "country": "Netherlands",
          "percentage": 19,
          "question_code": "g5",
          "question_label": "All things considered, how satisfied would you say you are with your life these days? *",
          "subset": "Gay"
         },
         {
          "answer": "10",
          "country": "Netherlands",
          "percentage": 5,
          "question_code": "g5",
          "question_label": "All things considered, how satisfied would you say you are with your life these days? *",
          "subset": "Bisexual women"
         },
         {
          "answer": "2",
          "country": "Netherlands",
          "percentage": 1,
          "question_code": "g5",
          "question_label": "All things considered, how satisfied would you say you are with your life these days? *",
          "subset": "Bisexual women"
         },
         {
          "answer": "3",
          "country": "Netherlands",
          "percentage": 2,
          "question_code": "g5",
          "question_label": "All things considered, how satisfied would you say you are with your life these days? *",
          "subset": "Bisexual women"
         },
         {
          "answer": "4",
          "country": "Netherlands",
          "percentage": 3,
          "question_code": "g5",
          "question_label": "All things considered, how satisfied would you say you are with your life these days? *",
          "subset": "Bisexual women"
         },
         {
          "answer": "5",
          "country": "Netherlands",
          "percentage": 5,
          "question_code": "g5",
          "question_label": "All things considered, how satisfied would you say you are with your life these days? *",
          "subset": "Bisexual women"
         },
         {
          "answer": "6",
          "country": "Netherlands",
          "percentage": 10,
          "question_code": "g5",
          "question_label": "All things considered, how satisfied would you say you are with your life these days? *",
          "subset": "Bisexual women"
         },
         {
          "answer": "7",
          "country": "Netherlands",
          "percentage": 22,
          "question_code": "g5",
          "question_label": "All things considered, how satisfied would you say you are with your life these days? *",
          "subset": "Bisexual women"
         },
         {
          "answer": "8",
          "country": "Netherlands",
          "percentage": 36,
          "question_code": "g5",
          "question_label": "All things considered, how satisfied would you say you are with your life these days? *",
          "subset": "Bisexual women"
         },
         {
          "answer": "9",
          "country": "Netherlands",
          "percentage": 15,
          "question_code": "g5",
          "question_label": "All things considered, how satisfied would you say you are with your life these days? *",
          "subset": "Bisexual women"
         },
         {
          "answer": "1",
          "country": "Netherlands",
          "percentage": 1,
          "question_code": "g5",
          "question_label": "All things considered, how satisfied would you say you are with your life these days? *",
          "subset": "Bisexual men"
         },
         {
          "answer": "10",
          "country": "Netherlands",
          "percentage": 6,
          "question_code": "g5",
          "question_label": "All things considered, how satisfied would you say you are with your life these days? *",
          "subset": "Bisexual men"
         },
         {
          "answer": "2",
          "country": "Netherlands",
          "percentage": 1,
          "question_code": "g5",
          "question_label": "All things considered, how satisfied would you say you are with your life these days? *",
          "subset": "Bisexual men"
         },
         {
          "answer": "3",
          "country": "Netherlands",
          "percentage": 3,
          "question_code": "g5",
          "question_label": "All things considered, how satisfied would you say you are with your life these days? *",
          "subset": "Bisexual men"
         },
         {
          "answer": "5",
          "country": "Netherlands",
          "percentage": 6,
          "question_code": "g5",
          "question_label": "All things considered, how satisfied would you say you are with your life these days? *",
          "subset": "Bisexual men"
         },
         {
          "answer": "6",
          "country": "Netherlands",
          "percentage": 11,
          "question_code": "g5",
          "question_label": "All things considered, how satisfied would you say you are with your life these days? *",
          "subset": "Bisexual men"
         },
         {
          "answer": "7",
          "country": "Netherlands",
          "percentage": 24,
          "question_code": "g5",
          "question_label": "All things considered, how satisfied would you say you are with your life these days? *",
          "subset": "Bisexual men"
         },
         {
          "answer": "8",
          "country": "Netherlands",
          "percentage": 32,
          "question_code": "g5",
          "question_label": "All things considered, how satisfied would you say you are with your life these days? *",
          "subset": "Bisexual men"
         },
         {
          "answer": "9",
          "country": "Netherlands",
          "percentage": 16,
          "question_code": "g5",
          "question_label": "All things considered, how satisfied would you say you are with your life these days? *",
          "subset": "Bisexual men"
         },
         {
          "answer": "1",
          "country": "Netherlands",
          "percentage": 2,
          "question_code": "g5",
          "question_label": "All things considered, how satisfied would you say you are with your life these days? *",
          "subset": "Transgender"
         },
         {
          "answer": "10",
          "country": "Netherlands",
          "percentage": 5,
          "question_code": "g5",
          "question_label": "All things considered, how satisfied would you say you are with your life these days? *",
          "subset": "Transgender"
         },
         {
          "answer": "2",
          "country": "Netherlands",
          "percentage": 2,
          "question_code": "g5",
          "question_label": "All things considered, how satisfied would you say you are with your life these days? *",
          "subset": "Transgender"
         },
         {
          "answer": "3",
          "country": "Netherlands",
          "percentage": 5,
          "question_code": "g5",
          "question_label": "All things considered, how satisfied would you say you are with your life these days? *",
          "subset": "Transgender"
         },
         {
          "answer": "4",
          "country": "Netherlands",
          "percentage": 6,
          "question_code": "g5",
          "question_label": "All things considered, how satisfied would you say you are with your life these days? *",
          "subset": "Transgender"
         },
         {
          "answer": "5",
          "country": "Netherlands",
          "percentage": 10,
          "question_code": "g5",
          "question_label": "All things considered, how satisfied would you say you are with your life these days? *",
          "subset": "Transgender"
         },
         {
          "answer": "6",
          "country": "Netherlands",
          "percentage": 12,
          "question_code": "g5",
          "question_label": "All things considered, how satisfied would you say you are with your life these days? *",
          "subset": "Transgender"
         },
         {
          "answer": "7",
          "country": "Netherlands",
          "percentage": 22,
          "question_code": "g5",
          "question_label": "All things considered, how satisfied would you say you are with your life these days? *",
          "subset": "Transgender"
         },
         {
          "answer": "8",
          "country": "Netherlands",
          "percentage": 24,
          "question_code": "g5",
          "question_label": "All things considered, how satisfied would you say you are with your life these days? *",
          "subset": "Transgender"
         },
         {
          "answer": "9",
          "country": "Netherlands",
          "percentage": 12,
          "question_code": "g5",
          "question_label": "All things considered, how satisfied would you say you are with your life these days? *",
          "subset": "Transgender"
         },
         {
          "answer": "1",
          "country": "Poland",
          "percentage": 1,
          "question_code": "g5",
          "question_label": "All things considered, how satisfied would you say you are with your life these days? *",
          "subset": "Lesbian"
         },
         {
          "answer": "10",
          "country": "Poland",
          "percentage": 2,
          "question_code": "g5",
          "question_label": "All things considered, how satisfied would you say you are with your life these days? *",
          "subset": "Lesbian"
         },
         {
          "answer": "2",
          "country": "Poland",
          "percentage": 4,
          "question_code": "g5",
          "question_label": "All things considered, how satisfied would you say you are with your life these days? *",
          "subset": "Lesbian"
         },
         {
          "answer": "3",
          "country": "Poland",
          "percentage": 8,
          "question_code": "g5",
          "question_label": "All things considered, how satisfied would you say you are with your life these days? *",
          "subset": "Lesbian"
         },
         {
          "answer": "4",
          "country": "Poland",
          "percentage": 14,
          "question_code": "g5",
          "question_label": "All things considered, how satisfied would you say you are with your life these days? *",
          "subset": "Lesbian"
         },
         {
          "answer": "5",
          "country": "Poland",
          "percentage": 16,
          "question_code": "g5",
          "question_label": "All things considered, how satisfied would you say you are with your life these days? *",
          "subset": "Lesbian"
         },
         {
          "answer": "6",
          "country": "Poland",
          "percentage": 19,
          "question_code": "g5",
          "question_label": "All things considered, how satisfied would you say you are with your life these days? *",
          "subset": "Lesbian"
         },
         {
          "answer": "7",
          "country": "Poland",
          "percentage": 20,
          "question_code": "g5",
          "question_label": "All things considered, how satisfied would you say you are with your life these days? *",
          "subset": "Lesbian"
         },
         {
          "answer": "8",
          "country": "Poland",
          "percentage": 11,
          "question_code": "g5",
          "question_label": "All things considered, how satisfied would you say you are with your life these days? *",
          "subset": "Lesbian"
         },
         {
          "answer": "9",
          "country": "Poland",
          "percentage": 4,
          "question_code": "g5",
          "question_label": "All things considered, how satisfied would you say you are with your life these days? *",
          "subset": "Lesbian"
         },
         {
          "answer": "1",
          "country": "Poland",
          "percentage": 3,
          "question_code": "g5",
          "question_label": "All things considered, how satisfied would you say you are with your life these days? *",
          "subset": "Gay"
         },
         {
          "answer": "10",
          "country": "Poland",
          "percentage": 2,
          "question_code": "g5",
          "question_label": "All things considered, how satisfied would you say you are with your life these days? *",
          "subset": "Gay"
         },
         {
          "answer": "2",
          "country": "Poland",
          "percentage": 5,
          "question_code": "g5",
          "question_label": "All things considered, how satisfied would you say you are with your life these days? *",
          "subset": "Gay"
         },
         {
          "answer": "3",
          "country": "Poland",
          "percentage": 8,
          "question_code": "g5",
          "question_label": "All things considered, how satisfied would you say you are with your life these days? *",
          "subset": "Gay"
         },
         {
          "answer": "4",
          "country": "Poland",
          "percentage": 10,
          "question_code": "g5",
          "question_label": "All things considered, how satisfied would you say you are with your life these days? *",
          "subset": "Gay"
         },
         {
          "answer": "5",
          "country": "Poland",
          "percentage": 12,
          "question_code": "g5",
          "question_label": "All things considered, how satisfied would you say you are with your life these days? *",
          "subset": "Gay"
         },
         {
          "answer": "6",
          "country": "Poland",
          "percentage": 18,
          "question_code": "g5",
          "question_label": "All things considered, how satisfied would you say you are with your life these days? *",
          "subset": "Gay"
         },
         {
          "answer": "7",
          "country": "Poland",
          "percentage": 22,
          "question_code": "g5",
          "question_label": "All things considered, how satisfied would you say you are with your life these days? *",
          "subset": "Gay"
         },
         {
          "answer": "8",
          "country": "Poland",
          "percentage": 14,
          "question_code": "g5",
          "question_label": "All things considered, how satisfied would you say you are with your life these days? *",
          "subset": "Gay"
         },
         {
          "answer": "9",
          "country": "Poland",
          "percentage": 6,
          "question_code": "g5",
          "question_label": "All things considered, how satisfied would you say you are with your life these days? *",
          "subset": "Gay"
         },
         {
          "answer": "1",
          "country": "Poland",
          "percentage": 1,
          "question_code": "g5",
          "question_label": "All things considered, how satisfied would you say you are with your life these days? *",
          "subset": "Bisexual women"
         },
         {
          "answer": "10",
          "country": "Poland",
          "percentage": 2,
          "question_code": "g5",
          "question_label": "All things considered, how satisfied would you say you are with your life these days? *",
          "subset": "Bisexual women"
         },
         {
          "answer": "2",
          "country": "Poland",
          "percentage": 3,
          "question_code": "g5",
          "question_label": "All things considered, how satisfied would you say you are with your life these days? *",
          "subset": "Bisexual women"
         },
         {
          "answer": "3",
          "country": "Poland",
          "percentage": 7,
          "question_code": "g5",
          "question_label": "All things considered, how satisfied would you say you are with your life these days? *",
          "subset": "Bisexual women"
         },
         {
          "answer": "4",
          "country": "Poland",
          "percentage": 10,
          "question_code": "g5",
          "question_label": "All things considered, how satisfied would you say you are with your life these days? *",
          "subset": "Bisexual women"
         },
         {
          "answer": "5",
          "country": "Poland",
          "percentage": 15,
          "question_code": "g5",
          "question_label": "All things considered, how satisfied would you say you are with your life these days? *",
          "subset": "Bisexual women"
         },
         {
          "answer": "6",
          "country": "Poland",
          "percentage": 22,
          "question_code": "g5",
          "question_label": "All things considered, how satisfied would you say you are with your life these days? *",
          "subset": "Bisexual women"
         },
         {
          "answer": "7",
          "country": "Poland",
          "percentage": 25,
          "question_code": "g5",
          "question_label": "All things considered, how satisfied would you say you are with your life these days? *",
          "subset": "Bisexual women"
         },
         {
          "answer": "8",
          "country": "Poland",
          "percentage": 11,
          "question_code": "g5",
          "question_label": "All things considered, how satisfied would you say you are with your life these days? *",
          "subset": "Bisexual women"
         },
         {
          "answer": "9",
          "country": "Poland",
          "percentage": 5,
          "question_code": "g5",
          "question_label": "All things considered, how satisfied would you say you are with your life these days? *",
          "subset": "Bisexual women"
         },
         {
          "answer": "1",
          "country": "Poland",
          "percentage": 4,
          "question_code": "g5",
          "question_label": "All things considered, how satisfied would you say you are with your life these days? *",
          "subset": "Bisexual men"
         },
         {
          "answer": "10",
          "country": "Poland",
          "percentage": 3,
          "question_code": "g5",
          "question_label": "All things considered, how satisfied would you say you are with your life these days? *",
          "subset": "Bisexual men"
         },
         {
          "answer": "2",
          "country": "Poland",
          "percentage": 5,
          "question_code": "g5",
          "question_label": "All things considered, how satisfied would you say you are with your life these days? *",
          "subset": "Bisexual men"
         },
         {
          "answer": "3",
          "country": "Poland",
          "percentage": 8,
          "question_code": "g5",
          "question_label": "All things considered, how satisfied would you say you are with your life these days? *",
          "subset": "Bisexual men"
         },
         {
          "answer": "4",
          "country": "Poland",
          "percentage": 12,
          "question_code": "g5",
          "question_label": "All things considered, how satisfied would you say you are with your life these days? *",
          "subset": "Bisexual men"
         },
         {
          "answer": "5",
          "country": "Poland",
          "percentage": 19,
          "question_code": "g5",
          "question_label": "All things considered, how satisfied would you say you are with your life these days? *",
          "subset": "Bisexual men"
         },
         {
          "answer": "6",
          "country": "Poland",
          "percentage": 15,
          "question_code": "g5",
          "question_label": "All things considered, how satisfied would you say you are with your life these days? *",
          "subset": "Bisexual men"
         },
         {
          "answer": "7",
          "country": "Poland",
          "percentage": 16,
          "question_code": "g5",
          "question_label": "All things considered, how satisfied would you say you are with your life these days? *",
          "subset": "Bisexual men"
         },
         {
          "answer": "8",
          "country": "Poland",
          "percentage": 15,
          "question_code": "g5",
          "question_label": "All things considered, how satisfied would you say you are with your life these days? *",
          "subset": "Bisexual men"
         },
         {
          "answer": "9",
          "country": "Poland",
          "percentage": 4,
          "question_code": "g5",
          "question_label": "All things considered, how satisfied would you say you are with your life these days? *",
          "subset": "Bisexual men"
         },
         {
          "answer": "1",
          "country": "Poland",
          "percentage": 7,
          "question_code": "g5",
          "question_label": "All things considered, how satisfied would you say you are with your life these days? *",
          "subset": "Transgender"
         },
         {
          "answer": "10",
          "country": "Poland",
          "percentage": 1,
          "question_code": "g5",
          "question_label": "All things considered, how satisfied would you say you are with your life these days? *",
          "subset": "Transgender"
         },
         {
          "answer": "2",
          "country": "Poland",
          "percentage": 10,
          "question_code": "g5",
          "question_label": "All things considered, how satisfied would you say you are with your life these days? *",
          "subset": "Transgender"
         },
         {
          "answer": "3",
          "country": "Poland",
          "percentage": 14,
          "question_code": "g5",
          "question_label": "All things considered, how satisfied would you say you are with your life these days? *",
          "subset": "Transgender"
         },
         {
          "answer": "4",
          "country": "Poland",
          "percentage": 15,
          "question_code": "g5",
          "question_label": "All things considered, how satisfied would you say you are with your life these days? *",
          "subset": "Transgender"
         },
         {
          "answer": "5",
          "country": "Poland",
          "percentage": 13,
          "question_code": "g5",
          "question_label": "All things considered, how satisfied would you say you are with your life these days? *",
          "subset": "Transgender"
         },
         {
          "answer": "6",
          "country": "Poland",
          "percentage": 13,
          "question_code": "g5",
          "question_label": "All things considered, how satisfied would you say you are with your life these days? *",
          "subset": "Transgender"
         },
         {
          "answer": "7",
          "country": "Poland",
          "percentage": 14,
          "question_code": "g5",
          "question_label": "All things considered, how satisfied would you say you are with your life these days? *",
          "subset": "Transgender"
         },
         {
          "answer": "8",
          "country": "Poland",
          "percentage": 8,
          "question_code": "g5",
          "question_label": "All things considered, how satisfied would you say you are with your life these days? *",
          "subset": "Transgender"
         },
         {
          "answer": "9",
          "country": "Poland",
          "percentage": 5,
          "question_code": "g5",
          "question_label": "All things considered, how satisfied would you say you are with your life these days? *",
          "subset": "Transgender"
         },
         {
          "answer": "1",
          "country": "Portugal",
          "percentage": 1,
          "question_code": "g5",
          "question_label": "All things considered, how satisfied would you say you are with your life these days? *",
          "subset": "Lesbian"
         },
         {
          "answer": "10",
          "country": "Portugal",
          "percentage": 6,
          "question_code": "g5",
          "question_label": "All things considered, how satisfied would you say you are with your life these days? *",
          "subset": "Lesbian"
         },
         {
          "answer": "2",
          "country": "Portugal",
          "percentage": 4,
          "question_code": "g5",
          "question_label": "All things considered, how satisfied would you say you are with your life these days? *",
          "subset": "Lesbian"
         },
         {
          "answer": "3",
          "country": "Portugal",
          "percentage": 5,
          "question_code": "g5",
          "question_label": "All things considered, how satisfied would you say you are with your life these days? *",
          "subset": "Lesbian"
         },
         {
          "answer": "4",
          "country": "Portugal",
          "percentage": 6,
          "question_code": "g5",
          "question_label": "All things considered, how satisfied would you say you are with your life these days? *",
          "subset": "Lesbian"
         },
         {
          "answer": "5",
          "country": "Portugal",
          "percentage": 11,
          "question_code": "g5",
          "question_label": "All things considered, how satisfied would you say you are with your life these days? *",
          "subset": "Lesbian"
         },
         {
          "answer": "6",
          "country": "Portugal",
          "percentage": 18,
          "question_code": "g5",
          "question_label": "All things considered, how satisfied would you say you are with your life these days? *",
          "subset": "Lesbian"
         },
         {
          "answer": "7",
          "country": "Portugal",
          "percentage": 23,
          "question_code": "g5",
          "question_label": "All things considered, how satisfied would you say you are with your life these days? *",
          "subset": "Lesbian"
         },
         {
          "answer": "8",
          "country": "Portugal",
          "percentage": 17,
          "question_code": "g5",
          "question_label": "All things considered, how satisfied would you say you are with your life these days? *",
          "subset": "Lesbian"
         },
         {
          "answer": "9",
          "country": "Portugal",
          "percentage": 8,
          "question_code": "g5",
          "question_label": "All things considered, how satisfied would you say you are with your life these days? *",
          "subset": "Lesbian"
         },
         {
          "answer": "1",
          "country": "Portugal",
          "percentage": 2,
          "question_code": "g5",
          "question_label": "All things considered, how satisfied would you say you are with your life these days? *",
          "subset": "Gay"
         },
         {
          "answer": "10",
          "country": "Portugal",
          "percentage": 6,
          "question_code": "g5",
          "question_label": "All things considered, how satisfied would you say you are with your life these days? *",
          "subset": "Gay"
         },
         {
          "answer": "2",
          "country": "Portugal",
          "percentage": 2,
          "question_code": "g5",
          "question_label": "All things considered, how satisfied would you say you are with your life these days? *",
          "subset": "Gay"
         },
         {
          "answer": "3",
          "country": "Portugal",
          "percentage": 7,
          "question_code": "g5",
          "question_label": "All things considered, how satisfied would you say you are with your life these days? *",
          "subset": "Gay"
         },
         {
          "answer": "4",
          "country": "Portugal",
          "percentage": 7,
          "question_code": "g5",
          "question_label": "All things considered, how satisfied would you say you are with your life these days? *",
          "subset": "Gay"
         },
         {
          "answer": "5",
          "country": "Portugal",
          "percentage": 11,
          "question_code": "g5",
          "question_label": "All things considered, how satisfied would you say you are with your life these days? *",
          "subset": "Gay"
         },
         {
          "answer": "6",
          "country": "Portugal",
          "percentage": 14,
          "question_code": "g5",
          "question_label": "All things considered, how satisfied would you say you are with your life these days? *",
          "subset": "Gay"
         },
         {
          "answer": "7",
          "country": "Portugal",
          "percentage": 22,
          "question_code": "g5",
          "question_label": "All things considered, how satisfied would you say you are with your life these days? *",
          "subset": "Gay"
         },
         {
          "answer": "8",
          "country": "Portugal",
          "percentage": 21,
          "question_code": "g5",
          "question_label": "All things considered, how satisfied would you say you are with your life these days? *",
          "subset": "Gay"
         },
         {
          "answer": "9",
          "country": "Portugal",
          "percentage": 8,
          "question_code": "g5",
          "question_label": "All things considered, how satisfied would you say you are with your life these days? *",
          "subset": "Gay"
         },
         {
          "answer": "1",
          "country": "Portugal",
          "percentage": 1,
          "question_code": "g5",
          "question_label": "All things considered, how satisfied would you say you are with your life these days? *",
          "subset": "Bisexual women"
         },
         {
          "answer": "10",
          "country": "Portugal",
          "percentage": 3,
          "question_code": "g5",
          "question_label": "All things considered, how satisfied would you say you are with your life these days? *",
          "subset": "Bisexual women"
         },
         {
          "answer": "2",
          "country": "Portugal",
          "percentage": 1,
          "question_code": "g5",
          "question_label": "All things considered, how satisfied would you say you are with your life these days? *",
          "subset": "Bisexual women"
         },
         {
          "answer": "3",
          "country": "Portugal",
          "percentage": 5,
          "question_code": "g5",
          "question_label": "All things considered, how satisfied would you say you are with your life these days? *",
          "subset": "Bisexual women"
         },
         {
          "answer": "4",
          "country": "Portugal",
          "percentage": 8,
          "question_code": "g5",
          "question_label": "All things considered, how satisfied would you say you are with your life these days? *",
          "subset": "Bisexual women"
         },
         {
          "answer": "5",
          "country": "Portugal",
          "percentage": 11,
          "question_code": "g5",
          "question_label": "All things considered, how satisfied would you say you are with your life these days? *",
          "subset": "Bisexual women"
         },
         {
          "answer": "6",
          "country": "Portugal",
          "percentage": 14,
          "question_code": "g5",
          "question_label": "All things considered, how satisfied would you say you are with your life these days? *",
          "subset": "Bisexual women"
         },
         {
          "answer": "7",
          "country": "Portugal",
          "percentage": 23,
          "question_code": "g5",
          "question_label": "All things considered, how satisfied would you say you are with your life these days? *",
          "subset": "Bisexual women"
         },
         {
          "answer": "8",
          "country": "Portugal",
          "percentage": 24,
          "question_code": "g5",
          "question_label": "All things considered, how satisfied would you say you are with your life these days? *",
          "subset": "Bisexual women"
         },
         {
          "answer": "9",
          "country": "Portugal",
          "percentage": 9,
          "question_code": "g5",
          "question_label": "All things considered, how satisfied would you say you are with your life these days? *",
          "subset": "Bisexual women"
         },
         {
          "answer": "1",
          "country": "Portugal",
          "percentage": 3,
          "question_code": "g5",
          "question_label": "All things considered, how satisfied would you say you are with your life these days? *",
          "subset": "Bisexual men"
         },
         {
          "answer": "10",
          "country": "Portugal",
          "percentage": 3,
          "question_code": "g5",
          "question_label": "All things considered, how satisfied would you say you are with your life these days? *",
          "subset": "Bisexual men"
         },
         {
          "answer": "2",
          "country": "Portugal",
          "percentage": 3,
          "question_code": "g5",
          "question_label": "All things considered, how satisfied would you say you are with your life these days? *",
          "subset": "Bisexual men"
         },
         {
          "answer": "3",
          "country": "Portugal",
          "percentage": 9,
          "question_code": "g5",
          "question_label": "All things considered, how satisfied would you say you are with your life these days? *",
          "subset": "Bisexual men"
         },
         {
          "answer": "4",
          "country": "Portugal",
          "percentage": 9,
          "question_code": "g5",
          "question_label": "All things considered, how satisfied would you say you are with your life these days? *",
          "subset": "Bisexual men"
         },
         {
          "answer": "5",
          "country": "Portugal",
          "percentage": 10,
          "question_code": "g5",
          "question_label": "All things considered, how satisfied would you say you are with your life these days? *",
          "subset": "Bisexual men"
         },
         {
          "answer": "6",
          "country": "Portugal",
          "percentage": 12,
          "question_code": "g5",
          "question_label": "All things considered, how satisfied would you say you are with your life these days? *",
          "subset": "Bisexual men"
         },
         {
          "answer": "7",
          "country": "Portugal",
          "percentage": 19,
          "question_code": "g5",
          "question_label": "All things considered, how satisfied would you say you are with your life these days? *",
          "subset": "Bisexual men"
         },
         {
          "answer": "8",
          "country": "Portugal",
          "percentage": 22,
          "question_code": "g5",
          "question_label": "All things considered, how satisfied would you say you are with your life these days? *",
          "subset": "Bisexual men"
         },
         {
          "answer": "9",
          "country": "Portugal",
          "percentage": 11,
          "question_code": "g5",
          "question_label": "All things considered, how satisfied would you say you are with your life these days? *",
          "subset": "Bisexual men"
         },
         {
          "answer": "1",
          "country": "Portugal",
          "percentage": 8,
          "question_code": "g5",
          "question_label": "All things considered, how satisfied would you say you are with your life these days? *",
          "subset": "Transgender"
         },
         {
          "answer": "10",
          "country": "Portugal",
          "percentage": 7,
          "question_code": "g5",
          "question_label": "All things considered, how satisfied would you say you are with your life these days? *",
          "subset": "Transgender"
         },
         {
          "answer": "2",
          "country": "Portugal",
          "percentage": 3,
          "question_code": "g5",
          "question_label": "All things considered, how satisfied would you say you are with your life these days? *",
          "subset": "Transgender"
         },
         {
          "answer": "3",
          "country": "Portugal",
          "percentage": 10,
          "question_code": "g5",
          "question_label": "All things considered, how satisfied would you say you are with your life these days? *",
          "subset": "Transgender"
         },
         {
          "answer": "4",
          "country": "Portugal",
          "percentage": 10,
          "question_code": "g5",
          "question_label": "All things considered, how satisfied would you say you are with your life these days? *",
          "subset": "Transgender"
         },
         {
          "answer": "5",
          "country": "Portugal",
          "percentage": 9,
          "question_code": "g5",
          "question_label": "All things considered, how satisfied would you say you are with your life these days? *",
          "subset": "Transgender"
         },
         {
          "answer": "6",
          "country": "Portugal",
          "percentage": 12,
          "question_code": "g5",
          "question_label": "All things considered, how satisfied would you say you are with your life these days? *",
          "subset": "Transgender"
         },
         {
          "answer": "7",
          "country": "Portugal",
          "percentage": 22,
          "question_code": "g5",
          "question_label": "All things considered, how satisfied would you say you are with your life these days? *",
          "subset": "Transgender"
         },
         {
          "answer": "8",
          "country": "Portugal",
          "percentage": 10,
          "question_code": "g5",
          "question_label": "All things considered, how satisfied would you say you are with your life these days? *",
          "subset": "Transgender"
         },
         {
          "answer": "9",
          "country": "Portugal",
          "percentage": 7,
          "question_code": "g5",
          "question_label": "All things considered, how satisfied would you say you are with your life these days? *",
          "subset": "Transgender"
         },
         {
          "answer": "1",
          "country": "Romania",
          "percentage": 3,
          "question_code": "g5",
          "question_label": "All things considered, how satisfied would you say you are with your life these days? *",
          "subset": "Lesbian"
         },
         {
          "answer": "10",
          "country": "Romania",
          "percentage": 2,
          "question_code": "g5",
          "question_label": "All things considered, how satisfied would you say you are with your life these days? *",
          "subset": "Lesbian"
         },
         {
          "answer": "2",
          "country": "Romania",
          "percentage": 2,
          "question_code": "g5",
          "question_label": "All things considered, how satisfied would you say you are with your life these days? *",
          "subset": "Lesbian"
         },
         {
          "answer": "3",
          "country": "Romania",
          "percentage": 9,
          "question_code": "g5",
          "question_label": "All things considered, how satisfied would you say you are with your life these days? *",
          "subset": "Lesbian"
         },
         {
          "answer": "4",
          "country": "Romania",
          "percentage": 12,
          "question_code": "g5",
          "question_label": "All things considered, how satisfied would you say you are with your life these days? *",
          "subset": "Lesbian"
         },
         {
          "answer": "5",
          "country": "Romania",
          "percentage": 11,
          "question_code": "g5",
          "question_label": "All things considered, how satisfied would you say you are with your life these days? *",
          "subset": "Lesbian"
         },
         {
          "answer": "6",
          "country": "Romania",
          "percentage": 14,
          "question_code": "g5",
          "question_label": "All things considered, how satisfied would you say you are with your life these days? *",
          "subset": "Lesbian"
         },
         {
          "answer": "7",
          "country": "Romania",
          "percentage": 24,
          "question_code": "g5",
          "question_label": "All things considered, how satisfied would you say you are with your life these days? *",
          "subset": "Lesbian"
         },
         {
          "answer": "8",
          "country": "Romania",
          "percentage": 12,
          "question_code": "g5",
          "question_label": "All things considered, how satisfied would you say you are with your life these days? *",
          "subset": "Lesbian"
         },
         {
          "answer": "9",
          "country": "Romania",
          "percentage": 11,
          "question_code": "g5",
          "question_label": "All things considered, how satisfied would you say you are with your life these days? *",
          "subset": "Lesbian"
         },
         {
          "answer": "1",
          "country": "Romania",
          "percentage": 6,
          "question_code": "g5",
          "question_label": "All things considered, how satisfied would you say you are with your life these days? *",
          "subset": "Gay"
         },
         {
          "answer": "10",
          "country": "Romania",
          "percentage": 3,
          "question_code": "g5",
          "question_label": "All things considered, how satisfied would you say you are with your life these days? *",
          "subset": "Gay"
         },
         {
          "answer": "2",
          "country": "Romania",
          "percentage": 6,
          "question_code": "g5",
          "question_label": "All things considered, how satisfied would you say you are with your life these days? *",
          "subset": "Gay"
         },
         {
          "answer": "3",
          "country": "Romania",
          "percentage": 9,
          "question_code": "g5",
          "question_label": "All things considered, how satisfied would you say you are with your life these days? *",
          "subset": "Gay"
         },
         {
          "answer": "4",
          "country": "Romania",
          "percentage": 9,
          "question_code": "g5",
          "question_label": "All things considered, how satisfied would you say you are with your life these days? *",
          "subset": "Gay"
         },
         {
          "answer": "5",
          "country": "Romania",
          "percentage": 11,
          "question_code": "g5",
          "question_label": "All things considered, how satisfied would you say you are with your life these days? *",
          "subset": "Gay"
         },
         {
          "answer": "6",
          "country": "Romania",
          "percentage": 13,
          "question_code": "g5",
          "question_label": "All things considered, how satisfied would you say you are with your life these days? *",
          "subset": "Gay"
         },
         {
          "answer": "7",
          "country": "Romania",
          "percentage": 21,
          "question_code": "g5",
          "question_label": "All things considered, how satisfied would you say you are with your life these days? *",
          "subset": "Gay"
         },
         {
          "answer": "8",
          "country": "Romania",
          "percentage": 15,
          "question_code": "g5",
          "question_label": "All things considered, how satisfied would you say you are with your life these days? *",
          "subset": "Gay"
         },
         {
          "answer": "9",
          "country": "Romania",
          "percentage": 7,
          "question_code": "g5",
          "question_label": "All things considered, how satisfied would you say you are with your life these days? *",
          "subset": "Gay"
         },
         {
          "answer": "1",
          "country": "Romania",
          "percentage": 3,
          "question_code": "g5",
          "question_label": "All things considered, how satisfied would you say you are with your life these days? *",
          "subset": "Bisexual women"
         },
         {
          "answer": "10",
          "country": "Romania",
          "percentage": 3,
          "question_code": "g5",
          "question_label": "All things considered, how satisfied would you say you are with your life these days? *",
          "subset": "Bisexual women"
         },
         {
          "answer": "2",
          "country": "Romania",
          "percentage": 4,
          "question_code": "g5",
          "question_label": "All things considered, how satisfied would you say you are with your life these days? *",
          "subset": "Bisexual women"
         },
         {
          "answer": "3",
          "country": "Romania",
          "percentage": 6,
          "question_code": "g5",
          "question_label": "All things considered, how satisfied would you say you are with your life these days? *",
          "subset": "Bisexual women"
         },
         {
          "answer": "4",
          "country": "Romania",
          "percentage": 6,
          "question_code": "g5",
          "question_label": "All things considered, how satisfied would you say you are with your life these days? *",
          "subset": "Bisexual women"
         },
         {
          "answer": "5",
          "country": "Romania",
          "percentage": 13,
          "question_code": "g5",
          "question_label": "All things considered, how satisfied would you say you are with your life these days? *",
          "subset": "Bisexual women"
         },
         {
          "answer": "6",
          "country": "Romania",
          "percentage": 9,
          "question_code": "g5",
          "question_label": "All things considered, how satisfied would you say you are with your life these days? *",
          "subset": "Bisexual women"
         },
         {
          "answer": "7",
          "country": "Romania",
          "percentage": 33,
          "question_code": "g5",
          "question_label": "All things considered, how satisfied would you say you are with your life these days? *",
          "subset": "Bisexual women"
         },
         {
          "answer": "8",
          "country": "Romania",
          "percentage": 16,
          "question_code": "g5",
          "question_label": "All things considered, how satisfied would you say you are with your life these days? *",
          "subset": "Bisexual women"
         },
         {
          "answer": "9",
          "country": "Romania",
          "percentage": 7,
          "question_code": "g5",
          "question_label": "All things considered, how satisfied would you say you are with your life these days? *",
          "subset": "Bisexual women"
         },
         {
          "answer": "1",
          "country": "Romania",
          "percentage": 4,
          "question_code": "g5",
          "question_label": "All things considered, how satisfied would you say you are with your life these days? *",
          "subset": "Bisexual men"
         },
         {
          "answer": "10",
          "country": "Romania",
          "percentage": 8,
          "question_code": "g5",
          "question_label": "All things considered, how satisfied would you say you are with your life these days? *",
          "subset": "Bisexual men"
         },
         {
          "answer": "2",
          "country": "Romania",
          "percentage": 5,
          "question_code": "g5",
          "question_label": "All things considered, how satisfied would you say you are with your life these days? *",
          "subset": "Bisexual men"
         },
         {
          "answer": "3",
          "country": "Romania",
          "percentage": 5,
          "question_code": "g5",
          "question_label": "All things considered, how satisfied would you say you are with your life these days? *",
          "subset": "Bisexual men"
         },
         {
          "answer": "4",
          "country": "Romania",
          "percentage": 8,
          "question_code": "g5",
          "question_label": "All things considered, how satisfied would you say you are with your life these days? *",
          "subset": "Bisexual men"
         },
         {
          "answer": "5",
          "country": "Romania",
          "percentage": 10,
          "question_code": "g5",
          "question_label": "All things considered, how satisfied would you say you are with your life these days? *",
          "subset": "Bisexual men"
         },
         {
          "answer": "6",
          "country": "Romania",
          "percentage": 13,
          "question_code": "g5",
          "question_label": "All things considered, how satisfied would you say you are with your life these days? *",
          "subset": "Bisexual men"
         },
         {
          "answer": "7",
          "country": "Romania",
          "percentage": 17,
          "question_code": "g5",
          "question_label": "All things considered, how satisfied would you say you are with your life these days? *",
          "subset": "Bisexual men"
         },
         {
          "answer": "8",
          "country": "Romania",
          "percentage": 22,
          "question_code": "g5",
          "question_label": "All things considered, how satisfied would you say you are with your life these days? *",
          "subset": "Bisexual men"
         },
         {
          "answer": "9",
          "country": "Romania",
          "percentage": 8,
          "question_code": "g5",
          "question_label": "All things considered, how satisfied would you say you are with your life these days? *",
          "subset": "Bisexual men"
         },
         {
          "answer": "1",
          "country": "Romania",
          "percentage": 5,
          "question_code": "g5",
          "question_label": "All things considered, how satisfied would you say you are with your life these days? *",
          "subset": "Transgender"
         },
         {
          "answer": "10",
          "country": "Romania",
          "percentage": 8,
          "question_code": "g5",
          "question_label": "All things considered, how satisfied would you say you are with your life these days? *",
          "subset": "Transgender"
         },
         {
          "answer": "2",
          "country": "Romania",
          "percentage": 5,
          "question_code": "g5",
          "question_label": "All things considered, how satisfied would you say you are with your life these days? *",
          "subset": "Transgender"
         },
         {
          "answer": "3",
          "country": "Romania",
          "percentage": 4,
          "question_code": "g5",
          "question_label": "All things considered, how satisfied would you say you are with your life these days? *",
          "subset": "Transgender"
         },
         {
          "answer": "4",
          "country": "Romania",
          "percentage": 10,
          "question_code": "g5",
          "question_label": "All things considered, how satisfied would you say you are with your life these days? *",
          "subset": "Transgender"
         },
         {
          "answer": "5",
          "country": "Romania",
          "percentage": 17,
          "question_code": "g5",
          "question_label": "All things considered, how satisfied would you say you are with your life these days? *",
          "subset": "Transgender"
         },
         {
          "answer": "6",
          "country": "Romania",
          "percentage": 14,
          "question_code": "g5",
          "question_label": "All things considered, how satisfied would you say you are with your life these days? *",
          "subset": "Transgender"
         },
         {
          "answer": "7",
          "country": "Romania",
          "percentage": 15,
          "question_code": "g5",
          "question_label": "All things considered, how satisfied would you say you are with your life these days? *",
          "subset": "Transgender"
         },
         {
          "answer": "8",
          "country": "Romania",
          "percentage": 17,
          "question_code": "g5",
          "question_label": "All things considered, how satisfied would you say you are with your life these days? *",
          "subset": "Transgender"
         },
         {
          "answer": "9",
          "country": "Romania",
          "percentage": 6,
          "question_code": "g5",
          "question_label": "All things considered, how satisfied would you say you are with your life these days? *",
          "subset": "Transgender"
         },
         {
          "answer": "1",
          "country": "Sweden",
          "percentage": 1,
          "question_code": "g5",
          "question_label": "All things considered, how satisfied would you say you are with your life these days? *",
          "subset": "Lesbian"
         },
         {
          "answer": "10",
          "country": "Sweden",
          "percentage": 11,
          "question_code": "g5",
          "question_label": "All things considered, how satisfied would you say you are with your life these days? *",
          "subset": "Lesbian"
         },
         {
          "answer": "2",
          "country": "Sweden",
          "percentage": 1,
          "question_code": "g5",
          "question_label": "All things considered, how satisfied would you say you are with your life these days? *",
          "subset": "Lesbian"
         },
         {
          "answer": "3",
          "country": "Sweden",
          "percentage": 4,
          "question_code": "g5",
          "question_label": "All things considered, how satisfied would you say you are with your life these days? *",
          "subset": "Lesbian"
         },
         {
          "answer": "4",
          "country": "Sweden",
          "percentage": 4,
          "question_code": "g5",
          "question_label": "All things considered, how satisfied would you say you are with your life these days? *",
          "subset": "Lesbian"
         },
         {
          "answer": "5",
          "country": "Sweden",
          "percentage": 5,
          "question_code": "g5",
          "question_label": "All things considered, how satisfied would you say you are with your life these days? *",
          "subset": "Lesbian"
         },
         {
          "answer": "6",
          "country": "Sweden",
          "percentage": 10,
          "question_code": "g5",
          "question_label": "All things considered, how satisfied would you say you are with your life these days? *",
          "subset": "Lesbian"
         },
         {
          "answer": "7",
          "country": "Sweden",
          "percentage": 23,
          "question_code": "g5",
          "question_label": "All things considered, how satisfied would you say you are with your life these days? *",
          "subset": "Lesbian"
         },
         {
          "answer": "8",
          "country": "Sweden",
          "percentage": 24,
          "question_code": "g5",
          "question_label": "All things considered, how satisfied would you say you are with your life these days? *",
          "subset": "Lesbian"
         },
         {
          "answer": "9",
          "country": "Sweden",
          "percentage": 15,
          "question_code": "g5",
          "question_label": "All things considered, how satisfied would you say you are with your life these days? *",
          "subset": "Lesbian"
         },
         {
          "answer": "1",
          "country": "Sweden",
          "percentage": 2,
          "question_code": "g5",
          "question_label": "All things considered, how satisfied would you say you are with your life these days? *",
          "subset": "Gay"
         },
         {
          "answer": "10",
          "country": "Sweden",
          "percentage": 10,
          "question_code": "g5",
          "question_label": "All things considered, how satisfied would you say you are with your life these days? *",
          "subset": "Gay"
         },
         {
          "answer": "2",
          "country": "Sweden",
          "percentage": 2,
          "question_code": "g5",
          "question_label": "All things considered, how satisfied would you say you are with your life these days? *",
          "subset": "Gay"
         },
         {
          "answer": "3",
          "country": "Sweden",
          "percentage": 4,
          "question_code": "g5",
          "question_label": "All things considered, how satisfied would you say you are with your life these days? *",
          "subset": "Gay"
         },
         {
          "answer": "4",
          "country": "Sweden",
          "percentage": 5,
          "question_code": "g5",
          "question_label": "All things considered, how satisfied would you say you are with your life these days? *",
          "subset": "Gay"
         },
         {
          "answer": "5",
          "country": "Sweden",
          "percentage": 6,
          "question_code": "g5",
          "question_label": "All things considered, how satisfied would you say you are with your life these days? *",
          "subset": "Gay"
         },
         {
          "answer": "6",
          "country": "Sweden",
          "percentage": 11,
          "question_code": "g5",
          "question_label": "All things considered, how satisfied would you say you are with your life these days? *",
          "subset": "Gay"
         },
         {
          "answer": "7",
          "country": "Sweden",
          "percentage": 19,
          "question_code": "g5",
          "question_label": "All things considered, how satisfied would you say you are with your life these days? *",
          "subset": "Gay"
         },
         {
          "answer": "8",
          "country": "Sweden",
          "percentage": 25,
          "question_code": "g5",
          "question_label": "All things considered, how satisfied would you say you are with your life these days? *",
          "subset": "Gay"
         },
         {
          "answer": "9",
          "country": "Sweden",
          "percentage": 17,
          "question_code": "g5",
          "question_label": "All things considered, how satisfied would you say you are with your life these days? *",
          "subset": "Gay"
         },
         {
          "answer": "1",
          "country": "Sweden",
          "percentage": 1,
          "question_code": "g5",
          "question_label": "All things considered, how satisfied would you say you are with your life these days? *",
          "subset": "Bisexual women"
         },
         {
          "answer": "10",
          "country": "Sweden",
          "percentage": 4,
          "question_code": "g5",
          "question_label": "All things considered, how satisfied would you say you are with your life these days? *",
          "subset": "Bisexual women"
         },
         {
          "answer": "2",
          "country": "Sweden",
          "percentage": 3,
          "question_code": "g5",
          "question_label": "All things considered, how satisfied would you say you are with your life these days? *",
          "subset": "Bisexual women"
         },
         {
          "answer": "3",
          "country": "Sweden",
          "percentage": 5,
          "question_code": "g5",
          "question_label": "All things considered, how satisfied would you say you are with your life these days? *",
          "subset": "Bisexual women"
         },
         {
          "answer": "4",
          "country": "Sweden",
          "percentage": 8,
          "question_code": "g5",
          "question_label": "All things considered, how satisfied would you say you are with your life these days? *",
          "subset": "Bisexual women"
         },
         {
          "answer": "5",
          "country": "Sweden",
          "percentage": 8,
          "question_code": "g5",
          "question_label": "All things considered, how satisfied would you say you are with your life these days? *",
          "subset": "Bisexual women"
         },
         {
          "answer": "6",
          "country": "Sweden",
          "percentage": 12,
          "question_code": "g5",
          "question_label": "All things considered, how satisfied would you say you are with your life these days? *",
          "subset": "Bisexual women"
         },
         {
          "answer": "7",
          "country": "Sweden",
          "percentage": 26,
          "question_code": "g5",
          "question_label": "All things considered, how satisfied would you say you are with your life these days? *",
          "subset": "Bisexual women"
         },
         {
          "answer": "8",
          "country": "Sweden",
          "percentage": 22,
          "question_code": "g5",
          "question_label": "All things considered, how satisfied would you say you are with your life these days? *",
          "subset": "Bisexual women"
         },
         {
          "answer": "9",
          "country": "Sweden",
          "percentage": 12,
          "question_code": "g5",
          "question_label": "All things considered, how satisfied would you say you are with your life these days? *",
          "subset": "Bisexual women"
         },
         {
          "answer": "1",
          "country": "Sweden",
          "percentage": 3,
          "question_code": "g5",
          "question_label": "All things considered, how satisfied would you say you are with your life these days? *",
          "subset": "Bisexual men"
         },
         {
          "answer": "10",
          "country": "Sweden",
          "percentage": 7,
          "question_code": "g5",
          "question_label": "All things considered, how satisfied would you say you are with your life these days? *",
          "subset": "Bisexual men"
         },
         {
          "answer": "2",
          "country": "Sweden",
          "percentage": 4,
          "question_code": "g5",
          "question_label": "All things considered, how satisfied would you say you are with your life these days? *",
          "subset": "Bisexual men"
         },
         {
          "answer": "3",
          "country": "Sweden",
          "percentage": 5,
          "question_code": "g5",
          "question_label": "All things considered, how satisfied would you say you are with your life these days? *",
          "subset": "Bisexual men"
         },
         {
          "answer": "4",
          "country": "Sweden",
          "percentage": 6,
          "question_code": "g5",
          "question_label": "All things considered, how satisfied would you say you are with your life these days? *",
          "subset": "Bisexual men"
         },
         {
          "answer": "5",
          "country": "Sweden",
          "percentage": 8,
          "question_code": "g5",
          "question_label": "All things considered, how satisfied would you say you are with your life these days? *",
          "subset": "Bisexual men"
         },
         {
          "answer": "6",
          "country": "Sweden",
          "percentage": 11,
          "question_code": "g5",
          "question_label": "All things considered, how satisfied would you say you are with your life these days? *",
          "subset": "Bisexual men"
         },
         {
          "answer": "7",
          "country": "Sweden",
          "percentage": 19,
          "question_code": "g5",
          "question_label": "All things considered, how satisfied would you say you are with your life these days? *",
          "subset": "Bisexual men"
         },
         {
          "answer": "8",
          "country": "Sweden",
          "percentage": 24,
          "question_code": "g5",
          "question_label": "All things considered, how satisfied would you say you are with your life these days? *",
          "subset": "Bisexual men"
         },
         {
          "answer": "9",
          "country": "Sweden",
          "percentage": 14,
          "question_code": "g5",
          "question_label": "All things considered, how satisfied would you say you are with your life these days? *",
          "subset": "Bisexual men"
         },
         {
          "answer": "1",
          "country": "Sweden",
          "percentage": 3,
          "question_code": "g5",
          "question_label": "All things considered, how satisfied would you say you are with your life these days? *",
          "subset": "Transgender"
         },
         {
          "answer": "10",
          "country": "Sweden",
          "percentage": 5,
          "question_code": "g5",
          "question_label": "All things considered, how satisfied would you say you are with your life these days? *",
          "subset": "Transgender"
         },
         {
          "answer": "2",
          "country": "Sweden",
          "percentage": 5,
          "question_code": "g5",
          "question_label": "All things considered, how satisfied would you say you are with your life these days? *",
          "subset": "Transgender"
         },
         {
          "answer": "3",
          "country": "Sweden",
          "percentage": 10,
          "question_code": "g5",
          "question_label": "All things considered, how satisfied would you say you are with your life these days? *",
          "subset": "Transgender"
         },
         {
          "answer": "4",
          "country": "Sweden",
          "percentage": 8,
          "question_code": "g5",
          "question_label": "All things considered, how satisfied would you say you are with your life these days? *",
          "subset": "Transgender"
         },
         {
          "answer": "5",
          "country": "Sweden",
          "percentage": 7,
          "question_code": "g5",
          "question_label": "All things considered, how satisfied would you say you are with your life these days? *",
          "subset": "Transgender"
         },
         {
          "answer": "6",
          "country": "Sweden",
          "percentage": 13,
          "question_code": "g5",
          "question_label": "All things considered, how satisfied would you say you are with your life these days? *",
          "subset": "Transgender"
         },
         {
          "answer": "7",
          "country": "Sweden",
          "percentage": 20,
          "question_code": "g5",
          "question_label": "All things considered, how satisfied would you say you are with your life these days? *",
          "subset": "Transgender"
         },
         {
          "answer": "8",
          "country": "Sweden",
          "percentage": 22,
          "question_code": "g5",
          "question_label": "All things considered, how satisfied would you say you are with your life these days? *",
          "subset": "Transgender"
         },
         {
          "answer": "9",
          "country": "Sweden",
          "percentage": 8,
          "question_code": "g5",
          "question_label": "All things considered, how satisfied would you say you are with your life these days? *",
          "subset": "Transgender"
         },
         {
          "answer": "1",
          "country": "Slovenia",
          "percentage": 1,
          "question_code": "g5",
          "question_label": "All things considered, how satisfied would you say you are with your life these days? *",
          "subset": "Lesbian"
         },
         {
          "answer": "10",
          "country": "Slovenia",
          "percentage": 3,
          "question_code": "g5",
          "question_label": "All things considered, how satisfied would you say you are with your life these days? *",
          "subset": "Lesbian"
         },
         {
          "answer": "2",
          "country": "Slovenia",
          "percentage": 1,
          "question_code": "g5",
          "question_label": "All things considered, how satisfied would you say you are with your life these days? *",
          "subset": "Lesbian"
         },
         {
          "answer": "3",
          "country": "Slovenia",
          "percentage": 8,
          "question_code": "g5",
          "question_label": "All things considered, how satisfied would you say you are with your life these days? *",
          "subset": "Lesbian"
         },
         {
          "answer": "4",
          "country": "Slovenia",
          "percentage": 6,
          "question_code": "g5",
          "question_label": "All things considered, how satisfied would you say you are with your life these days? *",
          "subset": "Lesbian"
         },
         {
          "answer": "5",
          "country": "Slovenia",
          "percentage": 9,
          "question_code": "g5",
          "question_label": "All things considered, how satisfied would you say you are with your life these days? *",
          "subset": "Lesbian"
         },
         {
          "answer": "6",
          "country": "Slovenia",
          "percentage": 14,
          "question_code": "g5",
          "question_label": "All things considered, how satisfied would you say you are with your life these days? *",
          "subset": "Lesbian"
         },
         {
          "answer": "7",
          "country": "Slovenia",
          "percentage": 26,
          "question_code": "g5",
          "question_label": "All things considered, how satisfied would you say you are with your life these days? *",
          "subset": "Lesbian"
         },
         {
          "answer": "8",
          "country": "Slovenia",
          "percentage": 24,
          "question_code": "g5",
          "question_label": "All things considered, how satisfied would you say you are with your life these days? *",
          "subset": "Lesbian"
         },
         {
          "answer": "9",
          "country": "Slovenia",
          "percentage": 8,
          "question_code": "g5",
          "question_label": "All things considered, how satisfied would you say you are with your life these days? *",
          "subset": "Lesbian"
         },
         {
          "answer": "1",
          "country": "Slovenia",
          "percentage": 1,
          "question_code": "g5",
          "question_label": "All things considered, how satisfied would you say you are with your life these days? *",
          "subset": "Gay"
         },
         {
          "answer": "10",
          "country": "Slovenia",
          "percentage": 5,
          "question_code": "g5",
          "question_label": "All things considered, how satisfied would you say you are with your life these days? *",
          "subset": "Gay"
         },
         {
          "answer": "2",
          "country": "Slovenia",
          "percentage": 4,
          "question_code": "g5",
          "question_label": "All things considered, how satisfied would you say you are with your life these days? *",
          "subset": "Gay"
         },
         {
          "answer": "3",
          "country": "Slovenia",
          "percentage": 6,
          "question_code": "g5",
          "question_label": "All things considered, how satisfied would you say you are with your life these days? *",
          "subset": "Gay"
         },
         {
          "answer": "4",
          "country": "Slovenia",
          "percentage": 4,
          "question_code": "g5",
          "question_label": "All things considered, how satisfied would you say you are with your life these days? *",
          "subset": "Gay"
         },
         {
          "answer": "5",
          "country": "Slovenia",
          "percentage": 8,
          "question_code": "g5",
          "question_label": "All things considered, how satisfied would you say you are with your life these days? *",
          "subset": "Gay"
         },
         {
          "answer": "6",
          "country": "Slovenia",
          "percentage": 12,
          "question_code": "g5",
          "question_label": "All things considered, how satisfied would you say you are with your life these days? *",
          "subset": "Gay"
         },
         {
          "answer": "7",
          "country": "Slovenia",
          "percentage": 26,
          "question_code": "g5",
          "question_label": "All things considered, how satisfied would you say you are with your life these days? *",
          "subset": "Gay"
         },
         {
          "answer": "8",
          "country": "Slovenia",
          "percentage": 24,
          "question_code": "g5",
          "question_label": "All things considered, how satisfied would you say you are with your life these days? *",
          "subset": "Gay"
         },
         {
          "answer": "9",
          "country": "Slovenia",
          "percentage": 10,
          "question_code": "g5",
          "question_label": "All things considered, how satisfied would you say you are with your life these days? *",
          "subset": "Gay"
         },
         {
          "answer": "10",
          "country": "Slovenia",
          "percentage": 9,
          "question_code": "g5",
          "question_label": "All things considered, how satisfied would you say you are with your life these days? *",
          "subset": "Bisexual women"
         },
         {
          "answer": "3",
          "country": "Slovenia",
          "percentage": 5,
          "question_code": "g5",
          "question_label": "All things considered, how satisfied would you say you are with your life these days? *",
          "subset": "Bisexual women"
         },
         {
          "answer": "4",
          "country": "Slovenia",
          "percentage": 5,
          "question_code": "g5",
          "question_label": "All things considered, how satisfied would you say you are with your life these days? *",
          "subset": "Bisexual women"
         },
         {
          "answer": "5",
          "country": "Slovenia",
          "percentage": 11,
          "question_code": "g5",
          "question_label": "All things considered, how satisfied would you say you are with your life these days? *",
          "subset": "Bisexual women"
         },
         {
          "answer": "6",
          "country": "Slovenia",
          "percentage": 11,
          "question_code": "g5",
          "question_label": "All things considered, how satisfied would you say you are with your life these days? *",
          "subset": "Bisexual women"
         },
         {
          "answer": "7",
          "country": "Slovenia",
          "percentage": 31,
          "question_code": "g5",
          "question_label": "All things considered, how satisfied would you say you are with your life these days? *",
          "subset": "Bisexual women"
         },
         {
          "answer": "8",
          "country": "Slovenia",
          "percentage": 22,
          "question_code": "g5",
          "question_label": "All things considered, how satisfied would you say you are with your life these days? *",
          "subset": "Bisexual women"
         },
         {
          "answer": "9",
          "country": "Slovenia",
          "percentage": 6,
          "question_code": "g5",
          "question_label": "All things considered, how satisfied would you say you are with your life these days? *",
          "subset": "Bisexual women"
         },
         {
          "answer": "10",
          "country": "Slovenia",
          "percentage": 5,
          "question_code": "g5",
          "question_label": "All things considered, how satisfied would you say you are with your life these days? *",
          "subset": "Bisexual men"
         },
         {
          "answer": "2",
          "country": "Slovenia",
          "percentage": 5,
          "question_code": "g5",
          "question_label": "All things considered, how satisfied would you say you are with your life these days? *",
          "subset": "Bisexual men"
         },
         {
          "answer": "3",
          "country": "Slovenia",
          "percentage": 8,
          "question_code": "g5",
          "question_label": "All things considered, how satisfied would you say you are with your life these days? *",
          "subset": "Bisexual men"
         },
         {
          "answer": "4",
          "country": "Slovenia",
          "percentage": 8,
          "question_code": "g5",
          "question_label": "All things considered, how satisfied would you say you are with your life these days? *",
          "subset": "Bisexual men"
         },
         {
          "answer": "5",
          "country": "Slovenia",
          "percentage": 3,
          "question_code": "g5",
          "question_label": "All things considered, how satisfied would you say you are with your life these days? *",
          "subset": "Bisexual men"
         },
         {
          "answer": "6",
          "country": "Slovenia",
          "percentage": 18,
          "question_code": "g5",
          "question_label": "All things considered, how satisfied would you say you are with your life these days? *",
          "subset": "Bisexual men"
         },
         {
          "answer": "7",
          "country": "Slovenia",
          "percentage": 26,
          "question_code": "g5",
          "question_label": "All things considered, how satisfied would you say you are with your life these days? *",
          "subset": "Bisexual men"
         },
         {
          "answer": "8",
          "country": "Slovenia",
          "percentage": 21,
          "question_code": "g5",
          "question_label": "All things considered, how satisfied would you say you are with your life these days? *",
          "subset": "Bisexual men"
         },
         {
          "answer": "9",
          "country": "Slovenia",
          "percentage": 5,
          "question_code": "g5",
          "question_label": "All things considered, how satisfied would you say you are with your life these days? *",
          "subset": "Bisexual men"
         },
         {
          "answer": "1",
          "country": "Slovenia",
          "percentage": 7,
          "question_code": "g5",
          "question_label": "All things considered, how satisfied would you say you are with your life these days? *",
          "subset": "Transgender"
         },
         {
          "answer": "10",
          "country": "Slovenia",
          "percentage": 3,
          "question_code": "g5",
          "question_label": "All things considered, how satisfied would you say you are with your life these days? *",
          "subset": "Transgender"
         },
         {
          "answer": "2",
          "country": "Slovenia",
          "percentage": 3,
          "question_code": "g5",
          "question_label": "All things considered, how satisfied would you say you are with your life these days? *",
          "subset": "Transgender"
         },
         {
          "answer": "3",
          "country": "Slovenia",
          "percentage": 10,
          "question_code": "g5",
          "question_label": "All things considered, how satisfied would you say you are with your life these days? *",
          "subset": "Transgender"
         },
         {
          "answer": "4",
          "country": "Slovenia",
          "percentage": 3,
          "question_code": "g5",
          "question_label": "All things considered, how satisfied would you say you are with your life these days? *",
          "subset": "Transgender"
         },
         {
          "answer": "5",
          "country": "Slovenia",
          "percentage": 7,
          "question_code": "g5",
          "question_label": "All things considered, how satisfied would you say you are with your life these days? *",
          "subset": "Transgender"
         },
         {
          "answer": "6",
          "country": "Slovenia",
          "percentage": 3,
          "question_code": "g5",
          "question_label": "All things considered, how satisfied would you say you are with your life these days? *",
          "subset": "Transgender"
         },
         {
          "answer": "7",
          "country": "Slovenia",
          "percentage": 41,
          "question_code": "g5",
          "question_label": "All things considered, how satisfied would you say you are with your life these days? *",
          "subset": "Transgender"
         },
         {
          "answer": "8",
          "country": "Slovenia",
          "percentage": 14,
          "question_code": "g5",
          "question_label": "All things considered, how satisfied would you say you are with your life these days? *",
          "subset": "Transgender"
         },
         {
          "answer": "9",
          "country": "Slovenia",
          "percentage": 7,
          "question_code": "g5",
          "question_label": "All things considered, how satisfied would you say you are with your life these days? *",
          "subset": "Transgender"
         },
         {
          "answer": "1",
          "country": "Slovakia",
          "percentage": 2,
          "question_code": "g5",
          "question_label": "All things considered, how satisfied would you say you are with your life these days? *",
          "subset": "Lesbian"
         },
         {
          "answer": "10",
          "country": "Slovakia",
          "percentage": 8,
          "question_code": "g5",
          "question_label": "All things considered, how satisfied would you say you are with your life these days? *",
          "subset": "Lesbian"
         },
         {
          "answer": "2",
          "country": "Slovakia",
          "percentage": 3,
          "question_code": "g5",
          "question_label": "All things considered, how satisfied would you say you are with your life these days? *",
          "subset": "Lesbian"
         },
         {
          "answer": "3",
          "country": "Slovakia",
          "percentage": 12,
          "question_code": "g5",
          "question_label": "All things considered, how satisfied would you say you are with your life these days? *",
          "subset": "Lesbian"
         },
         {
          "answer": "4",
          "country": "Slovakia",
          "percentage": 6,
          "question_code": "g5",
          "question_label": "All things considered, how satisfied would you say you are with your life these days? *",
          "subset": "Lesbian"
         },
         {
          "answer": "5",
          "country": "Slovakia",
          "percentage": 13,
          "question_code": "g5",
          "question_label": "All things considered, how satisfied would you say you are with your life these days? *",
          "subset": "Lesbian"
         },
         {
          "answer": "6",
          "country": "Slovakia",
          "percentage": 16,
          "question_code": "g5",
          "question_label": "All things considered, how satisfied would you say you are with your life these days? *",
          "subset": "Lesbian"
         },
         {
          "answer": "7",
          "country": "Slovakia",
          "percentage": 16,
          "question_code": "g5",
          "question_label": "All things considered, how satisfied would you say you are with your life these days? *",
          "subset": "Lesbian"
         },
         {
          "answer": "8",
          "country": "Slovakia",
          "percentage": 16,
          "question_code": "g5",
          "question_label": "All things considered, how satisfied would you say you are with your life these days? *",
          "subset": "Lesbian"
         },
         {
          "answer": "9",
          "country": "Slovakia",
          "percentage": 8,
          "question_code": "g5",
          "question_label": "All things considered, how satisfied would you say you are with your life these days? *",
          "subset": "Lesbian"
         },
         {
          "answer": "1",
          "country": "Slovakia",
          "percentage": 3,
          "question_code": "g5",
          "question_label": "All things considered, how satisfied would you say you are with your life these days? *",
          "subset": "Gay"
         },
         {
          "answer": "10",
          "country": "Slovakia",
          "percentage": 5,
          "question_code": "g5",
          "question_label": "All things considered, how satisfied would you say you are with your life these days? *",
          "subset": "Gay"
         },
         {
          "answer": "2",
          "country": "Slovakia",
          "percentage": 3,
          "question_code": "g5",
          "question_label": "All things considered, how satisfied would you say you are with your life these days? *",
          "subset": "Gay"
         },
         {
          "answer": "3",
          "country": "Slovakia",
          "percentage": 9,
          "question_code": "g5",
          "question_label": "All things considered, how satisfied would you say you are with your life these days? *",
          "subset": "Gay"
         },
         {
          "answer": "4",
          "country": "Slovakia",
          "percentage": 11,
          "question_code": "g5",
          "question_label": "All things considered, how satisfied would you say you are with your life these days? *",
          "subset": "Gay"
         },
         {
          "answer": "5",
          "country": "Slovakia",
          "percentage": 10,
          "question_code": "g5",
          "question_label": "All things considered, how satisfied would you say you are with your life these days? *",
          "subset": "Gay"
         },
         {
          "answer": "6",
          "country": "Slovakia",
          "percentage": 11,
          "question_code": "g5",
          "question_label": "All things considered, how satisfied would you say you are with your life these days? *",
          "subset": "Gay"
         },
         {
          "answer": "7",
          "country": "Slovakia",
          "percentage": 20,
          "question_code": "g5",
          "question_label": "All things considered, how satisfied would you say you are with your life these days? *",
          "subset": "Gay"
         },
         {
          "answer": "8",
          "country": "Slovakia",
          "percentage": 17,
          "question_code": "g5",
          "question_label": "All things considered, how satisfied would you say you are with your life these days? *",
          "subset": "Gay"
         },
         {
          "answer": "9",
          "country": "Slovakia",
          "percentage": 10,
          "question_code": "g5",
          "question_label": "All things considered, how satisfied would you say you are with your life these days? *",
          "subset": "Gay"
         },
         {
          "answer": "1",
          "country": "Slovakia",
          "percentage": 2,
          "question_code": "g5",
          "question_label": "All things considered, how satisfied would you say you are with your life these days? *",
          "subset": "Bisexual women"
         },
         {
          "answer": "10",
          "country": "Slovakia",
          "percentage": 2,
          "question_code": "g5",
          "question_label": "All things considered, how satisfied would you say you are with your life these days? *",
          "subset": "Bisexual women"
         },
         {
          "answer": "3",
          "country": "Slovakia",
          "percentage": 7,
          "question_code": "g5",
          "question_label": "All things considered, how satisfied would you say you are with your life these days? *",
          "subset": "Bisexual women"
         },
         {
          "answer": "4",
          "country": "Slovakia",
          "percentage": 12,
          "question_code": "g5",
          "question_label": "All things considered, how satisfied would you say you are with your life these days? *",
          "subset": "Bisexual women"
         },
         {
          "answer": "5",
          "country": "Slovakia",
          "percentage": 11,
          "question_code": "g5",
          "question_label": "All things considered, how satisfied would you say you are with your life these days? *",
          "subset": "Bisexual women"
         },
         {
          "answer": "6",
          "country": "Slovakia",
          "percentage": 20,
          "question_code": "g5",
          "question_label": "All things considered, how satisfied would you say you are with your life these days? *",
          "subset": "Bisexual women"
         },
         {
          "answer": "7",
          "country": "Slovakia",
          "percentage": 22,
          "question_code": "g5",
          "question_label": "All things considered, how satisfied would you say you are with your life these days? *",
          "subset": "Bisexual women"
         },
         {
          "answer": "8",
          "country": "Slovakia",
          "percentage": 13,
          "question_code": "g5",
          "question_label": "All things considered, how satisfied would you say you are with your life these days? *",
          "subset": "Bisexual women"
         },
         {
          "answer": "9",
          "country": "Slovakia",
          "percentage": 12,
          "question_code": "g5",
          "question_label": "All things considered, how satisfied would you say you are with your life these days? *",
          "subset": "Bisexual women"
         },
         {
          "answer": "1",
          "country": "Slovakia",
          "percentage": 3,
          "question_code": "g5",
          "question_label": "All things considered, how satisfied would you say you are with your life these days? *",
          "subset": "Bisexual men"
         },
         {
          "answer": "10",
          "country": "Slovakia",
          "percentage": 7,
          "question_code": "g5",
          "question_label": "All things considered, how satisfied would you say you are with your life these days? *",
          "subset": "Bisexual men"
         },
         {
          "answer": "2",
          "country": "Slovakia",
          "percentage": 3,
          "question_code": "g5",
          "question_label": "All things considered, how satisfied would you say you are with your life these days? *",
          "subset": "Bisexual men"
         },
         {
          "answer": "3",
          "country": "Slovakia",
          "percentage": 10,
          "question_code": "g5",
          "question_label": "All things considered, how satisfied would you say you are with your life these days? *",
          "subset": "Bisexual men"
         },
         {
          "answer": "4",
          "country": "Slovakia",
          "percentage": 12,
          "question_code": "g5",
          "question_label": "All things considered, how satisfied would you say you are with your life these days? *",
          "subset": "Bisexual men"
         },
         {
          "answer": "5",
          "country": "Slovakia",
          "percentage": 12,
          "question_code": "g5",
          "question_label": "All things considered, how satisfied would you say you are with your life these days? *",
          "subset": "Bisexual men"
         },
         {
          "answer": "6",
          "country": "Slovakia",
          "percentage": 13,
          "question_code": "g5",
          "question_label": "All things considered, how satisfied would you say you are with your life these days? *",
          "subset": "Bisexual men"
         },
         {
          "answer": "7",
          "country": "Slovakia",
          "percentage": 22,
          "question_code": "g5",
          "question_label": "All things considered, how satisfied would you say you are with your life these days? *",
          "subset": "Bisexual men"
         },
         {
          "answer": "8",
          "country": "Slovakia",
          "percentage": 15,
          "question_code": "g5",
          "question_label": "All things considered, how satisfied would you say you are with your life these days? *",
          "subset": "Bisexual men"
         },
         {
          "answer": "9",
          "country": "Slovakia",
          "percentage": 3,
          "question_code": "g5",
          "question_label": "All things considered, how satisfied would you say you are with your life these days? *",
          "subset": "Bisexual men"
         },
         {
          "answer": "1",
          "country": "Slovakia",
          "percentage": 8,
          "question_code": "g5",
          "question_label": "All things considered, how satisfied would you say you are with your life these days? *",
          "subset": "Transgender"
         },
         {
          "answer": "10",
          "country": "Slovakia",
          "percentage": 8,
          "question_code": "g5",
          "question_label": "All things considered, how satisfied would you say you are with your life these days? *",
          "subset": "Transgender"
         },
         {
          "answer": "2",
          "country": "Slovakia",
          "percentage": 10,
          "question_code": "g5",
          "question_label": "All things considered, how satisfied would you say you are with your life these days? *",
          "subset": "Transgender"
         },
         {
          "answer": "3",
          "country": "Slovakia",
          "percentage": 13,
          "question_code": "g5",
          "question_label": "All things considered, how satisfied would you say you are with your life these days? *",
          "subset": "Transgender"
         },
         {
          "answer": "4",
          "country": "Slovakia",
          "percentage": 6,
          "question_code": "g5",
          "question_label": "All things considered, how satisfied would you say you are with your life these days? *",
          "subset": "Transgender"
         },
         {
          "answer": "5",
          "country": "Slovakia",
          "percentage": 12,
          "question_code": "g5",
          "question_label": "All things considered, how satisfied would you say you are with your life these days? *",
          "subset": "Transgender"
         },
         {
          "answer": "6",
          "country": "Slovakia",
          "percentage": 12,
          "question_code": "g5",
          "question_label": "All things considered, how satisfied would you say you are with your life these days? *",
          "subset": "Transgender"
         },
         {
          "answer": "7",
          "country": "Slovakia",
          "percentage": 17,
          "question_code": "g5",
          "question_label": "All things considered, how satisfied would you say you are with your life these days? *",
          "subset": "Transgender"
         },
         {
          "answer": "8",
          "country": "Slovakia",
          "percentage": 7,
          "question_code": "g5",
          "question_label": "All things considered, how satisfied would you say you are with your life these days? *",
          "subset": "Transgender"
         },
         {
          "answer": "9",
          "country": "Slovakia",
          "percentage": 7,
          "question_code": "g5",
          "question_label": "All things considered, how satisfied would you say you are with your life these days? *",
          "subset": "Transgender"
         },
         {
          "answer": "1",
          "country": "United Kingdom",
          "percentage": 1,
          "question_code": "g5",
          "question_label": "All things considered, how satisfied would you say you are with your life these days? *",
          "subset": "Lesbian"
         },
         {
          "answer": "10",
          "country": "United Kingdom",
          "percentage": 8,
          "question_code": "g5",
          "question_label": "All things considered, how satisfied would you say you are with your life these days? *",
          "subset": "Lesbian"
         },
         {
          "answer": "2",
          "country": "United Kingdom",
          "percentage": 1,
          "question_code": "g5",
          "question_label": "All things considered, how satisfied would you say you are with your life these days? *",
          "subset": "Lesbian"
         },
         {
          "answer": "3",
          "country": "United Kingdom",
          "percentage": 3,
          "question_code": "g5",
          "question_label": "All things considered, how satisfied would you say you are with your life these days? *",
          "subset": "Lesbian"
         },
         {
          "answer": "4",
          "country": "United Kingdom",
          "percentage": 3,
          "question_code": "g5",
          "question_label": "All things considered, how satisfied would you say you are with your life these days? *",
          "subset": "Lesbian"
         },
         {
          "answer": "5",
          "country": "United Kingdom",
          "percentage": 6,
          "question_code": "g5",
          "question_label": "All things considered, how satisfied would you say you are with your life these days? *",
          "subset": "Lesbian"
         },
         {
          "answer": "6",
          "country": "United Kingdom",
          "percentage": 12,
          "question_code": "g5",
          "question_label": "All things considered, how satisfied would you say you are with your life these days? *",
          "subset": "Lesbian"
         },
         {
          "answer": "7",
          "country": "United Kingdom",
          "percentage": 23,
          "question_code": "g5",
          "question_label": "All things considered, how satisfied would you say you are with your life these days? *",
          "subset": "Lesbian"
         },
         {
          "answer": "8",
          "country": "United Kingdom",
          "percentage": 29,
          "question_code": "g5",
          "question_label": "All things considered, how satisfied would you say you are with your life these days? *",
          "subset": "Lesbian"
         },
         {
          "answer": "9",
          "country": "United Kingdom",
          "percentage": 14,
          "question_code": "g5",
          "question_label": "All things considered, how satisfied would you say you are with your life these days? *",
          "subset": "Lesbian"
         },
         {
          "answer": "1",
          "country": "United Kingdom",
          "percentage": 1,
          "question_code": "g5",
          "question_label": "All things considered, how satisfied would you say you are with your life these days? *",
          "subset": "Gay"
         },
         {
          "answer": "10",
          "country": "United Kingdom",
          "percentage": 6,
          "question_code": "g5",
          "question_label": "All things considered, how satisfied would you say you are with your life these days? *",
          "subset": "Gay"
         },
         {
          "answer": "2",
          "country": "United Kingdom",
          "percentage": 2,
          "question_code": "g5",
          "question_label": "All things considered, how satisfied would you say you are with your life these days? *",
          "subset": "Gay"
         },
         {
          "answer": "3",
          "country": "United Kingdom",
          "percentage": 4,
          "question_code": "g5",
          "question_label": "All things considered, how satisfied would you say you are with your life these days? *",
          "subset": "Gay"
         },
         {
          "answer": "4",
          "country": "United Kingdom",
          "percentage": 4,
          "question_code": "g5",
          "question_label": "All things considered, how satisfied would you say you are with your life these days? *",
          "subset": "Gay"
         },
         {
          "answer": "5",
          "country": "United Kingdom",
          "percentage": 6,
          "question_code": "g5",
          "question_label": "All things considered, how satisfied would you say you are with your life these days? *",
          "subset": "Gay"
         },
         {
          "answer": "6",
          "country": "United Kingdom",
          "percentage": 11,
          "question_code": "g5",
          "question_label": "All things considered, how satisfied would you say you are with your life these days? *",
          "subset": "Gay"
         },
         {
          "answer": "7",
          "country": "United Kingdom",
          "percentage": 23,
          "question_code": "g5",
          "question_label": "All things considered, how satisfied would you say you are with your life these days? *",
          "subset": "Gay"
         },
         {
          "answer": "8",
          "country": "United Kingdom",
          "percentage": 29,
          "question_code": "g5",
          "question_label": "All things considered, how satisfied would you say you are with your life these days? *",
          "subset": "Gay"
         },
         {
          "answer": "9",
          "country": "United Kingdom",
          "percentage": 13,
          "question_code": "g5",
          "question_label": "All things considered, how satisfied would you say you are with your life these days? *",
          "subset": "Gay"
         },
         {
          "answer": "1",
          "country": "United Kingdom",
          "percentage": 1,
          "question_code": "g5",
          "question_label": "All things considered, how satisfied would you say you are with your life these days? *",
          "subset": "Bisexual women"
         },
         {
          "answer": "10",
          "country": "United Kingdom",
          "percentage": 4,
          "question_code": "g5",
          "question_label": "All things considered, how satisfied would you say you are with your life these days? *",
          "subset": "Bisexual women"
         },
         {
          "answer": "2",
          "country": "United Kingdom",
          "percentage": 2,
          "question_code": "g5",
          "question_label": "All things considered, how satisfied would you say you are with your life these days? *",
          "subset": "Bisexual women"
         },
         {
          "answer": "3",
          "country": "United Kingdom",
          "percentage": 3,
          "question_code": "g5",
          "question_label": "All things considered, how satisfied would you say you are with your life these days? *",
          "subset": "Bisexual women"
         },
         {
          "answer": "4",
          "country": "United Kingdom",
          "percentage": 5,
          "question_code": "g5",
          "question_label": "All things considered, how satisfied would you say you are with your life these days? *",
          "subset": "Bisexual women"
         },
         {
          "answer": "5",
          "country": "United Kingdom",
          "percentage": 6,
          "question_code": "g5",
          "question_label": "All things considered, how satisfied would you say you are with your life these days? *",
          "subset": "Bisexual women"
         },
         {
          "answer": "6",
          "country": "United Kingdom",
          "percentage": 14,
          "question_code": "g5",
          "question_label": "All things considered, how satisfied would you say you are with your life these days? *",
          "subset": "Bisexual women"
         },
         {
          "answer": "7",
          "country": "United Kingdom",
          "percentage": 28,
          "question_code": "g5",
          "question_label": "All things considered, how satisfied would you say you are with your life these days? *",
          "subset": "Bisexual women"
         },
         {
          "answer": "8",
          "country": "United Kingdom",
          "percentage": 25,
          "question_code": "g5",
          "question_label": "All things considered, how satisfied would you say you are with your life these days? *",
          "subset": "Bisexual women"
         },
         {
          "answer": "9",
          "country": "United Kingdom",
          "percentage": 13,
          "question_code": "g5",
          "question_label": "All things considered, how satisfied would you say you are with your life these days? *",
          "subset": "Bisexual women"
         },
         {
          "answer": "1",
          "country": "United Kingdom",
          "percentage": 2,
          "question_code": "g5",
          "question_label": "All things considered, how satisfied would you say you are with your life these days? *",
          "subset": "Bisexual men"
         },
         {
          "answer": "10",
          "country": "United Kingdom",
          "percentage": 5,
          "question_code": "g5",
          "question_label": "All things considered, how satisfied would you say you are with your life these days? *",
          "subset": "Bisexual men"
         },
         {
          "answer": "2",
          "country": "United Kingdom",
          "percentage": 4,
          "question_code": "g5",
          "question_label": "All things considered, how satisfied would you say you are with your life these days? *",
          "subset": "Bisexual men"
         },
         {
          "answer": "3",
          "country": "United Kingdom",
          "percentage": 7,
          "question_code": "g5",
          "question_label": "All things considered, how satisfied would you say you are with your life these days? *",
          "subset": "Bisexual men"
         },
         {
          "answer": "4",
          "country": "United Kingdom",
          "percentage": 6,
          "question_code": "g5",
          "question_label": "All things considered, how satisfied would you say you are with your life these days? *",
          "subset": "Bisexual men"
         },
         {
          "answer": "5",
          "country": "United Kingdom",
          "percentage": 13,
          "question_code": "g5",
          "question_label": "All things considered, how satisfied would you say you are with your life these days? *",
          "subset": "Bisexual men"
         },
         {
          "answer": "6",
          "country": "United Kingdom",
          "percentage": 12,
          "question_code": "g5",
          "question_label": "All things considered, how satisfied would you say you are with your life these days? *",
          "subset": "Bisexual men"
         },
         {
          "answer": "7",
          "country": "United Kingdom",
          "percentage": 22,
          "question_code": "g5",
          "question_label": "All things considered, how satisfied would you say you are with your life these days? *",
          "subset": "Bisexual men"
         },
         {
          "answer": "8",
          "country": "United Kingdom",
          "percentage": 17,
          "question_code": "g5",
          "question_label": "All things considered, how satisfied would you say you are with your life these days? *",
          "subset": "Bisexual men"
         },
         {
          "answer": "9",
          "country": "United Kingdom",
          "percentage": 11,
          "question_code": "g5",
          "question_label": "All things considered, how satisfied would you say you are with your life these days? *",
          "subset": "Bisexual men"
         },
         {
          "answer": "1",
          "country": "United Kingdom",
          "percentage": 4,
          "question_code": "g5",
          "question_label": "All things considered, how satisfied would you say you are with your life these days? *",
          "subset": "Transgender"
         },
         {
          "answer": "10",
          "country": "United Kingdom",
          "percentage": 6,
          "question_code": "g5",
          "question_label": "All things considered, how satisfied would you say you are with your life these days? *",
          "subset": "Transgender"
         },
         {
          "answer": "2",
          "country": "United Kingdom",
          "percentage": 5,
          "question_code": "g5",
          "question_label": "All things considered, how satisfied would you say you are with your life these days? *",
          "subset": "Transgender"
         },
         {
          "answer": "3",
          "country": "United Kingdom",
          "percentage": 9,
          "question_code": "g5",
          "question_label": "All things considered, how satisfied would you say you are with your life these days? *",
          "subset": "Transgender"
         },
         {
          "answer": "4",
          "country": "United Kingdom",
          "percentage": 8,
          "question_code": "g5",
          "question_label": "All things considered, how satisfied would you say you are with your life these days? *",
          "subset": "Transgender"
         },
         {
          "answer": "5",
          "country": "United Kingdom",
          "percentage": 9,
          "question_code": "g5",
          "question_label": "All things considered, how satisfied would you say you are with your life these days? *",
          "subset": "Transgender"
         },
         {
          "answer": "6",
          "country": "United Kingdom",
          "percentage": 12,
          "question_code": "g5",
          "question_label": "All things considered, how satisfied would you say you are with your life these days? *",
          "subset": "Transgender"
         },
         {
          "answer": "7",
          "country": "United Kingdom",
          "percentage": 21,
          "question_code": "g5",
          "question_label": "All things considered, how satisfied would you say you are with your life these days? *",
          "subset": "Transgender"
         },
         {
          "answer": "8",
          "country": "United Kingdom",
          "percentage": 17,
          "question_code": "g5",
          "question_label": "All things considered, how satisfied would you say you are with your life these days? *",
          "subset": "Transgender"
         },
         {
          "answer": "9",
          "country": "United Kingdom",
          "percentage": 9,
          "question_code": "g5",
          "question_label": "All things considered, how satisfied would you say you are with your life these days? *",
          "subset": "Transgender"
         },
         {
          "answer": "1",
          "country": "Average",
          "percentage": 1,
          "question_code": "g5",
          "question_label": "All things considered, how satisfied would you say you are with your life these days? *",
          "subset": "Lesbian"
         },
         {
          "answer": "10",
          "country": "Average",
          "percentage": 6,
          "question_code": "g5",
          "question_label": "All things considered, how satisfied would you say you are with your life these days? *",
          "subset": "Lesbian"
         },
         {
          "answer": "2",
          "country": "Average",
          "percentage": 2,
          "question_code": "g5",
          "question_label": "All things considered, how satisfied would you say you are with your life these days? *",
          "subset": "Lesbian"
         },
         {
          "answer": "3",
          "country": "Average",
          "percentage": 4,
          "question_code": "g5",
          "question_label": "All things considered, how satisfied would you say you are with your life these days? *",
          "subset": "Lesbian"
         },
         {
          "answer": "4",
          "country": "Average",
          "percentage": 6,
          "question_code": "g5",
          "question_label": "All things considered, how satisfied would you say you are with your life these days? *",
          "subset": "Lesbian"
         },
         {
          "answer": "5",
          "country": "Average",
          "percentage": 9,
          "question_code": "g5",
          "question_label": "All things considered, how satisfied would you say you are with your life these days? *",
          "subset": "Lesbian"
         },
         {
          "answer": "6",
          "country": "Average",
          "percentage": 13,
          "question_code": "g5",
          "question_label": "All things considered, how satisfied would you say you are with your life these days? *",
          "subset": "Lesbian"
         },
         {
          "answer": "7",
          "country": "Average",
          "percentage": 24,
          "question_code": "g5",
          "question_label": "All things considered, how satisfied would you say you are with your life these days? *",
          "subset": "Lesbian"
         },
         {
          "answer": "8",
          "country": "Average",
          "percentage": 23,
          "question_code": "g5",
          "question_label": "All things considered, how satisfied would you say you are with your life these days? *",
          "subset": "Lesbian"
         },
         {
          "answer": "9",
          "country": "Average",
          "percentage": 11,
          "question_code": "g5",
          "question_label": "All things considered, how satisfied would you say you are with your life these days? *",
          "subset": "Lesbian"
         },
         {
          "answer": "1",
          "country": "Average",
          "percentage": 2,
          "question_code": "g5",
          "question_label": "All things considered, how satisfied would you say you are with your life these days? *",
          "subset": "Gay"
         },
         {
          "answer": "10",
          "country": "Average",
          "percentage": 5,
          "question_code": "g5",
          "question_label": "All things considered, how satisfied would you say you are with your life these days? *",
          "subset": "Gay"
         },
         {
          "answer": "2",
          "country": "Average",
          "percentage": 3,
          "question_code": "g5",
          "question_label": "All things considered, how satisfied would you say you are with your life these days? *",
          "subset": "Gay"
         },
         {
          "answer": "3",
          "country": "Average",
          "percentage": 5,
          "question_code": "g5",
          "question_label": "All things considered, how satisfied would you say you are with your life these days? *",
          "subset": "Gay"
         },
         {
          "answer": "4",
          "country": "Average",
          "percentage": 6,
          "question_code": "g5",
          "question_label": "All things considered, how satisfied would you say you are with your life these days? *",
          "subset": "Gay"
         },
         {
          "answer": "5",
          "country": "Average",
          "percentage": 9,
          "question_code": "g5",
          "question_label": "All things considered, how satisfied would you say you are with your life these days? *",
          "subset": "Gay"
         },
         {
          "answer": "6",
          "country": "Average",
          "percentage": 13,
          "question_code": "g5",
          "question_label": "All things considered, how satisfied would you say you are with your life these days? *",
          "subset": "Gay"
         },
         {
          "answer": "7",
          "country": "Average",
          "percentage": 22,
          "question_code": "g5",
          "question_label": "All things considered, how satisfied would you say you are with your life these days? *",
          "subset": "Gay"
         },
         {
          "answer": "8",
          "country": "Average",
          "percentage": 23,
          "question_code": "g5",
          "question_label": "All things considered, how satisfied would you say you are with your life these days? *",
          "subset": "Gay"
         },
         {
          "answer": "9",
          "country": "Average",
          "percentage": 12,
          "question_code": "g5",
          "question_label": "All things considered, how satisfied would you say you are with your life these days? *",
          "subset": "Gay"
         },
         {
          "answer": "1",
          "country": "Average",
          "percentage": 1,
          "question_code": "g5",
          "question_label": "All things considered, how satisfied would you say you are with your life these days? *",
          "subset": "Bisexual women"
         },
         {
          "answer": "10",
          "country": "Average",
          "percentage": 4,
          "question_code": "g5",
          "question_label": "All things considered, how satisfied would you say you are with your life these days? *",
          "subset": "Bisexual women"
         },
         {
          "answer": "2",
          "country": "Average",
          "percentage": 2,
          "question_code": "g5",
          "question_label": "All things considered, how satisfied would you say you are with your life these days? *",
          "subset": "Bisexual women"
         },
         {
          "answer": "3",
          "country": "Average",
          "percentage": 5,
          "question_code": "g5",
          "question_label": "All things considered, how satisfied would you say you are with your life these days? *",
          "subset": "Bisexual women"
         },
         {
          "answer": "4",
          "country": "Average",
          "percentage": 6,
          "question_code": "g5",
          "question_label": "All things considered, how satisfied would you say you are with your life these days? *",
          "subset": "Bisexual women"
         },
         {
          "answer": "5",
          "country": "Average",
          "percentage": 11,
          "question_code": "g5",
          "question_label": "All things considered, how satisfied would you say you are with your life these days? *",
          "subset": "Bisexual women"
         },
         {
          "answer": "6",
          "country": "Average",
          "percentage": 15,
          "question_code": "g5",
          "question_label": "All things considered, how satisfied would you say you are with your life these days? *",
          "subset": "Bisexual women"
         },
         {
          "answer": "7",
          "country": "Average",
          "percentage": 25,
          "question_code": "g5",
          "question_label": "All things considered, how satisfied would you say you are with your life these days? *",
          "subset": "Bisexual women"
         },
         {
          "answer": "8",
          "country": "Average",
          "percentage": 21,
          "question_code": "g5",
          "question_label": "All things considered, how satisfied would you say you are with your life these days? *",
          "subset": "Bisexual women"
         },
         {
          "answer": "9",
          "country": "Average",
          "percentage": 10,
          "question_code": "g5",
          "question_label": "All things considered, how satisfied would you say you are with your life these days? *",
          "subset": "Bisexual women"
         },
         {
          "answer": "1",
          "country": "Average",
          "percentage": 3,
          "question_code": "g5",
          "question_label": "All things considered, how satisfied would you say you are with your life these days? *",
          "subset": "Bisexual men"
         },
         {
          "answer": "10",
          "country": "Average",
          "percentage": 5,
          "question_code": "g5",
          "question_label": "All things considered, how satisfied would you say you are with your life these days? *",
          "subset": "Bisexual men"
         },
         {
          "answer": "2",
          "country": "Average",
          "percentage": 4,
          "question_code": "g5",
          "question_label": "All things considered, how satisfied would you say you are with your life these days? *",
          "subset": "Bisexual men"
         },
         {
          "answer": "3",
          "country": "Average",
          "percentage": 6,
          "question_code": "g5",
          "question_label": "All things considered, how satisfied would you say you are with your life these days? *",
          "subset": "Bisexual men"
         },
         {
          "answer": "4",
          "country": "Average",
          "percentage": 8,
          "question_code": "g5",
          "question_label": "All things considered, how satisfied would you say you are with your life these days? *",
          "subset": "Bisexual men"
         },
         {
          "answer": "5",
          "country": "Average",
          "percentage": 11,
          "question_code": "g5",
          "question_label": "All things considered, how satisfied would you say you are with your life these days? *",
          "subset": "Bisexual men"
         },
         {
          "answer": "6",
          "country": "Average",
          "percentage": 13,
          "question_code": "g5",
          "question_label": "All things considered, how satisfied would you say you are with your life these days? *",
          "subset": "Bisexual men"
         },
         {
          "answer": "7",
          "country": "Average",
          "percentage": 20,
          "question_code": "g5",
          "question_label": "All things considered, how satisfied would you say you are with your life these days? *",
          "subset": "Bisexual men"
         },
         {
          "answer": "8",
          "country": "Average",
          "percentage": 20,
          "question_code": "g5",
          "question_label": "All things considered, how satisfied would you say you are with your life these days? *",
          "subset": "Bisexual men"
         },
         {
          "answer": "9",
          "country": "Average",
          "percentage": 10,
          "question_code": "g5",
          "question_label": "All things considered, how satisfied would you say you are with your life these days? *",
          "subset": "Bisexual men"
         },
         {
          "answer": "1",
          "country": "Average",
          "percentage": 5,
          "question_code": "g5",
          "question_label": "All things considered, how satisfied would you say you are with your life these days? *",
          "subset": "Transgender"
         },
         {
          "answer": "10",
          "country": "Average",
          "percentage": 6,
          "question_code": "g5",
          "question_label": "All things considered, how satisfied would you say you are with your life these days? *",
          "subset": "Transgender"
         },
         {
          "answer": "2",
          "country": "Average",
          "percentage": 5,
          "question_code": "g5",
          "question_label": "All things considered, how satisfied would you say you are with your life these days? *",
          "subset": "Transgender"
         },
         {
          "answer": "3",
          "country": "Average",
          "percentage": 9,
          "question_code": "g5",
          "question_label": "All things considered, how satisfied would you say you are with your life these days? *",
          "subset": "Transgender"
         },
         {
          "answer": "4",
          "country": "Average",
          "percentage": 9,
          "question_code": "g5",
          "question_label": "All things considered, how satisfied would you say you are with your life these days? *",
          "subset": "Transgender"
         },
         {
          "answer": "5",
          "country": "Average",
          "percentage": 11,
          "question_code": "g5",
          "question_label": "All things considered, how satisfied would you say you are with your life these days? *",
          "subset": "Transgender"
         },
         {
          "answer": "6",
          "country": "Average",
          "percentage": 13,
          "question_code": "g5",
          "question_label": "All things considered, how satisfied would you say you are with your life these days? *",
          "subset": "Transgender"
         },
         {
          "answer": "7",
          "country": "Average",
          "percentage": 18,
          "question_code": "g5",
          "question_label": "All things considered, how satisfied would you say you are with your life these days? *",
          "subset": "Transgender"
         },
         {
          "answer": "8",
          "country": "Average",
          "percentage": 16,
          "question_code": "g5",
          "question_label": "All things considered, how satisfied would you say you are with your life these days? *",
          "subset": "Transgender"
         },
         {
          "answer": "9",
          "country": "Average",
          "percentage": 8,
          "question_code": "g5",
          "question_label": "All things considered, how satisfied would you say you are with your life these days? *",
          "subset": "Transgender"
         }
        ]
       },
       "encoding": {
        "color": {
         "field": "answer",
         "type": "ordinal"
        },
        "row": {
         "field": "country",
         "type": "nominal"
        },
        "x": {
         "field": "percentage",
         "type": "quantitative"
        },
        "y": {
         "field": "subset",
         "type": "nominal"
        }
       },
       "mark": "bar"
      },
      "image/png": "[encoded data removed]",
      "text/plain": [
       "<VegaLite 3 object>\n",
       "\n",
       "If you see this message, it means the renderer has not been properly enabled\n",
       "for the frontend that you are using. For more information, see\n",
       "https://altair-viz.github.io/user_guide/troubleshooting.html\n"
      ]
     },
     "execution_count": 3,
     "metadata": {},
     "output_type": "execute_result"
    }
   ],
   "source": [
    "alt.Chart(daily_life.query(\"question_code == 'g5' \")).mark_bar().encode(\n",
    "    x= 'percentage:Q' ,\n",
    "    y= 'subset:N',\n",
    "    color= 'answer:O',\n",
    "    row= 'country:N'\n",
    ")"
   ]
  },
  {
   "cell_type": "markdown",
   "metadata": {
    "Collapsed": "false"
   },
   "source": [
    "## Ejercicio 2 (1 pto)\n",
    "\n",
    "Para esta parte utilizaremos un conjunto de datos de __Precios de Paltas__, extraído desde [Kaggle](https://www.kaggle.com/neuromusic/avocado-prices).\n",
    "\n",
    "#### Context\n",
    "_It is a well known fact that Millenials LOVE Avocado Toast. It's also a well known fact that all Millenials live in their parents basements._\n",
    "\n",
    "Clearly, they aren't buying home because they are buying too much Avocado Toast!\n",
    "\n",
    "But maybe there's hope... if a Millenial could find a city with cheap avocados, they could live out the Millenial American Dream.\n",
    "\n",
    "#### Content\n",
    "This data was downloaded from the Hass Avocado Board website in May of 2018 & compiled into a single CSV. Here's how the Hass Avocado Board describes the data on their website:\n",
    "\n",
    "> The table below represents weekly 2018 retail scan data for National retail volume (units) and price. Retail scan data comes directly from retailers’ cash registers based on actual retail sales of Hass avocados. Starting in 2013, the table below reflects an expanded, multi-outlet retail data set. Multi-outlet reporting includes an aggregation of the following channels: grocery, mass, club, drug, dollar and military. The Average Price (of avocados) in the table reflects a per unit (per avocado) cost, even when multiple units (avocados) are sold in bags. The Product Lookup codes (PLU’s) in the table are only for Hass avocados. Other varieties of avocados (e.g. greenskins) are not included in this table.\n",
    "\n",
    "Some relevant columns in the dataset:\n",
    "\n",
    "* `Date` - The date of the observation\n",
    "* `AveragePrice` - the average price of a single avocado\n",
    "* `type` - conventional or organic\n",
    "* `year` - the year\n",
    "* `Region` - the city or region of the observation\n",
    "* `Total` Volume - Total number of avocados sold\n",
    "* `4046` - Total number of avocados with PLU 4046 sold\n",
    "* `4225` - Total number of avocados with PLU 4225 sold\n",
    "* `4770` - Total number of avocados with PLU 4770 sold"
   ]
  },
  {
   "cell_type": "markdown",
   "metadata": {
    "Collapsed": "false"
   },
   "source": [
    "Veamos el conjunto de datos y formatémoslo con tal de aprovechar mejor la información"
   ]
  },
  {
   "cell_type": "code",
   "execution_count": 4,
   "metadata": {
    "Collapsed": "false"
   },
   "outputs": [
    {
     "data": {
      "text/html": [
       "<div>\n",
       "<style scoped>\n",
       "    .dataframe tbody tr th:only-of-type {\n",
       "        vertical-align: middle;\n",
       "    }\n",
       "\n",
       "    .dataframe tbody tr th {\n",
       "        vertical-align: top;\n",
       "    }\n",
       "\n",
       "    .dataframe thead th {\n",
       "        text-align: right;\n",
       "    }\n",
       "</style>\n",
       "<table border=\"1\" class=\"dataframe\">\n",
       "  <thead>\n",
       "    <tr style=\"text-align: right;\">\n",
       "      <th></th>\n",
       "      <th>Date</th>\n",
       "      <th>AveragePrice</th>\n",
       "      <th>Total Volume</th>\n",
       "      <th>4046</th>\n",
       "      <th>4225</th>\n",
       "      <th>4770</th>\n",
       "      <th>Total Bags</th>\n",
       "      <th>Small Bags</th>\n",
       "      <th>Large Bags</th>\n",
       "      <th>XLarge Bags</th>\n",
       "      <th>type</th>\n",
       "      <th>year</th>\n",
       "      <th>region</th>\n",
       "    </tr>\n",
       "  </thead>\n",
       "  <tbody>\n",
       "    <tr>\n",
       "      <td>0</td>\n",
       "      <td>2015-12-27</td>\n",
       "      <td>1.33</td>\n",
       "      <td>64236.62</td>\n",
       "      <td>1036.74</td>\n",
       "      <td>54454.85</td>\n",
       "      <td>48.16</td>\n",
       "      <td>8696.87</td>\n",
       "      <td>8603.62</td>\n",
       "      <td>93.25</td>\n",
       "      <td>0.0</td>\n",
       "      <td>conventional</td>\n",
       "      <td>2015</td>\n",
       "      <td>Albany</td>\n",
       "    </tr>\n",
       "    <tr>\n",
       "      <td>1</td>\n",
       "      <td>2015-12-20</td>\n",
       "      <td>1.35</td>\n",
       "      <td>54876.98</td>\n",
       "      <td>674.28</td>\n",
       "      <td>44638.81</td>\n",
       "      <td>58.33</td>\n",
       "      <td>9505.56</td>\n",
       "      <td>9408.07</td>\n",
       "      <td>97.49</td>\n",
       "      <td>0.0</td>\n",
       "      <td>conventional</td>\n",
       "      <td>2015</td>\n",
       "      <td>Albany</td>\n",
       "    </tr>\n",
       "    <tr>\n",
       "      <td>2</td>\n",
       "      <td>2015-12-13</td>\n",
       "      <td>0.93</td>\n",
       "      <td>118220.22</td>\n",
       "      <td>794.70</td>\n",
       "      <td>109149.67</td>\n",
       "      <td>130.50</td>\n",
       "      <td>8145.35</td>\n",
       "      <td>8042.21</td>\n",
       "      <td>103.14</td>\n",
       "      <td>0.0</td>\n",
       "      <td>conventional</td>\n",
       "      <td>2015</td>\n",
       "      <td>Albany</td>\n",
       "    </tr>\n",
       "    <tr>\n",
       "      <td>3</td>\n",
       "      <td>2015-12-06</td>\n",
       "      <td>1.08</td>\n",
       "      <td>78992.15</td>\n",
       "      <td>1132.00</td>\n",
       "      <td>71976.41</td>\n",
       "      <td>72.58</td>\n",
       "      <td>5811.16</td>\n",
       "      <td>5677.40</td>\n",
       "      <td>133.76</td>\n",
       "      <td>0.0</td>\n",
       "      <td>conventional</td>\n",
       "      <td>2015</td>\n",
       "      <td>Albany</td>\n",
       "    </tr>\n",
       "    <tr>\n",
       "      <td>4</td>\n",
       "      <td>2015-11-29</td>\n",
       "      <td>1.28</td>\n",
       "      <td>51039.60</td>\n",
       "      <td>941.48</td>\n",
       "      <td>43838.39</td>\n",
       "      <td>75.78</td>\n",
       "      <td>6183.95</td>\n",
       "      <td>5986.26</td>\n",
       "      <td>197.69</td>\n",
       "      <td>0.0</td>\n",
       "      <td>conventional</td>\n",
       "      <td>2015</td>\n",
       "      <td>Albany</td>\n",
       "    </tr>\n",
       "  </tbody>\n",
       "</table>\n",
       "</div>"
      ],
      "text/plain": [
       "         Date  AveragePrice  Total Volume     4046       4225    4770  \\\n",
       "0  2015-12-27          1.33      64236.62  1036.74   54454.85   48.16   \n",
       "1  2015-12-20          1.35      54876.98   674.28   44638.81   58.33   \n",
       "2  2015-12-13          0.93     118220.22   794.70  109149.67  130.50   \n",
       "3  2015-12-06          1.08      78992.15  1132.00   71976.41   72.58   \n",
       "4  2015-11-29          1.28      51039.60   941.48   43838.39   75.78   \n",
       "\n",
       "   Total Bags  Small Bags  Large Bags  XLarge Bags          type  year  region  \n",
       "0     8696.87     8603.62       93.25          0.0  conventional  2015  Albany  \n",
       "1     9505.56     9408.07       97.49          0.0  conventional  2015  Albany  \n",
       "2     8145.35     8042.21      103.14          0.0  conventional  2015  Albany  \n",
       "3     5811.16     5677.40      133.76          0.0  conventional  2015  Albany  \n",
       "4     6183.95     5986.26      197.69          0.0  conventional  2015  Albany  "
      ]
     },
     "execution_count": 4,
     "metadata": {},
     "output_type": "execute_result"
    }
   ],
   "source": [
    "paltas_raw = pd.read_csv(os.path.join(\"data\", \"avocado.csv\"), index_col=0)\n",
    "paltas_raw.head()"
   ]
  },
  {
   "cell_type": "code",
   "execution_count": 5,
   "metadata": {
    "Collapsed": "false"
   },
   "outputs": [
    {
     "data": {
      "text/html": [
       "<div>\n",
       "<style scoped>\n",
       "    .dataframe tbody tr th:only-of-type {\n",
       "        vertical-align: middle;\n",
       "    }\n",
       "\n",
       "    .dataframe tbody tr th {\n",
       "        vertical-align: top;\n",
       "    }\n",
       "\n",
       "    .dataframe thead th {\n",
       "        text-align: right;\n",
       "    }\n",
       "</style>\n",
       "<table border=\"1\" class=\"dataframe\">\n",
       "  <thead>\n",
       "    <tr style=\"text-align: right;\">\n",
       "      <th></th>\n",
       "      <th>AveragePrice</th>\n",
       "      <th>Total Volume</th>\n",
       "      <th>4046</th>\n",
       "      <th>4225</th>\n",
       "      <th>4770</th>\n",
       "      <th>Total Bags</th>\n",
       "      <th>Small Bags</th>\n",
       "      <th>Large Bags</th>\n",
       "      <th>XLarge Bags</th>\n",
       "      <th>type</th>\n",
       "      <th>region</th>\n",
       "      <th>dt_date</th>\n",
       "    </tr>\n",
       "  </thead>\n",
       "  <tbody>\n",
       "    <tr>\n",
       "      <td>0</td>\n",
       "      <td>1.33</td>\n",
       "      <td>64236.62</td>\n",
       "      <td>1036.74</td>\n",
       "      <td>54454.85</td>\n",
       "      <td>48.16</td>\n",
       "      <td>8696.87</td>\n",
       "      <td>8603.62</td>\n",
       "      <td>93.25</td>\n",
       "      <td>0.0</td>\n",
       "      <td>conventional</td>\n",
       "      <td>Albany</td>\n",
       "      <td>2015-12-27</td>\n",
       "    </tr>\n",
       "    <tr>\n",
       "      <td>1</td>\n",
       "      <td>1.35</td>\n",
       "      <td>54876.98</td>\n",
       "      <td>674.28</td>\n",
       "      <td>44638.81</td>\n",
       "      <td>58.33</td>\n",
       "      <td>9505.56</td>\n",
       "      <td>9408.07</td>\n",
       "      <td>97.49</td>\n",
       "      <td>0.0</td>\n",
       "      <td>conventional</td>\n",
       "      <td>Albany</td>\n",
       "      <td>2015-12-20</td>\n",
       "    </tr>\n",
       "    <tr>\n",
       "      <td>2</td>\n",
       "      <td>0.93</td>\n",
       "      <td>118220.22</td>\n",
       "      <td>794.70</td>\n",
       "      <td>109149.67</td>\n",
       "      <td>130.50</td>\n",
       "      <td>8145.35</td>\n",
       "      <td>8042.21</td>\n",
       "      <td>103.14</td>\n",
       "      <td>0.0</td>\n",
       "      <td>conventional</td>\n",
       "      <td>Albany</td>\n",
       "      <td>2015-12-13</td>\n",
       "    </tr>\n",
       "    <tr>\n",
       "      <td>3</td>\n",
       "      <td>1.08</td>\n",
       "      <td>78992.15</td>\n",
       "      <td>1132.00</td>\n",
       "      <td>71976.41</td>\n",
       "      <td>72.58</td>\n",
       "      <td>5811.16</td>\n",
       "      <td>5677.40</td>\n",
       "      <td>133.76</td>\n",
       "      <td>0.0</td>\n",
       "      <td>conventional</td>\n",
       "      <td>Albany</td>\n",
       "      <td>2015-12-06</td>\n",
       "    </tr>\n",
       "    <tr>\n",
       "      <td>4</td>\n",
       "      <td>1.28</td>\n",
       "      <td>51039.60</td>\n",
       "      <td>941.48</td>\n",
       "      <td>43838.39</td>\n",
       "      <td>75.78</td>\n",
       "      <td>6183.95</td>\n",
       "      <td>5986.26</td>\n",
       "      <td>197.69</td>\n",
       "      <td>0.0</td>\n",
       "      <td>conventional</td>\n",
       "      <td>Albany</td>\n",
       "      <td>2015-11-29</td>\n",
       "    </tr>\n",
       "  </tbody>\n",
       "</table>\n",
       "</div>"
      ],
      "text/plain": [
       "   AveragePrice  Total Volume     4046       4225    4770  Total Bags  \\\n",
       "0          1.33      64236.62  1036.74   54454.85   48.16     8696.87   \n",
       "1          1.35      54876.98   674.28   44638.81   58.33     9505.56   \n",
       "2          0.93     118220.22   794.70  109149.67  130.50     8145.35   \n",
       "3          1.08      78992.15  1132.00   71976.41   72.58     5811.16   \n",
       "4          1.28      51039.60   941.48   43838.39   75.78     6183.95   \n",
       "\n",
       "   Small Bags  Large Bags  XLarge Bags          type  region    dt_date  \n",
       "0     8603.62       93.25          0.0  conventional  Albany 2015-12-27  \n",
       "1     9408.07       97.49          0.0  conventional  Albany 2015-12-20  \n",
       "2     8042.21      103.14          0.0  conventional  Albany 2015-12-13  \n",
       "3     5677.40      133.76          0.0  conventional  Albany 2015-12-06  \n",
       "4     5986.26      197.69          0.0  conventional  Albany 2015-11-29  "
      ]
     },
     "execution_count": 5,
     "metadata": {},
     "output_type": "execute_result"
    }
   ],
   "source": [
    "paltas = (\n",
    "    paltas_raw.assign(\n",
    "        dt_date=lambda x: pd.to_datetime(x[\"Date\"], format=\"%Y-%m-%d\")\n",
    "    )\n",
    "    .drop(columns=[\"Date\", \"year\"])\n",
    ")\n",
    "    \n",
    "paltas.head()"
   ]
  },
  {
   "cell_type": "markdown",
   "metadata": {
    "Collapsed": "false"
   },
   "source": [
    "Haz un gráfico de líneas tal que:\n",
    "\n",
    "* El eje horziontal corresponda a la fecha.\n",
    "* El eje vertical al promedio de precio.\n",
    "* El color sea por tipo de palta."
   ]
  },
  {
   "cell_type": "code",
   "execution_count": 6,
   "metadata": {
    "Collapsed": "false"
   },
   "outputs": [],
   "source": [
    "try:\n",
    "    alt.Chart(paltas).mark_line().encode(\n",
    "            x='dt_date:T',\n",
    "            y='AveragePrice:Q',\n",
    "            color='type:N'\n",
    "        )\n",
    "except:\n",
    "    print(\"Exception?\")"
   ]
  },
  {
   "cell_type": "markdown",
   "metadata": {
    "Collapsed": "false"
   },
   "source": [
    "¿`MaxRowError`? ¿Qué es eso? Para todo el detalle puedes dirigirte [aquí](https://altair-viz.github.io/user_guide/faq.html). En lo que nos concierne, `altair` no solo genera los pixeles de un gráfico, si no que también guarda la data asociada a él. Este error es para advertir al usuario que los jupyter notebooks podrían utilizar mucha memoria. \n",
    "\n",
    "Una buena práctica en estos datos, es generar un archivo `json` con los datos y `altair` es capaz de leer la url directamente. El único inconveniente es que no detecta el tipo de dato automáticamente, por lo que siempre se debe decalrar.\n",
    "\n",
    "Ejecuta la siguiente celda para generar el archivo `json`."
   ]
  },
  {
   "cell_type": "code",
   "execution_count": 7,
   "metadata": {
    "Collapsed": "false"
   },
   "outputs": [
    {
     "data": {
      "text/plain": [
       "DataTransformerRegistry.enable('json')"
      ]
     },
     "execution_count": 7,
     "metadata": {},
     "output_type": "execute_result"
    }
   ],
   "source": [
    "paltas_url = os.path.join(\"data\", \"paltas.json\")\n",
    "paltas.to_json(paltas_url, orient=\"records\")\n",
    "\n",
    "alt.data_transformers.enable('json')  # Para poder leer directamente la url de un archivo json."
   ]
  },
  {
   "cell_type": "markdown",
   "metadata": {
    "Collapsed": "false"
   },
   "source": [
    "Vuelve a intentar generar el gráfico pero como argumento utiliza la url."
   ]
  },
  {
   "cell_type": "code",
   "execution_count": 8,
   "metadata": {
    "Collapsed": "false"
   },
   "outputs": [
    {
     "data": {
      "application/vnd.vegalite.v3+json": {
       "$schema": "https://vega.github.io/schema/vega-lite/v3.4.0.json",
       "config": {
        "background": "white",
        "mark": {
         "tooltip": null
        },
        "view": {
         "height": 300,
         "width": 400
        }
       },
       "data": {
        "url": "data/paltas.json"
       },
       "encoding": {
        "color": {
         "field": "type",
         "type": "nominal"
        },
        "x": {
         "field": "dt_date",
         "type": "temporal"
        },
        "y": {
         "field": "AveragePrice",
         "type": "quantitative"
        }
       },
       "height": 400,
       "mark": "line",
       "width": 800
      },
      "image/png": "[encoded data removed]",
      "text/plain": [
       "<VegaLite 3 object>\n",
       "\n",
       "If you see this message, it means the renderer has not been properly enabled\n",
       "for the frontend that you are using. For more information, see\n",
       "https://altair-viz.github.io/user_guide/troubleshooting.html\n"
      ]
     },
     "execution_count": 8,
     "metadata": {},
     "output_type": "execute_result"
    }
   ],
   "source": [
    "alt.Chart(paltas_url).mark_line().encode(\n",
    "    x=\"dt_date:T\",\n",
    "    y=\"AveragePrice:Q\",\n",
    "    color=\"type:N\"\n",
    ").properties(\n",
    "    width=800, \n",
    "    height=400 \n",
    ")"
   ]
  },
  {
   "cell_type": "markdown",
   "metadata": {
    "Collapsed": "false"
   },
   "source": [
    "## Ejercicio 3 (2 ptos)\n",
    "\n",
    "GEnera un gráfico similar al del gráfico anterior, pero esta vez coloreando por región, es decir, un gráfico de líneas tal que:\n",
    "\n",
    "* El eje horziontal corresponda a la fecha.\n",
    "* El eje vertical al promedio de precio.\n",
    "* El color sea por región."
   ]
  },
  {
   "cell_type": "code",
   "execution_count": 12,
   "metadata": {
    "Collapsed": "false"
   },
   "outputs": [
    {
     "data": {
      "application/vnd.vegalite.v3+json": {
       "$schema": "https://vega.github.io/schema/vega-lite/v3.4.0.json",
       "config": {
        "background": "white",
        "mark": {
         "tooltip": null
        },
        "view": {
         "height": 300,
         "width": 400
        }
       },
       "data": {
        "url": "data/paltas.json"
       },
       "encoding": {
        "color": {
         "field": "type",
         "type": "nominal"
        },
        "x": {
         "field": "dt_date",
         "type": "temporal"
        },
        "y": {
         "field": "AveragePrice",
         "type": "quantitative"
        }
       },
       "height": 400,
       "mark": "line",
       "width": 800
      },
      "image/png": "[encoded data removed]",
      "text/plain": [
       "<VegaLite 3 object>\n",
       "\n",
       "If you see this message, it means the renderer has not been properly enabled\n",
       "for the frontend that you are using. For more information, see\n",
       "https://altair-viz.github.io/user_guide/troubleshooting.html\n"
      ]
     },
     "execution_count": 12,
     "metadata": {},
     "output_type": "execute_result"
    }
   ],
   "source": [
    "alt.Chart(paltas_url).mark_line().encode(\n",
    "    x=\"dt_date:T\",\n",
    "    y=\"AveragePrice:Q\",\n",
    "    color=\"region:N\"\n",
    ").properties(\n",
    "    width=800, \n",
    "    height=400 \n",
    ")"
   ]
  },
  {
   "cell_type": "markdown",
   "metadata": {
    "Collapsed": "false"
   },
   "source": [
    "¿Te parece adecuado y/o que entrega información útil?"
   ]
  },
  {
   "cell_type": "markdown",
   "metadata": {
    "Collapsed": "false"
   },
   "source": [
    "Ahora, para mostrar la misma información, genera un mapa de calor."
   ]
  },
  {
   "cell_type": "code",
   "execution_count": 10,
   "metadata": {
    "Collapsed": "false"
   },
   "outputs": [
    {
     "ename": "SyntaxError",
     "evalue": "invalid syntax (<ipython-input-10-0eb41e14ebf0>, line 3)",
     "output_type": "error",
     "traceback": [
      "\u001b[0;36m  File \u001b[0;32m\"<ipython-input-10-0eb41e14ebf0>\"\u001b[0;36m, line \u001b[0;32m3\u001b[0m\n\u001b[0;31m    color=# FIX ME,\u001b[0m\n\u001b[0m         ^\u001b[0m\n\u001b[0;31mSyntaxError\u001b[0m\u001b[0;31m:\u001b[0m invalid syntax\n"
     ]
    }
   ],
   "source": [
    "alt.Chart(# FIX ME).mark_# FIX ME.encode(\n",
    "    x=# FIX ME,\n",
    "    color=# FIX ME,\n",
    "    y=# FIX ME\n",
    ").properties(\n",
    "    width=800, \n",
    "    height=800 \n",
    ")"
   ]
  }
 ],
 "metadata": {
  "celltoolbar": "Slideshow",
  "kernelspec": {
   "display_name": "Python 3",
   "language": "python",
   "name": "python3"
  },
  "language_info": {
   "codemirror_mode": {
    "name": "ipython",
    "version": 3
   },
   "file_extension": ".py",
   "mimetype": "text/x-python",
   "name": "python",
   "nbconvert_exporter": "python",
   "pygments_lexer": "ipython3",
   "version": "3.7.3"
  }
 },
 "nbformat": 4,
 "nbformat_minor": 4
}
